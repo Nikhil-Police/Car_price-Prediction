{
 "cells": [
  {
   "cell_type": "markdown",
   "id": "f97263fe",
   "metadata": {
    "papermill": {
     "duration": 0.038632,
     "end_time": "2022-07-12T19:12:32.689941",
     "exception": false,
     "start_time": "2022-07-12T19:12:32.651309",
     "status": "completed"
    },
    "tags": []
   },
   "source": [
    "## Importing basic packages from python library"
   ]
  },
  {
   "cell_type": "code",
   "execution_count": 1,
   "id": "61827274",
   "metadata": {
    "execution": {
     "iopub.execute_input": "2022-07-12T19:12:32.770008Z",
     "iopub.status.busy": "2022-07-12T19:12:32.769598Z",
     "iopub.status.idle": "2022-07-12T19:12:34.186438Z",
     "shell.execute_reply": "2022-07-12T19:12:34.184695Z"
    },
    "papermill": {
     "duration": 1.460064,
     "end_time": "2022-07-12T19:12:34.189958",
     "exception": false,
     "start_time": "2022-07-12T19:12:32.729894",
     "status": "completed"
    },
    "tags": []
   },
   "outputs": [],
   "source": [
    "import os\n",
    "import pandas as pd\n",
    "import numpy as np\n",
    "import matplotlib.pyplot as plt\n",
    "import seaborn as sns\n",
    "import warnings\n",
    "from sklearn import preprocessing\n",
    "warnings.filterwarnings('ignore')"
   ]
  },
  {
   "cell_type": "markdown",
   "id": "71c6563f",
   "metadata": {
    "papermill": {
     "duration": 0.037093,
     "end_time": "2022-07-12T19:12:34.264733",
     "exception": false,
     "start_time": "2022-07-12T19:12:34.227640",
     "status": "completed"
    },
    "tags": []
   },
   "source": [
    "## Importing dataset"
   ]
  },
  {
   "cell_type": "code",
   "execution_count": 2,
   "id": "e4e9ea53",
   "metadata": {
    "execution": {
     "iopub.execute_input": "2022-07-12T19:12:34.341943Z",
     "iopub.status.busy": "2022-07-12T19:12:34.341495Z",
     "iopub.status.idle": "2022-07-12T19:12:34.491010Z",
     "shell.execute_reply": "2022-07-12T19:12:34.489433Z"
    },
    "papermill": {
     "duration": 0.191994,
     "end_time": "2022-07-12T19:12:34.494179",
     "exception": false,
     "start_time": "2022-07-12T19:12:34.302185",
     "status": "completed"
    },
    "tags": []
   },
   "outputs": [
    {
     "data": {
      "text/html": [
       "<div>\n",
       "<style scoped>\n",
       "    .dataframe tbody tr th:only-of-type {\n",
       "        vertical-align: middle;\n",
       "    }\n",
       "\n",
       "    .dataframe tbody tr th {\n",
       "        vertical-align: top;\n",
       "    }\n",
       "\n",
       "    .dataframe thead th {\n",
       "        text-align: right;\n",
       "    }\n",
       "</style>\n",
       "<table border=\"1\" class=\"dataframe\">\n",
       "  <thead>\n",
       "    <tr style=\"text-align: right;\">\n",
       "      <th></th>\n",
       "      <th>ID</th>\n",
       "      <th>Price</th>\n",
       "      <th>Levy</th>\n",
       "      <th>Manufacturer</th>\n",
       "      <th>Model</th>\n",
       "      <th>Prod. year</th>\n",
       "      <th>Category</th>\n",
       "      <th>Leather interior</th>\n",
       "      <th>Fuel type</th>\n",
       "      <th>Engine volume</th>\n",
       "      <th>Mileage</th>\n",
       "      <th>Cylinders</th>\n",
       "      <th>Gear box type</th>\n",
       "      <th>Drive wheels</th>\n",
       "      <th>Doors</th>\n",
       "      <th>Wheel</th>\n",
       "      <th>Color</th>\n",
       "      <th>Airbags</th>\n",
       "    </tr>\n",
       "  </thead>\n",
       "  <tbody>\n",
       "    <tr>\n",
       "      <th>0</th>\n",
       "      <td>45654403</td>\n",
       "      <td>13328</td>\n",
       "      <td>1399</td>\n",
       "      <td>LEXUS</td>\n",
       "      <td>RX 450</td>\n",
       "      <td>2010</td>\n",
       "      <td>Jeep</td>\n",
       "      <td>Yes</td>\n",
       "      <td>Hybrid</td>\n",
       "      <td>3.5</td>\n",
       "      <td>186005 km</td>\n",
       "      <td>6.0</td>\n",
       "      <td>Automatic</td>\n",
       "      <td>4x4</td>\n",
       "      <td>04-May</td>\n",
       "      <td>Left wheel</td>\n",
       "      <td>Silver</td>\n",
       "      <td>12</td>\n",
       "    </tr>\n",
       "    <tr>\n",
       "      <th>1</th>\n",
       "      <td>44731507</td>\n",
       "      <td>16621</td>\n",
       "      <td>1018</td>\n",
       "      <td>CHEVROLET</td>\n",
       "      <td>Equinox</td>\n",
       "      <td>2011</td>\n",
       "      <td>Jeep</td>\n",
       "      <td>No</td>\n",
       "      <td>Petrol</td>\n",
       "      <td>3</td>\n",
       "      <td>192000 km</td>\n",
       "      <td>6.0</td>\n",
       "      <td>Tiptronic</td>\n",
       "      <td>4x4</td>\n",
       "      <td>04-May</td>\n",
       "      <td>Left wheel</td>\n",
       "      <td>Black</td>\n",
       "      <td>8</td>\n",
       "    </tr>\n",
       "    <tr>\n",
       "      <th>2</th>\n",
       "      <td>45774419</td>\n",
       "      <td>8467</td>\n",
       "      <td>-</td>\n",
       "      <td>HONDA</td>\n",
       "      <td>FIT</td>\n",
       "      <td>2006</td>\n",
       "      <td>Hatchback</td>\n",
       "      <td>No</td>\n",
       "      <td>Petrol</td>\n",
       "      <td>1.3</td>\n",
       "      <td>200000 km</td>\n",
       "      <td>4.0</td>\n",
       "      <td>Variator</td>\n",
       "      <td>Front</td>\n",
       "      <td>04-May</td>\n",
       "      <td>Right-hand drive</td>\n",
       "      <td>Black</td>\n",
       "      <td>2</td>\n",
       "    </tr>\n",
       "    <tr>\n",
       "      <th>3</th>\n",
       "      <td>45769185</td>\n",
       "      <td>3607</td>\n",
       "      <td>862</td>\n",
       "      <td>FORD</td>\n",
       "      <td>Escape</td>\n",
       "      <td>2011</td>\n",
       "      <td>Jeep</td>\n",
       "      <td>Yes</td>\n",
       "      <td>Hybrid</td>\n",
       "      <td>2.5</td>\n",
       "      <td>168966 km</td>\n",
       "      <td>4.0</td>\n",
       "      <td>Automatic</td>\n",
       "      <td>4x4</td>\n",
       "      <td>04-May</td>\n",
       "      <td>Left wheel</td>\n",
       "      <td>White</td>\n",
       "      <td>0</td>\n",
       "    </tr>\n",
       "    <tr>\n",
       "      <th>4</th>\n",
       "      <td>45809263</td>\n",
       "      <td>11726</td>\n",
       "      <td>446</td>\n",
       "      <td>HONDA</td>\n",
       "      <td>FIT</td>\n",
       "      <td>2014</td>\n",
       "      <td>Hatchback</td>\n",
       "      <td>Yes</td>\n",
       "      <td>Petrol</td>\n",
       "      <td>1.3</td>\n",
       "      <td>91901 km</td>\n",
       "      <td>4.0</td>\n",
       "      <td>Automatic</td>\n",
       "      <td>Front</td>\n",
       "      <td>04-May</td>\n",
       "      <td>Left wheel</td>\n",
       "      <td>Silver</td>\n",
       "      <td>4</td>\n",
       "    </tr>\n",
       "  </tbody>\n",
       "</table>\n",
       "</div>"
      ],
      "text/plain": [
       "         ID  Price  Levy Manufacturer    Model  Prod. year   Category  \\\n",
       "0  45654403  13328  1399        LEXUS   RX 450        2010       Jeep   \n",
       "1  44731507  16621  1018    CHEVROLET  Equinox        2011       Jeep   \n",
       "2  45774419   8467     -        HONDA      FIT        2006  Hatchback   \n",
       "3  45769185   3607   862         FORD   Escape        2011       Jeep   \n",
       "4  45809263  11726   446        HONDA      FIT        2014  Hatchback   \n",
       "\n",
       "  Leather interior Fuel type Engine volume    Mileage  Cylinders  \\\n",
       "0              Yes    Hybrid           3.5  186005 km        6.0   \n",
       "1               No    Petrol             3  192000 km        6.0   \n",
       "2               No    Petrol           1.3  200000 km        4.0   \n",
       "3              Yes    Hybrid           2.5  168966 km        4.0   \n",
       "4              Yes    Petrol           1.3   91901 km        4.0   \n",
       "\n",
       "  Gear box type Drive wheels   Doors             Wheel   Color  Airbags  \n",
       "0     Automatic          4x4  04-May        Left wheel  Silver       12  \n",
       "1     Tiptronic          4x4  04-May        Left wheel   Black        8  \n",
       "2      Variator        Front  04-May  Right-hand drive   Black        2  \n",
       "3     Automatic          4x4  04-May        Left wheel   White        0  \n",
       "4     Automatic        Front  04-May        Left wheel  Silver        4  "
      ]
     },
     "execution_count": 2,
     "metadata": {},
     "output_type": "execute_result"
    }
   ],
   "source": [
    "dataset = pd.read_csv('/kaggle/input/car-price-prediction-challenge/car_price_prediction.csv')\n",
    "dataset.head()"
   ]
  },
  {
   "cell_type": "code",
   "execution_count": 3,
   "id": "490f959d",
   "metadata": {
    "execution": {
     "iopub.execute_input": "2022-07-12T19:12:34.574150Z",
     "iopub.status.busy": "2022-07-12T19:12:34.573450Z",
     "iopub.status.idle": "2022-07-12T19:12:34.633972Z",
     "shell.execute_reply": "2022-07-12T19:12:34.632841Z"
    },
    "papermill": {
     "duration": 0.103758,
     "end_time": "2022-07-12T19:12:34.636842",
     "exception": false,
     "start_time": "2022-07-12T19:12:34.533084",
     "status": "completed"
    },
    "tags": []
   },
   "outputs": [
    {
     "name": "stdout",
     "output_type": "stream",
     "text": [
      "<class 'pandas.core.frame.DataFrame'>\n",
      "RangeIndex: 19237 entries, 0 to 19236\n",
      "Data columns (total 18 columns):\n",
      " #   Column            Non-Null Count  Dtype  \n",
      "---  ------            --------------  -----  \n",
      " 0   ID                19237 non-null  int64  \n",
      " 1   Price             19237 non-null  int64  \n",
      " 2   Levy              19237 non-null  object \n",
      " 3   Manufacturer      19237 non-null  object \n",
      " 4   Model             19237 non-null  object \n",
      " 5   Prod. year        19237 non-null  int64  \n",
      " 6   Category          19237 non-null  object \n",
      " 7   Leather interior  19237 non-null  object \n",
      " 8   Fuel type         19237 non-null  object \n",
      " 9   Engine volume     19237 non-null  object \n",
      " 10  Mileage           19237 non-null  object \n",
      " 11  Cylinders         19237 non-null  float64\n",
      " 12  Gear box type     19237 non-null  object \n",
      " 13  Drive wheels      19237 non-null  object \n",
      " 14  Doors             19237 non-null  object \n",
      " 15  Wheel             19237 non-null  object \n",
      " 16  Color             19237 non-null  object \n",
      " 17  Airbags           19237 non-null  int64  \n",
      "dtypes: float64(1), int64(4), object(13)\n",
      "memory usage: 2.6+ MB\n"
     ]
    }
   ],
   "source": [
    "dataset.info()"
   ]
  },
  {
   "cell_type": "code",
   "execution_count": 4,
   "id": "61d465a3",
   "metadata": {
    "execution": {
     "iopub.execute_input": "2022-07-12T19:12:34.712946Z",
     "iopub.status.busy": "2022-07-12T19:12:34.712191Z",
     "iopub.status.idle": "2022-07-12T19:12:34.749406Z",
     "shell.execute_reply": "2022-07-12T19:12:34.748207Z"
    },
    "papermill": {
     "duration": 0.07779,
     "end_time": "2022-07-12T19:12:34.752092",
     "exception": false,
     "start_time": "2022-07-12T19:12:34.674302",
     "status": "completed"
    },
    "tags": []
   },
   "outputs": [
    {
     "data": {
      "text/plain": [
       "ID                  0\n",
       "Price               0\n",
       "Levy                0\n",
       "Manufacturer        0\n",
       "Model               0\n",
       "Prod. year          0\n",
       "Category            0\n",
       "Leather interior    0\n",
       "Fuel type           0\n",
       "Engine volume       0\n",
       "Mileage             0\n",
       "Cylinders           0\n",
       "Gear box type       0\n",
       "Drive wheels        0\n",
       "Doors               0\n",
       "Wheel               0\n",
       "Color               0\n",
       "Airbags             0\n",
       "dtype: int64"
      ]
     },
     "execution_count": 4,
     "metadata": {},
     "output_type": "execute_result"
    }
   ],
   "source": [
    "dataset.isnull().sum() #No Null Values"
   ]
  },
  {
   "cell_type": "code",
   "execution_count": 5,
   "id": "3028e99f",
   "metadata": {
    "execution": {
     "iopub.execute_input": "2022-07-12T19:12:34.831448Z",
     "iopub.status.busy": "2022-07-12T19:12:34.830662Z",
     "iopub.status.idle": "2022-07-12T19:12:34.836569Z",
     "shell.execute_reply": "2022-07-12T19:12:34.835701Z"
    },
    "papermill": {
     "duration": 0.048497,
     "end_time": "2022-07-12T19:12:34.838797",
     "exception": false,
     "start_time": "2022-07-12T19:12:34.790300",
     "status": "completed"
    },
    "tags": []
   },
   "outputs": [
    {
     "data": {
      "text/plain": [
       "(19237, 18)"
      ]
     },
     "execution_count": 5,
     "metadata": {},
     "output_type": "execute_result"
    }
   ],
   "source": [
    "dataset.shape"
   ]
  },
  {
   "cell_type": "markdown",
   "id": "5719de3b",
   "metadata": {
    "papermill": {
     "duration": 0.040134,
     "end_time": "2022-07-12T19:12:34.916469",
     "exception": false,
     "start_time": "2022-07-12T19:12:34.876335",
     "status": "completed"
    },
    "tags": []
   },
   "source": [
    "#### Checking duplicate values"
   ]
  },
  {
   "cell_type": "code",
   "execution_count": 6,
   "id": "2923f69b",
   "metadata": {
    "execution": {
     "iopub.execute_input": "2022-07-12T19:12:34.994192Z",
     "iopub.status.busy": "2022-07-12T19:12:34.993509Z",
     "iopub.status.idle": "2022-07-12T19:12:35.031638Z",
     "shell.execute_reply": "2022-07-12T19:12:35.030688Z"
    },
    "papermill": {
     "duration": 0.079434,
     "end_time": "2022-07-12T19:12:35.033842",
     "exception": false,
     "start_time": "2022-07-12T19:12:34.954408",
     "status": "completed"
    },
    "tags": []
   },
   "outputs": [
    {
     "data": {
      "text/plain": [
       "313"
      ]
     },
     "execution_count": 6,
     "metadata": {},
     "output_type": "execute_result"
    }
   ],
   "source": [
    "dataset.duplicated().sum()"
   ]
  },
  {
   "cell_type": "code",
   "execution_count": 7,
   "id": "4761692e",
   "metadata": {
    "execution": {
     "iopub.execute_input": "2022-07-12T19:12:35.112994Z",
     "iopub.status.busy": "2022-07-12T19:12:35.111718Z",
     "iopub.status.idle": "2022-07-12T19:12:35.149461Z",
     "shell.execute_reply": "2022-07-12T19:12:35.148392Z"
    },
    "papermill": {
     "duration": 0.079588,
     "end_time": "2022-07-12T19:12:35.152179",
     "exception": false,
     "start_time": "2022-07-12T19:12:35.072591",
     "status": "completed"
    },
    "tags": []
   },
   "outputs": [],
   "source": [
    "dataset = dataset.drop_duplicates()"
   ]
  },
  {
   "cell_type": "code",
   "execution_count": 8,
   "id": "0e4de04f",
   "metadata": {
    "execution": {
     "iopub.execute_input": "2022-07-12T19:12:35.229260Z",
     "iopub.status.busy": "2022-07-12T19:12:35.228545Z",
     "iopub.status.idle": "2022-07-12T19:12:35.234968Z",
     "shell.execute_reply": "2022-07-12T19:12:35.233690Z"
    },
    "papermill": {
     "duration": 0.048288,
     "end_time": "2022-07-12T19:12:35.237903",
     "exception": false,
     "start_time": "2022-07-12T19:12:35.189615",
     "status": "completed"
    },
    "tags": []
   },
   "outputs": [
    {
     "data": {
      "text/plain": [
       "(18924, 18)"
      ]
     },
     "execution_count": 8,
     "metadata": {},
     "output_type": "execute_result"
    }
   ],
   "source": [
    "dataset.shape"
   ]
  },
  {
   "cell_type": "markdown",
   "id": "4fcc355c",
   "metadata": {
    "papermill": {
     "duration": 0.037459,
     "end_time": "2022-07-12T19:12:35.313809",
     "exception": false,
     "start_time": "2022-07-12T19:12:35.276350",
     "status": "completed"
    },
    "tags": []
   },
   "source": [
    "#### There were 313 duplicate values and it has been removed"
   ]
  },
  {
   "cell_type": "markdown",
   "id": "f6f813b6",
   "metadata": {
    "papermill": {
     "duration": 0.039036,
     "end_time": "2022-07-12T19:12:35.390667",
     "exception": false,
     "start_time": "2022-07-12T19:12:35.351631",
     "status": "completed"
    },
    "tags": []
   },
   "source": [
    "### Analysing the independent variables"
   ]
  },
  {
   "cell_type": "code",
   "execution_count": 9,
   "id": "771c96eb",
   "metadata": {
    "execution": {
     "iopub.execute_input": "2022-07-12T19:12:35.468479Z",
     "iopub.status.busy": "2022-07-12T19:12:35.468068Z",
     "iopub.status.idle": "2022-07-12T19:12:35.476791Z",
     "shell.execute_reply": "2022-07-12T19:12:35.475585Z"
    },
    "papermill": {
     "duration": 0.050609,
     "end_time": "2022-07-12T19:12:35.479303",
     "exception": false,
     "start_time": "2022-07-12T19:12:35.428694",
     "status": "completed"
    },
    "tags": []
   },
   "outputs": [
    {
     "data": {
      "text/plain": [
       "0        45654403\n",
       "1        44731507\n",
       "2        45774419\n",
       "3        45769185\n",
       "4        45809263\n",
       "           ...   \n",
       "19232    45798355\n",
       "19233    45778856\n",
       "19234    45804997\n",
       "19235    45793526\n",
       "19236    45813273\n",
       "Name: ID, Length: 18924, dtype: int64"
      ]
     },
     "execution_count": 9,
     "metadata": {},
     "output_type": "execute_result"
    }
   ],
   "source": [
    "dataset['ID']"
   ]
  },
  {
   "cell_type": "code",
   "execution_count": 10,
   "id": "8b776bc0",
   "metadata": {
    "execution": {
     "iopub.execute_input": "2022-07-12T19:12:35.558542Z",
     "iopub.status.busy": "2022-07-12T19:12:35.558139Z",
     "iopub.status.idle": "2022-07-12T19:12:35.567035Z",
     "shell.execute_reply": "2022-07-12T19:12:35.566109Z"
    },
    "papermill": {
     "duration": 0.051056,
     "end_time": "2022-07-12T19:12:35.569223",
     "exception": false,
     "start_time": "2022-07-12T19:12:35.518167",
     "status": "completed"
    },
    "tags": []
   },
   "outputs": [],
   "source": [
    "dataset = dataset.drop(columns='ID',axis=1) #Dropping the ID column as it is less important"
   ]
  },
  {
   "cell_type": "code",
   "execution_count": 11,
   "id": "bf8f39a3",
   "metadata": {
    "execution": {
     "iopub.execute_input": "2022-07-12T19:12:35.646156Z",
     "iopub.status.busy": "2022-07-12T19:12:35.645325Z",
     "iopub.status.idle": "2022-07-12T19:12:35.666518Z",
     "shell.execute_reply": "2022-07-12T19:12:35.665200Z"
    },
    "papermill": {
     "duration": 0.062329,
     "end_time": "2022-07-12T19:12:35.669058",
     "exception": false,
     "start_time": "2022-07-12T19:12:35.606729",
     "status": "completed"
    },
    "tags": []
   },
   "outputs": [
    {
     "data": {
      "text/html": [
       "<div>\n",
       "<style scoped>\n",
       "    .dataframe tbody tr th:only-of-type {\n",
       "        vertical-align: middle;\n",
       "    }\n",
       "\n",
       "    .dataframe tbody tr th {\n",
       "        vertical-align: top;\n",
       "    }\n",
       "\n",
       "    .dataframe thead th {\n",
       "        text-align: right;\n",
       "    }\n",
       "</style>\n",
       "<table border=\"1\" class=\"dataframe\">\n",
       "  <thead>\n",
       "    <tr style=\"text-align: right;\">\n",
       "      <th></th>\n",
       "      <th>Price</th>\n",
       "      <th>Levy</th>\n",
       "      <th>Manufacturer</th>\n",
       "      <th>Model</th>\n",
       "      <th>Prod. year</th>\n",
       "      <th>Category</th>\n",
       "      <th>Leather interior</th>\n",
       "      <th>Fuel type</th>\n",
       "      <th>Engine volume</th>\n",
       "      <th>Mileage</th>\n",
       "      <th>Cylinders</th>\n",
       "      <th>Gear box type</th>\n",
       "      <th>Drive wheels</th>\n",
       "      <th>Doors</th>\n",
       "      <th>Wheel</th>\n",
       "      <th>Color</th>\n",
       "      <th>Airbags</th>\n",
       "    </tr>\n",
       "  </thead>\n",
       "  <tbody>\n",
       "    <tr>\n",
       "      <th>0</th>\n",
       "      <td>13328</td>\n",
       "      <td>1399</td>\n",
       "      <td>LEXUS</td>\n",
       "      <td>RX 450</td>\n",
       "      <td>2010</td>\n",
       "      <td>Jeep</td>\n",
       "      <td>Yes</td>\n",
       "      <td>Hybrid</td>\n",
       "      <td>3.5</td>\n",
       "      <td>186005 km</td>\n",
       "      <td>6.0</td>\n",
       "      <td>Automatic</td>\n",
       "      <td>4x4</td>\n",
       "      <td>04-May</td>\n",
       "      <td>Left wheel</td>\n",
       "      <td>Silver</td>\n",
       "      <td>12</td>\n",
       "    </tr>\n",
       "    <tr>\n",
       "      <th>1</th>\n",
       "      <td>16621</td>\n",
       "      <td>1018</td>\n",
       "      <td>CHEVROLET</td>\n",
       "      <td>Equinox</td>\n",
       "      <td>2011</td>\n",
       "      <td>Jeep</td>\n",
       "      <td>No</td>\n",
       "      <td>Petrol</td>\n",
       "      <td>3</td>\n",
       "      <td>192000 km</td>\n",
       "      <td>6.0</td>\n",
       "      <td>Tiptronic</td>\n",
       "      <td>4x4</td>\n",
       "      <td>04-May</td>\n",
       "      <td>Left wheel</td>\n",
       "      <td>Black</td>\n",
       "      <td>8</td>\n",
       "    </tr>\n",
       "    <tr>\n",
       "      <th>2</th>\n",
       "      <td>8467</td>\n",
       "      <td>-</td>\n",
       "      <td>HONDA</td>\n",
       "      <td>FIT</td>\n",
       "      <td>2006</td>\n",
       "      <td>Hatchback</td>\n",
       "      <td>No</td>\n",
       "      <td>Petrol</td>\n",
       "      <td>1.3</td>\n",
       "      <td>200000 km</td>\n",
       "      <td>4.0</td>\n",
       "      <td>Variator</td>\n",
       "      <td>Front</td>\n",
       "      <td>04-May</td>\n",
       "      <td>Right-hand drive</td>\n",
       "      <td>Black</td>\n",
       "      <td>2</td>\n",
       "    </tr>\n",
       "    <tr>\n",
       "      <th>3</th>\n",
       "      <td>3607</td>\n",
       "      <td>862</td>\n",
       "      <td>FORD</td>\n",
       "      <td>Escape</td>\n",
       "      <td>2011</td>\n",
       "      <td>Jeep</td>\n",
       "      <td>Yes</td>\n",
       "      <td>Hybrid</td>\n",
       "      <td>2.5</td>\n",
       "      <td>168966 km</td>\n",
       "      <td>4.0</td>\n",
       "      <td>Automatic</td>\n",
       "      <td>4x4</td>\n",
       "      <td>04-May</td>\n",
       "      <td>Left wheel</td>\n",
       "      <td>White</td>\n",
       "      <td>0</td>\n",
       "    </tr>\n",
       "    <tr>\n",
       "      <th>4</th>\n",
       "      <td>11726</td>\n",
       "      <td>446</td>\n",
       "      <td>HONDA</td>\n",
       "      <td>FIT</td>\n",
       "      <td>2014</td>\n",
       "      <td>Hatchback</td>\n",
       "      <td>Yes</td>\n",
       "      <td>Petrol</td>\n",
       "      <td>1.3</td>\n",
       "      <td>91901 km</td>\n",
       "      <td>4.0</td>\n",
       "      <td>Automatic</td>\n",
       "      <td>Front</td>\n",
       "      <td>04-May</td>\n",
       "      <td>Left wheel</td>\n",
       "      <td>Silver</td>\n",
       "      <td>4</td>\n",
       "    </tr>\n",
       "  </tbody>\n",
       "</table>\n",
       "</div>"
      ],
      "text/plain": [
       "   Price  Levy Manufacturer    Model  Prod. year   Category Leather interior  \\\n",
       "0  13328  1399        LEXUS   RX 450        2010       Jeep              Yes   \n",
       "1  16621  1018    CHEVROLET  Equinox        2011       Jeep               No   \n",
       "2   8467     -        HONDA      FIT        2006  Hatchback               No   \n",
       "3   3607   862         FORD   Escape        2011       Jeep              Yes   \n",
       "4  11726   446        HONDA      FIT        2014  Hatchback              Yes   \n",
       "\n",
       "  Fuel type Engine volume    Mileage  Cylinders Gear box type Drive wheels  \\\n",
       "0    Hybrid           3.5  186005 km        6.0     Automatic          4x4   \n",
       "1    Petrol             3  192000 km        6.0     Tiptronic          4x4   \n",
       "2    Petrol           1.3  200000 km        4.0      Variator        Front   \n",
       "3    Hybrid           2.5  168966 km        4.0     Automatic          4x4   \n",
       "4    Petrol           1.3   91901 km        4.0     Automatic        Front   \n",
       "\n",
       "    Doors             Wheel   Color  Airbags  \n",
       "0  04-May        Left wheel  Silver       12  \n",
       "1  04-May        Left wheel   Black        8  \n",
       "2  04-May  Right-hand drive   Black        2  \n",
       "3  04-May        Left wheel   White        0  \n",
       "4  04-May        Left wheel  Silver        4  "
      ]
     },
     "execution_count": 11,
     "metadata": {},
     "output_type": "execute_result"
    }
   ],
   "source": [
    "dataset.head()"
   ]
  },
  {
   "cell_type": "code",
   "execution_count": 12,
   "id": "b32322b2",
   "metadata": {
    "execution": {
     "iopub.execute_input": "2022-07-12T19:12:35.746865Z",
     "iopub.status.busy": "2022-07-12T19:12:35.746346Z",
     "iopub.status.idle": "2022-07-12T19:12:35.757153Z",
     "shell.execute_reply": "2022-07-12T19:12:35.755744Z"
    },
    "papermill": {
     "duration": 0.05307,
     "end_time": "2022-07-12T19:12:35.759785",
     "exception": false,
     "start_time": "2022-07-12T19:12:35.706715",
     "status": "completed"
    },
    "tags": []
   },
   "outputs": [
    {
     "data": {
      "text/plain": [
       "0        13328\n",
       "1        16621\n",
       "2         8467\n",
       "3         3607\n",
       "4        11726\n",
       "         ...  \n",
       "19232     8467\n",
       "19233    15681\n",
       "19234    26108\n",
       "19235     5331\n",
       "19236      470\n",
       "Name: Price, Length: 18924, dtype: int64"
      ]
     },
     "execution_count": 12,
     "metadata": {},
     "output_type": "execute_result"
    }
   ],
   "source": [
    "dataset['Price'] "
   ]
  },
  {
   "cell_type": "code",
   "execution_count": 13,
   "id": "97d43d83",
   "metadata": {
    "execution": {
     "iopub.execute_input": "2022-07-12T19:12:35.839555Z",
     "iopub.status.busy": "2022-07-12T19:12:35.839183Z",
     "iopub.status.idle": "2022-07-12T19:12:35.852710Z",
     "shell.execute_reply": "2022-07-12T19:12:35.851790Z"
    },
    "papermill": {
     "duration": 0.057295,
     "end_time": "2022-07-12T19:12:35.855405",
     "exception": false,
     "start_time": "2022-07-12T19:12:35.798110",
     "status": "completed"
    },
    "tags": []
   },
   "outputs": [
    {
     "data": {
      "text/plain": [
       "count    1.892400e+04\n",
       "mean     1.858744e+04\n",
       "std      1.921356e+05\n",
       "min      1.000000e+00\n",
       "25%      5.331000e+03\n",
       "50%      1.317200e+04\n",
       "75%      2.206300e+04\n",
       "max      2.630750e+07\n",
       "Name: Price, dtype: float64"
      ]
     },
     "execution_count": 13,
     "metadata": {},
     "output_type": "execute_result"
    }
   ],
   "source": [
    "dataset['Price'].describe()"
   ]
  },
  {
   "cell_type": "code",
   "execution_count": 14,
   "id": "a25120cf",
   "metadata": {
    "execution": {
     "iopub.execute_input": "2022-07-12T19:12:35.934378Z",
     "iopub.status.busy": "2022-07-12T19:12:35.933798Z",
     "iopub.status.idle": "2022-07-12T19:12:36.395062Z",
     "shell.execute_reply": "2022-07-12T19:12:36.393368Z"
    },
    "papermill": {
     "duration": 0.504391,
     "end_time": "2022-07-12T19:12:36.398015",
     "exception": false,
     "start_time": "2022-07-12T19:12:35.893624",
     "status": "completed"
    },
    "tags": []
   },
   "outputs": [
    {
     "data": {
      "text/plain": [
       "<AxesSubplot:xlabel='Price', ylabel='Density'>"
      ]
     },
     "execution_count": 14,
     "metadata": {},
     "output_type": "execute_result"
    },
    {
     "data": {
      "image/png": "[encoded data removed]",
      "text/plain": [
       "<Figure size 432x288 with 1 Axes>"
      ]
     },
     "metadata": {
      "needs_background": "light"
     },
     "output_type": "display_data"
    }
   ],
   "source": [
    "sns.distplot(np.log10(dataset[\"Price\"]))"
   ]
  },
  {
   "cell_type": "markdown",
   "id": "a918f739",
   "metadata": {
    "papermill": {
     "duration": 0.038151,
     "end_time": "2022-07-12T19:12:36.474844",
     "exception": false,
     "start_time": "2022-07-12T19:12:36.436693",
     "status": "completed"
    },
    "tags": []
   },
   "source": [
    "#### Dependent variable Price has a right skewness"
   ]
  },
  {
   "cell_type": "code",
   "execution_count": 15,
   "id": "6bc8582f",
   "metadata": {
    "execution": {
     "iopub.execute_input": "2022-07-12T19:12:36.554806Z",
     "iopub.status.busy": "2022-07-12T19:12:36.553830Z",
     "iopub.status.idle": "2022-07-12T19:12:36.564552Z",
     "shell.execute_reply": "2022-07-12T19:12:36.563378Z"
    },
    "papermill": {
     "duration": 0.053838,
     "end_time": "2022-07-12T19:12:36.567072",
     "exception": false,
     "start_time": "2022-07-12T19:12:36.513234",
     "status": "completed"
    },
    "tags": []
   },
   "outputs": [
    {
     "data": {
      "text/plain": [
       "0        1399\n",
       "1        1018\n",
       "2           -\n",
       "3         862\n",
       "4         446\n",
       "         ... \n",
       "19232       -\n",
       "19233     831\n",
       "19234     836\n",
       "19235    1288\n",
       "19236     753\n",
       "Name: Levy, Length: 18924, dtype: object"
      ]
     },
     "execution_count": 15,
     "metadata": {},
     "output_type": "execute_result"
    }
   ],
   "source": [
    "dataset['Levy'] "
   ]
  },
  {
   "cell_type": "code",
   "execution_count": 16,
   "id": "274bd025",
   "metadata": {
    "execution": {
     "iopub.execute_input": "2022-07-12T19:12:36.650645Z",
     "iopub.status.busy": "2022-07-12T19:12:36.650220Z",
     "iopub.status.idle": "2022-07-12T19:12:36.664307Z",
     "shell.execute_reply": "2022-07-12T19:12:36.663025Z"
    },
    "papermill": {
     "duration": 0.058723,
     "end_time": "2022-07-12T19:12:36.666800",
     "exception": false,
     "start_time": "2022-07-12T19:12:36.608077",
     "status": "completed"
    },
    "tags": []
   },
   "outputs": [
    {
     "data": {
      "text/plain": [
       "-       5709\n",
       "765      482\n",
       "891      453\n",
       "639      403\n",
       "640      398\n",
       "        ... \n",
       "3156       1\n",
       "2908       1\n",
       "1279       1\n",
       "1719       1\n",
       "1901       1\n",
       "Name: Levy, Length: 559, dtype: int64"
      ]
     },
     "execution_count": 16,
     "metadata": {},
     "output_type": "execute_result"
    }
   ],
   "source": [
    "dataset['Levy'].value_counts()\n",
    "#we have 5819 rows where there is no values specified for the Levy. We assume it as zero and then replace the '-' with zero. "
   ]
  },
  {
   "cell_type": "code",
   "execution_count": 17,
   "id": "e94093b8",
   "metadata": {
    "execution": {
     "iopub.execute_input": "2022-07-12T19:12:36.746308Z",
     "iopub.status.busy": "2022-07-12T19:12:36.745537Z",
     "iopub.status.idle": "2022-07-12T19:12:36.753515Z",
     "shell.execute_reply": "2022-07-12T19:12:36.752455Z"
    },
    "papermill": {
     "duration": 0.049947,
     "end_time": "2022-07-12T19:12:36.755788",
     "exception": false,
     "start_time": "2022-07-12T19:12:36.705841",
     "status": "completed"
    },
    "tags": []
   },
   "outputs": [],
   "source": [
    "dataset['Levy'] = dataset['Levy'].replace('-',0) "
   ]
  },
  {
   "cell_type": "code",
   "execution_count": 18,
   "id": "8b566c2e",
   "metadata": {
    "execution": {
     "iopub.execute_input": "2022-07-12T19:12:36.834341Z",
     "iopub.status.busy": "2022-07-12T19:12:36.833915Z",
     "iopub.status.idle": "2022-07-12T19:12:36.843179Z",
     "shell.execute_reply": "2022-07-12T19:12:36.842046Z"
    },
    "papermill": {
     "duration": 0.0511,
     "end_time": "2022-07-12T19:12:36.845481",
     "exception": false,
     "start_time": "2022-07-12T19:12:36.794381",
     "status": "completed"
    },
    "tags": []
   },
   "outputs": [],
   "source": [
    "dataset['Levy'] = dataset['Levy'].astype(int)"
   ]
  },
  {
   "cell_type": "code",
   "execution_count": 19,
   "id": "d957f358",
   "metadata": {
    "execution": {
     "iopub.execute_input": "2022-07-12T19:12:36.924561Z",
     "iopub.status.busy": "2022-07-12T19:12:36.924156Z",
     "iopub.status.idle": "2022-07-12T19:12:36.936204Z",
     "shell.execute_reply": "2022-07-12T19:12:36.935059Z"
    },
    "papermill": {
     "duration": 0.053853,
     "end_time": "2022-07-12T19:12:36.938521",
     "exception": false,
     "start_time": "2022-07-12T19:12:36.884668",
     "status": "completed"
    },
    "tags": []
   },
   "outputs": [
    {
     "data": {
      "text/plain": [
       "count    18924.000000\n",
       "mean       632.886493\n",
       "std        568.273736\n",
       "min          0.000000\n",
       "25%          0.000000\n",
       "50%        642.000000\n",
       "75%        917.000000\n",
       "max      11714.000000\n",
       "Name: Levy, dtype: float64"
      ]
     },
     "execution_count": 19,
     "metadata": {},
     "output_type": "execute_result"
    }
   ],
   "source": [
    "dataset['Levy'].describe()"
   ]
  },
  {
   "cell_type": "code",
   "execution_count": 20,
   "id": "495844cd",
   "metadata": {
    "execution": {
     "iopub.execute_input": "2022-07-12T19:12:37.018425Z",
     "iopub.status.busy": "2022-07-12T19:12:37.017688Z",
     "iopub.status.idle": "2022-07-12T19:12:37.246947Z",
     "shell.execute_reply": "2022-07-12T19:12:37.245824Z"
    },
    "papermill": {
     "duration": 0.272471,
     "end_time": "2022-07-12T19:12:37.249388",
     "exception": false,
     "start_time": "2022-07-12T19:12:36.976917",
     "status": "completed"
    },
    "tags": []
   },
   "outputs": [
    {
     "data": {
      "image/png": "[encoded data removed]",
      "text/plain": [
       "<Figure size 432x288 with 1 Axes>"
      ]
     },
     "metadata": {
      "needs_background": "light"
     },
     "output_type": "display_data"
    }
   ],
   "source": [
    "plt.scatter(x='Levy',y='Price',data = dataset)\n",
    "plt.xlabel('Levy')\n",
    "plt.ylabel('Price')\n",
    "plt.ticklabel_format(style='plain')\n",
    "plt.show()"
   ]
  },
  {
   "cell_type": "markdown",
   "id": "a556f006",
   "metadata": {
    "papermill": {
     "duration": 0.037588,
     "end_time": "2022-07-12T19:12:37.325173",
     "exception": false,
     "start_time": "2022-07-12T19:12:37.287585",
     "status": "completed"
    },
    "tags": []
   },
   "source": [
    "## Observation from the Levy column\n",
    "#### 1) we can observe that the levy column has majority integer values and also  hyphen('-') as a value. \n",
    "#### 2) we impute those values which has hyphen with zero  and convert the column into float datatype\n",
    "#### 3) Maximum Levy is between 0 and 4000"
   ]
  },
  {
   "cell_type": "code",
   "execution_count": 21,
   "id": "6b83657c",
   "metadata": {
    "execution": {
     "iopub.execute_input": "2022-07-12T19:12:37.403921Z",
     "iopub.status.busy": "2022-07-12T19:12:37.403209Z",
     "iopub.status.idle": "2022-07-12T19:12:37.411937Z",
     "shell.execute_reply": "2022-07-12T19:12:37.410670Z"
    },
    "papermill": {
     "duration": 0.050655,
     "end_time": "2022-07-12T19:12:37.414244",
     "exception": false,
     "start_time": "2022-07-12T19:12:37.363589",
     "status": "completed"
    },
    "tags": []
   },
   "outputs": [
    {
     "data": {
      "text/plain": [
       "0                LEXUS\n",
       "1            CHEVROLET\n",
       "2                HONDA\n",
       "3                 FORD\n",
       "4                HONDA\n",
       "             ...      \n",
       "19232    MERCEDES-BENZ\n",
       "19233          HYUNDAI\n",
       "19234          HYUNDAI\n",
       "19235        CHEVROLET\n",
       "19236          HYUNDAI\n",
       "Name: Manufacturer, Length: 18924, dtype: object"
      ]
     },
     "execution_count": 21,
     "metadata": {},
     "output_type": "execute_result"
    }
   ],
   "source": [
    "dataset['Manufacturer']"
   ]
  },
  {
   "cell_type": "code",
   "execution_count": 22,
   "id": "4e80d72d",
   "metadata": {
    "execution": {
     "iopub.execute_input": "2022-07-12T19:12:37.492946Z",
     "iopub.status.busy": "2022-07-12T19:12:37.492234Z",
     "iopub.status.idle": "2022-07-12T19:12:37.501377Z",
     "shell.execute_reply": "2022-07-12T19:12:37.500332Z"
    },
    "papermill": {
     "duration": 0.051049,
     "end_time": "2022-07-12T19:12:37.503534",
     "exception": false,
     "start_time": "2022-07-12T19:12:37.452485",
     "status": "completed"
    },
    "tags": []
   },
   "outputs": [
    {
     "data": {
      "text/plain": [
       "array(['LEXUS', 'CHEVROLET', 'HONDA', 'FORD', 'HYUNDAI', 'TOYOTA',\n",
       "       'MERCEDES-BENZ', 'OPEL', 'PORSCHE', 'BMW', 'JEEP', 'VOLKSWAGEN',\n",
       "       'AUDI', 'RENAULT', 'NISSAN', 'SUBARU', 'DAEWOO', 'KIA',\n",
       "       'MITSUBISHI', 'SSANGYONG', 'MAZDA', 'GMC', 'FIAT', 'INFINITI',\n",
       "       'ALFA ROMEO', 'SUZUKI', 'ACURA', 'LINCOLN', 'VAZ', 'GAZ',\n",
       "       'CITROEN', 'LAND ROVER', 'MINI', 'DODGE', 'CHRYSLER', 'JAGUAR',\n",
       "       'ISUZU', 'SKODA', 'DAIHATSU', 'BUICK', 'TESLA', 'CADILLAC',\n",
       "       'PEUGEOT', 'BENTLEY', 'VOLVO', 'სხვა', 'HAVAL', 'HUMMER', 'SCION',\n",
       "       'UAZ', 'MERCURY', 'ZAZ', 'ROVER', 'SEAT', 'LANCIA', 'MOSKVICH',\n",
       "       'MASERATI', 'FERRARI', 'SAAB', 'LAMBORGHINI', 'ROLLS-ROYCE',\n",
       "       'PONTIAC', 'SATURN', 'ASTON MARTIN', 'GREATWALL'], dtype=object)"
      ]
     },
     "execution_count": 22,
     "metadata": {},
     "output_type": "execute_result"
    }
   ],
   "source": [
    "dataset['Manufacturer'].unique()"
   ]
  },
  {
   "cell_type": "code",
   "execution_count": 23,
   "id": "7dd3df18",
   "metadata": {
    "execution": {
     "iopub.execute_input": "2022-07-12T19:12:37.582807Z",
     "iopub.status.busy": "2022-07-12T19:12:37.582048Z",
     "iopub.status.idle": "2022-07-12T19:12:38.486790Z",
     "shell.execute_reply": "2022-07-12T19:12:38.485235Z"
    },
    "papermill": {
     "duration": 0.947346,
     "end_time": "2022-07-12T19:12:38.489489",
     "exception": false,
     "start_time": "2022-07-12T19:12:37.542143",
     "status": "completed"
    },
    "tags": []
   },
   "outputs": [
    {
     "data": {
      "text/plain": [
       "[Text(0.5, 0, 'Manufacturer'), Text(0, 0.5, 'Frequency of Manufacturer')]"
      ]
     },
     "execution_count": 23,
     "metadata": {},
     "output_type": "execute_result"
    },
    {
     "data": {
      "image/png": "[encoded data removed]",
      "text/plain": [
       "<Figure size 3600x720 with 1 Axes>"
      ]
     },
     "metadata": {
      "needs_background": "light"
     },
     "output_type": "display_data"
    }
   ],
   "source": [
    "plt.figure(figsize=(50,10))\n",
    "plt.subplot(1,3,1)\n",
    "plt1 = dataset.Manufacturer.value_counts().plot(kind ='bar')\n",
    "plt.title('Manufacturer Histogram')\n",
    "plt1.set(xlabel = 'Manufacturer', ylabel='Frequency of Manufacturer')"
   ]
  },
  {
   "cell_type": "code",
   "execution_count": 24,
   "id": "475ce4e3",
   "metadata": {
    "execution": {
     "iopub.execute_input": "2022-07-12T19:12:38.573525Z",
     "iopub.status.busy": "2022-07-12T19:12:38.573148Z",
     "iopub.status.idle": "2022-07-12T19:12:38.582794Z",
     "shell.execute_reply": "2022-07-12T19:12:38.581593Z"
    },
    "papermill": {
     "duration": 0.055851,
     "end_time": "2022-07-12T19:12:38.585206",
     "exception": false,
     "start_time": "2022-07-12T19:12:38.529355",
     "status": "completed"
    },
    "tags": []
   },
   "outputs": [
    {
     "data": {
      "text/plain": [
       "0         RX 450\n",
       "1        Equinox\n",
       "2            FIT\n",
       "3         Escape\n",
       "4            FIT\n",
       "          ...   \n",
       "19232    CLK 200\n",
       "19233     Sonata\n",
       "19234     Tucson\n",
       "19235    Captiva\n",
       "19236     Sonata\n",
       "Name: Model, Length: 18924, dtype: object"
      ]
     },
     "execution_count": 24,
     "metadata": {},
     "output_type": "execute_result"
    }
   ],
   "source": [
    "dataset['Model']"
   ]
  },
  {
   "cell_type": "code",
   "execution_count": 25,
   "id": "e8337560",
   "metadata": {
    "execution": {
     "iopub.execute_input": "2022-07-12T19:12:38.666846Z",
     "iopub.status.busy": "2022-07-12T19:12:38.666414Z",
     "iopub.status.idle": "2022-07-12T19:12:38.682352Z",
     "shell.execute_reply": "2022-07-12T19:12:38.681189Z"
    },
    "papermill": {
     "duration": 0.059804,
     "end_time": "2022-07-12T19:12:38.684592",
     "exception": false,
     "start_time": "2022-07-12T19:12:38.624788",
     "status": "completed"
    },
    "tags": []
   },
   "outputs": [
    {
     "data": {
      "text/plain": [
       "count     18924\n",
       "unique     1590\n",
       "top       Prius\n",
       "freq       1069\n",
       "Name: Model, dtype: object"
      ]
     },
     "execution_count": 25,
     "metadata": {},
     "output_type": "execute_result"
    }
   ],
   "source": [
    "dataset['Model'].describe()"
   ]
  },
  {
   "cell_type": "markdown",
   "id": "72322932",
   "metadata": {
    "papermill": {
     "duration": 0.041104,
     "end_time": "2022-07-12T19:12:38.765535",
     "exception": false,
     "start_time": "2022-07-12T19:12:38.724431",
     "status": "completed"
    },
    "tags": []
   },
   "source": [
    "### Observations: \n",
    "We can see that 1122 Unique models are there. So it will be better if we merge the Model feature with the respective manufacturer for better accuracy"
   ]
  },
  {
   "cell_type": "code",
   "execution_count": 26,
   "id": "6d7d840c",
   "metadata": {
    "execution": {
     "iopub.execute_input": "2022-07-12T19:12:38.848067Z",
     "iopub.status.busy": "2022-07-12T19:12:38.847641Z",
     "iopub.status.idle": "2022-07-12T19:12:38.861360Z",
     "shell.execute_reply": "2022-07-12T19:12:38.860220Z"
    },
    "papermill": {
     "duration": 0.05796,
     "end_time": "2022-07-12T19:12:38.863450",
     "exception": false,
     "start_time": "2022-07-12T19:12:38.805490",
     "status": "completed"
    },
    "tags": []
   },
   "outputs": [],
   "source": [
    "dataset['Car model'] = dataset['Manufacturer']+' '+ dataset['Model']"
   ]
  },
  {
   "cell_type": "code",
   "execution_count": 27,
   "id": "04b53729",
   "metadata": {
    "execution": {
     "iopub.execute_input": "2022-07-12T19:12:38.947184Z",
     "iopub.status.busy": "2022-07-12T19:12:38.946722Z",
     "iopub.status.idle": "2022-07-12T19:12:38.964448Z",
     "shell.execute_reply": "2022-07-12T19:12:38.962952Z"
    },
    "papermill": {
     "duration": 0.063473,
     "end_time": "2022-07-12T19:12:38.967179",
     "exception": false,
     "start_time": "2022-07-12T19:12:38.903706",
     "status": "completed"
    },
    "tags": []
   },
   "outputs": [],
   "source": [
    "dataset = dataset.drop(['Manufacturer','Model'],axis = 1)"
   ]
  },
  {
   "cell_type": "code",
   "execution_count": 28,
   "id": "ed15e5ae",
   "metadata": {
    "execution": {
     "iopub.execute_input": "2022-07-12T19:12:39.051798Z",
     "iopub.status.busy": "2022-07-12T19:12:39.051277Z",
     "iopub.status.idle": "2022-07-12T19:12:39.072874Z",
     "shell.execute_reply": "2022-07-12T19:12:39.071974Z"
    },
    "papermill": {
     "duration": 0.067071,
     "end_time": "2022-07-12T19:12:39.075608",
     "exception": false,
     "start_time": "2022-07-12T19:12:39.008537",
     "status": "completed"
    },
    "tags": []
   },
   "outputs": [
    {
     "data": {
      "text/html": [
       "<div>\n",
       "<style scoped>\n",
       "    .dataframe tbody tr th:only-of-type {\n",
       "        vertical-align: middle;\n",
       "    }\n",
       "\n",
       "    .dataframe tbody tr th {\n",
       "        vertical-align: top;\n",
       "    }\n",
       "\n",
       "    .dataframe thead th {\n",
       "        text-align: right;\n",
       "    }\n",
       "</style>\n",
       "<table border=\"1\" class=\"dataframe\">\n",
       "  <thead>\n",
       "    <tr style=\"text-align: right;\">\n",
       "      <th></th>\n",
       "      <th>Price</th>\n",
       "      <th>Levy</th>\n",
       "      <th>Prod. year</th>\n",
       "      <th>Category</th>\n",
       "      <th>Leather interior</th>\n",
       "      <th>Fuel type</th>\n",
       "      <th>Engine volume</th>\n",
       "      <th>Mileage</th>\n",
       "      <th>Cylinders</th>\n",
       "      <th>Gear box type</th>\n",
       "      <th>Drive wheels</th>\n",
       "      <th>Doors</th>\n",
       "      <th>Wheel</th>\n",
       "      <th>Color</th>\n",
       "      <th>Airbags</th>\n",
       "      <th>Car model</th>\n",
       "    </tr>\n",
       "  </thead>\n",
       "  <tbody>\n",
       "    <tr>\n",
       "      <th>0</th>\n",
       "      <td>13328</td>\n",
       "      <td>1399</td>\n",
       "      <td>2010</td>\n",
       "      <td>Jeep</td>\n",
       "      <td>Yes</td>\n",
       "      <td>Hybrid</td>\n",
       "      <td>3.5</td>\n",
       "      <td>186005 km</td>\n",
       "      <td>6.0</td>\n",
       "      <td>Automatic</td>\n",
       "      <td>4x4</td>\n",
       "      <td>04-May</td>\n",
       "      <td>Left wheel</td>\n",
       "      <td>Silver</td>\n",
       "      <td>12</td>\n",
       "      <td>LEXUS RX 450</td>\n",
       "    </tr>\n",
       "    <tr>\n",
       "      <th>1</th>\n",
       "      <td>16621</td>\n",
       "      <td>1018</td>\n",
       "      <td>2011</td>\n",
       "      <td>Jeep</td>\n",
       "      <td>No</td>\n",
       "      <td>Petrol</td>\n",
       "      <td>3</td>\n",
       "      <td>192000 km</td>\n",
       "      <td>6.0</td>\n",
       "      <td>Tiptronic</td>\n",
       "      <td>4x4</td>\n",
       "      <td>04-May</td>\n",
       "      <td>Left wheel</td>\n",
       "      <td>Black</td>\n",
       "      <td>8</td>\n",
       "      <td>CHEVROLET Equinox</td>\n",
       "    </tr>\n",
       "    <tr>\n",
       "      <th>2</th>\n",
       "      <td>8467</td>\n",
       "      <td>0</td>\n",
       "      <td>2006</td>\n",
       "      <td>Hatchback</td>\n",
       "      <td>No</td>\n",
       "      <td>Petrol</td>\n",
       "      <td>1.3</td>\n",
       "      <td>200000 km</td>\n",
       "      <td>4.0</td>\n",
       "      <td>Variator</td>\n",
       "      <td>Front</td>\n",
       "      <td>04-May</td>\n",
       "      <td>Right-hand drive</td>\n",
       "      <td>Black</td>\n",
       "      <td>2</td>\n",
       "      <td>HONDA FIT</td>\n",
       "    </tr>\n",
       "    <tr>\n",
       "      <th>3</th>\n",
       "      <td>3607</td>\n",
       "      <td>862</td>\n",
       "      <td>2011</td>\n",
       "      <td>Jeep</td>\n",
       "      <td>Yes</td>\n",
       "      <td>Hybrid</td>\n",
       "      <td>2.5</td>\n",
       "      <td>168966 km</td>\n",
       "      <td>4.0</td>\n",
       "      <td>Automatic</td>\n",
       "      <td>4x4</td>\n",
       "      <td>04-May</td>\n",
       "      <td>Left wheel</td>\n",
       "      <td>White</td>\n",
       "      <td>0</td>\n",
       "      <td>FORD Escape</td>\n",
       "    </tr>\n",
       "    <tr>\n",
       "      <th>4</th>\n",
       "      <td>11726</td>\n",
       "      <td>446</td>\n",
       "      <td>2014</td>\n",
       "      <td>Hatchback</td>\n",
       "      <td>Yes</td>\n",
       "      <td>Petrol</td>\n",
       "      <td>1.3</td>\n",
       "      <td>91901 km</td>\n",
       "      <td>4.0</td>\n",
       "      <td>Automatic</td>\n",
       "      <td>Front</td>\n",
       "      <td>04-May</td>\n",
       "      <td>Left wheel</td>\n",
       "      <td>Silver</td>\n",
       "      <td>4</td>\n",
       "      <td>HONDA FIT</td>\n",
       "    </tr>\n",
       "  </tbody>\n",
       "</table>\n",
       "</div>"
      ],
      "text/plain": [
       "   Price  Levy  Prod. year   Category Leather interior Fuel type  \\\n",
       "0  13328  1399        2010       Jeep              Yes    Hybrid   \n",
       "1  16621  1018        2011       Jeep               No    Petrol   \n",
       "2   8467     0        2006  Hatchback               No    Petrol   \n",
       "3   3607   862        2011       Jeep              Yes    Hybrid   \n",
       "4  11726   446        2014  Hatchback              Yes    Petrol   \n",
       "\n",
       "  Engine volume    Mileage  Cylinders Gear box type Drive wheels   Doors  \\\n",
       "0           3.5  186005 km        6.0     Automatic          4x4  04-May   \n",
       "1             3  192000 km        6.0     Tiptronic          4x4  04-May   \n",
       "2           1.3  200000 km        4.0      Variator        Front  04-May   \n",
       "3           2.5  168966 km        4.0     Automatic          4x4  04-May   \n",
       "4           1.3   91901 km        4.0     Automatic        Front  04-May   \n",
       "\n",
       "              Wheel   Color  Airbags          Car model  \n",
       "0        Left wheel  Silver       12       LEXUS RX 450  \n",
       "1        Left wheel   Black        8  CHEVROLET Equinox  \n",
       "2  Right-hand drive   Black        2          HONDA FIT  \n",
       "3        Left wheel   White        0        FORD Escape  \n",
       "4        Left wheel  Silver        4          HONDA FIT  "
      ]
     },
     "execution_count": 28,
     "metadata": {},
     "output_type": "execute_result"
    }
   ],
   "source": [
    "dataset.head()"
   ]
  },
  {
   "cell_type": "code",
   "execution_count": 29,
   "id": "279f94a8",
   "metadata": {
    "execution": {
     "iopub.execute_input": "2022-07-12T19:12:39.163338Z",
     "iopub.status.busy": "2022-07-12T19:12:39.162890Z",
     "iopub.status.idle": "2022-07-12T19:12:39.171550Z",
     "shell.execute_reply": "2022-07-12T19:12:39.170587Z"
    },
    "papermill": {
     "duration": 0.056743,
     "end_time": "2022-07-12T19:12:39.174216",
     "exception": false,
     "start_time": "2022-07-12T19:12:39.117473",
     "status": "completed"
    },
    "tags": []
   },
   "outputs": [
    {
     "data": {
      "text/plain": [
       "0        2010\n",
       "1        2011\n",
       "2        2006\n",
       "3        2011\n",
       "4        2014\n",
       "         ... \n",
       "19232    1999\n",
       "19233    2011\n",
       "19234    2010\n",
       "19235    2007\n",
       "19236    2012\n",
       "Name: Prod. year, Length: 18924, dtype: int64"
      ]
     },
     "execution_count": 29,
     "metadata": {},
     "output_type": "execute_result"
    }
   ],
   "source": [
    "dataset['Prod. year']"
   ]
  },
  {
   "cell_type": "code",
   "execution_count": 30,
   "id": "9b0629c0",
   "metadata": {
    "execution": {
     "iopub.execute_input": "2022-07-12T19:12:39.261603Z",
     "iopub.status.busy": "2022-07-12T19:12:39.261237Z",
     "iopub.status.idle": "2022-07-12T19:12:39.274036Z",
     "shell.execute_reply": "2022-07-12T19:12:39.272598Z"
    },
    "papermill": {
     "duration": 0.059995,
     "end_time": "2022-07-12T19:12:39.276765",
     "exception": false,
     "start_time": "2022-07-12T19:12:39.216770",
     "status": "completed"
    },
    "tags": []
   },
   "outputs": [
    {
     "data": {
      "text/plain": [
       "count    18924.000000\n",
       "mean      2010.914236\n",
       "std          5.665749\n",
       "min       1939.000000\n",
       "25%       2009.000000\n",
       "50%       2012.000000\n",
       "75%       2015.000000\n",
       "max       2020.000000\n",
       "Name: Prod. year, dtype: float64"
      ]
     },
     "execution_count": 30,
     "metadata": {},
     "output_type": "execute_result"
    }
   ],
   "source": [
    "dataset['Prod. year'].describe()"
   ]
  },
  {
   "cell_type": "code",
   "execution_count": 31,
   "id": "beddd9fa",
   "metadata": {
    "execution": {
     "iopub.execute_input": "2022-07-12T19:12:39.369132Z",
     "iopub.status.busy": "2022-07-12T19:12:39.368744Z",
     "iopub.status.idle": "2022-07-12T19:12:39.600348Z",
     "shell.execute_reply": "2022-07-12T19:12:39.598969Z"
    },
    "papermill": {
     "duration": 0.281361,
     "end_time": "2022-07-12T19:12:39.603531",
     "exception": false,
     "start_time": "2022-07-12T19:12:39.322170",
     "status": "completed"
    },
    "tags": []
   },
   "outputs": [
    {
     "data": {
      "text/plain": [
       "<function matplotlib.pyplot.xlim(*args, **kwargs)>"
      ]
     },
     "execution_count": 31,
     "metadata": {},
     "output_type": "execute_result"
    },
    {
     "data": {
      "image/png": "[encoded data removed]",
      "text/plain": [
       "<Figure size 432x288 with 1 Axes>"
      ]
     },
     "metadata": {
      "needs_background": "light"
     },
     "output_type": "display_data"
    }
   ],
   "source": [
    "plt.scatter(data = dataset,x='Prod. year',y='Price')\n",
    "plt.ticklabel_format(style='plain') \n",
    "plt.ylim(0,500000)\n",
    "plt.xlim"
   ]
  },
  {
   "cell_type": "markdown",
   "id": "771b05ce",
   "metadata": {
    "papermill": {
     "duration": 0.044969,
     "end_time": "2022-07-12T19:12:39.693318",
     "exception": false,
     "start_time": "2022-07-12T19:12:39.648349",
     "status": "completed"
    },
    "tags": []
   },
   "source": [
    "## Observation: \n",
    "Gradual Increase in the price as production year increases"
   ]
  },
  {
   "cell_type": "code",
   "execution_count": 32,
   "id": "9cda312c",
   "metadata": {
    "execution": {
     "iopub.execute_input": "2022-07-12T19:12:39.783886Z",
     "iopub.status.busy": "2022-07-12T19:12:39.783385Z",
     "iopub.status.idle": "2022-07-12T19:12:39.793139Z",
     "shell.execute_reply": "2022-07-12T19:12:39.791845Z"
    },
    "papermill": {
     "duration": 0.05824,
     "end_time": "2022-07-12T19:12:39.795491",
     "exception": false,
     "start_time": "2022-07-12T19:12:39.737251",
     "status": "completed"
    },
    "tags": []
   },
   "outputs": [
    {
     "data": {
      "text/plain": [
       "0             Jeep\n",
       "1             Jeep\n",
       "2        Hatchback\n",
       "3             Jeep\n",
       "4        Hatchback\n",
       "           ...    \n",
       "19232        Coupe\n",
       "19233        Sedan\n",
       "19234         Jeep\n",
       "19235         Jeep\n",
       "19236        Sedan\n",
       "Name: Category, Length: 18924, dtype: object"
      ]
     },
     "execution_count": 32,
     "metadata": {},
     "output_type": "execute_result"
    }
   ],
   "source": [
    "dataset['Category']"
   ]
  },
  {
   "cell_type": "code",
   "execution_count": 33,
   "id": "94abd258",
   "metadata": {
    "execution": {
     "iopub.execute_input": "2022-07-12T19:12:39.883639Z",
     "iopub.status.busy": "2022-07-12T19:12:39.883201Z",
     "iopub.status.idle": "2022-07-12T19:12:39.897238Z",
     "shell.execute_reply": "2022-07-12T19:12:39.896195Z"
    },
    "papermill": {
     "duration": 0.060756,
     "end_time": "2022-07-12T19:12:39.899428",
     "exception": false,
     "start_time": "2022-07-12T19:12:39.838672",
     "status": "completed"
    },
    "tags": []
   },
   "outputs": [
    {
     "data": {
      "text/plain": [
       "count     18924\n",
       "unique       11\n",
       "top       Sedan\n",
       "freq       8600\n",
       "Name: Category, dtype: object"
      ]
     },
     "execution_count": 33,
     "metadata": {},
     "output_type": "execute_result"
    }
   ],
   "source": [
    "dataset['Category'].describe()"
   ]
  },
  {
   "cell_type": "code",
   "execution_count": 34,
   "id": "5c993036",
   "metadata": {
    "execution": {
     "iopub.execute_input": "2022-07-12T19:12:39.986376Z",
     "iopub.status.busy": "2022-07-12T19:12:39.985663Z",
     "iopub.status.idle": "2022-07-12T19:12:40.312730Z",
     "shell.execute_reply": "2022-07-12T19:12:40.311322Z"
    },
    "papermill": {
     "duration": 0.374105,
     "end_time": "2022-07-12T19:12:40.315792",
     "exception": false,
     "start_time": "2022-07-12T19:12:39.941687",
     "status": "completed"
    },
    "tags": []
   },
   "outputs": [
    {
     "data": {
      "text/plain": [
       "[Text(0, 0, '5378'),\n",
       " Text(0, 0, '2799'),\n",
       " Text(0, 0, '8600'),\n",
       " Text(0, 0, '299'),\n",
       " Text(0, 0, '229'),\n",
       " Text(0, 0, '361'),\n",
       " Text(0, 0, '528'),\n",
       " Text(0, 0, '633'),\n",
       " Text(0, 0, '35'),\n",
       " Text(0, 0, '11'),\n",
       " Text(0, 0, '51')]"
      ]
     },
     "execution_count": 34,
     "metadata": {},
     "output_type": "execute_result"
    },
    {
     "data": {
      "image/png": "[encoded data removed]",
      "text/plain": [
       "<Figure size 720x576 with 1 Axes>"
      ]
     },
     "metadata": {
      "needs_background": "light"
     },
     "output_type": "display_data"
    }
   ],
   "source": [
    "plt.figure(figsize=(10,8))\n",
    "ax = sns.countplot(x='Category',data=dataset)\n",
    "ax.bar_label(ax.containers[0])"
   ]
  },
  {
   "cell_type": "markdown",
   "id": "258f3a15",
   "metadata": {
    "papermill": {
     "duration": 0.042125,
     "end_time": "2022-07-12T19:12:40.400570",
     "exception": false,
     "start_time": "2022-07-12T19:12:40.358445",
     "status": "completed"
    },
    "tags": []
   },
   "source": [
    "## Observation: \n",
    "### Sedan category is the highest in number(7127) followed by Jeep(3884) and Hatchback(2595)"
   ]
  },
  {
   "cell_type": "code",
   "execution_count": 35,
   "id": "78e4d106",
   "metadata": {
    "execution": {
     "iopub.execute_input": "2022-07-12T19:12:40.487298Z",
     "iopub.status.busy": "2022-07-12T19:12:40.486463Z",
     "iopub.status.idle": "2022-07-12T19:12:40.494989Z",
     "shell.execute_reply": "2022-07-12T19:12:40.494163Z"
    },
    "papermill": {
     "duration": 0.054311,
     "end_time": "2022-07-12T19:12:40.497072",
     "exception": false,
     "start_time": "2022-07-12T19:12:40.442761",
     "status": "completed"
    },
    "tags": []
   },
   "outputs": [
    {
     "data": {
      "text/plain": [
       "0        Yes\n",
       "1         No\n",
       "2         No\n",
       "3        Yes\n",
       "4        Yes\n",
       "        ... \n",
       "19232    Yes\n",
       "19233    Yes\n",
       "19234    Yes\n",
       "19235    Yes\n",
       "19236    Yes\n",
       "Name: Leather interior, Length: 18924, dtype: object"
      ]
     },
     "execution_count": 35,
     "metadata": {},
     "output_type": "execute_result"
    }
   ],
   "source": [
    "dataset['Leather interior']"
   ]
  },
  {
   "cell_type": "code",
   "execution_count": 36,
   "id": "7599ac04",
   "metadata": {
    "execution": {
     "iopub.execute_input": "2022-07-12T19:12:40.586380Z",
     "iopub.status.busy": "2022-07-12T19:12:40.585564Z",
     "iopub.status.idle": "2022-07-12T19:12:40.593958Z",
     "shell.execute_reply": "2022-07-12T19:12:40.593060Z"
    },
    "papermill": {
     "duration": 0.056667,
     "end_time": "2022-07-12T19:12:40.596260",
     "exception": false,
     "start_time": "2022-07-12T19:12:40.539593",
     "status": "completed"
    },
    "tags": []
   },
   "outputs": [
    {
     "data": {
      "text/plain": [
       "array(['Yes', 'No'], dtype=object)"
      ]
     },
     "execution_count": 36,
     "metadata": {},
     "output_type": "execute_result"
    }
   ],
   "source": [
    "dataset['Leather interior'].unique()"
   ]
  },
  {
   "cell_type": "code",
   "execution_count": 37,
   "id": "72b2121b",
   "metadata": {
    "execution": {
     "iopub.execute_input": "2022-07-12T19:12:40.686135Z",
     "iopub.status.busy": "2022-07-12T19:12:40.685277Z",
     "iopub.status.idle": "2022-07-12T19:12:40.890379Z",
     "shell.execute_reply": "2022-07-12T19:12:40.888941Z"
    },
    "papermill": {
     "duration": 0.253591,
     "end_time": "2022-07-12T19:12:40.893281",
     "exception": false,
     "start_time": "2022-07-12T19:12:40.639690",
     "status": "completed"
    },
    "tags": []
   },
   "outputs": [
    {
     "data": {
      "text/plain": [
       "[Text(0, 0, '13731'), Text(0, 0, '5193')]"
      ]
     },
     "execution_count": 37,
     "metadata": {},
     "output_type": "execute_result"
    },
    {
     "data": {
      "image/png": "[encoded data removed]",
      "text/plain": [
       "<Figure size 432x288 with 1 Axes>"
      ]
     },
     "metadata": {
      "needs_background": "light"
     },
     "output_type": "display_data"
    }
   ],
   "source": [
    "ax = sns.countplot(x='Leather interior',data=dataset)\n",
    "ax.bar_label(ax.containers[0])"
   ]
  },
  {
   "cell_type": "markdown",
   "id": "6417982b",
   "metadata": {
    "papermill": {
     "duration": 0.045883,
     "end_time": "2022-07-12T19:12:40.985411",
     "exception": false,
     "start_time": "2022-07-12T19:12:40.939528",
     "status": "completed"
    },
    "tags": []
   },
   "source": [
    "#### More than twice the amount of cars(11046) has leather interior compared to the ones which dont(4189)"
   ]
  },
  {
   "cell_type": "code",
   "execution_count": 38,
   "id": "04509898",
   "metadata": {
    "execution": {
     "iopub.execute_input": "2022-07-12T19:12:41.090871Z",
     "iopub.status.busy": "2022-07-12T19:12:41.090324Z",
     "iopub.status.idle": "2022-07-12T19:12:41.103257Z",
     "shell.execute_reply": "2022-07-12T19:12:41.101666Z"
    },
    "papermill": {
     "duration": 0.073902,
     "end_time": "2022-07-12T19:12:41.106827",
     "exception": false,
     "start_time": "2022-07-12T19:12:41.032925",
     "status": "completed"
    },
    "tags": []
   },
   "outputs": [
    {
     "data": {
      "text/plain": [
       "0        Hybrid\n",
       "1        Petrol\n",
       "2        Petrol\n",
       "3        Hybrid\n",
       "4        Petrol\n",
       "          ...  \n",
       "19232       CNG\n",
       "19233    Petrol\n",
       "19234    Diesel\n",
       "19235    Diesel\n",
       "19236    Hybrid\n",
       "Name: Fuel type, Length: 18924, dtype: object"
      ]
     },
     "execution_count": 38,
     "metadata": {},
     "output_type": "execute_result"
    }
   ],
   "source": [
    "dataset['Fuel type']"
   ]
  },
  {
   "cell_type": "code",
   "execution_count": 39,
   "id": "9d71ecaf",
   "metadata": {
    "execution": {
     "iopub.execute_input": "2022-07-12T19:12:41.210111Z",
     "iopub.status.busy": "2022-07-12T19:12:41.209088Z",
     "iopub.status.idle": "2022-07-12T19:12:41.216946Z",
     "shell.execute_reply": "2022-07-12T19:12:41.216220Z"
    },
    "papermill": {
     "duration": 0.056822,
     "end_time": "2022-07-12T19:12:41.219205",
     "exception": false,
     "start_time": "2022-07-12T19:12:41.162383",
     "status": "completed"
    },
    "tags": []
   },
   "outputs": [
    {
     "data": {
      "text/plain": [
       "array(['Hybrid', 'Petrol', 'Diesel', 'CNG', 'Plug-in Hybrid', 'LPG',\n",
       "       'Hydrogen'], dtype=object)"
      ]
     },
     "execution_count": 39,
     "metadata": {},
     "output_type": "execute_result"
    }
   ],
   "source": [
    "dataset['Fuel type'].unique()"
   ]
  },
  {
   "cell_type": "code",
   "execution_count": 40,
   "id": "d9058b52",
   "metadata": {
    "execution": {
     "iopub.execute_input": "2022-07-12T19:12:41.311132Z",
     "iopub.status.busy": "2022-07-12T19:12:41.310461Z",
     "iopub.status.idle": "2022-07-12T19:12:41.550292Z",
     "shell.execute_reply": "2022-07-12T19:12:41.549492Z"
    },
    "papermill": {
     "duration": 0.289604,
     "end_time": "2022-07-12T19:12:41.552791",
     "exception": false,
     "start_time": "2022-07-12T19:12:41.263187",
     "status": "completed"
    },
    "tags": []
   },
   "outputs": [
    {
     "data": {
      "text/plain": [
       "[Text(0, 0, '3539'),\n",
       " Text(0, 0, '9944'),\n",
       " Text(0, 0, '4001'),\n",
       " Text(0, 0, '469'),\n",
       " Text(0, 0, '85'),\n",
       " Text(0, 0, '885'),\n",
       " Text(0, 0, '1')]"
      ]
     },
     "execution_count": 40,
     "metadata": {},
     "output_type": "execute_result"
    },
    {
     "data": {
      "image/png": "[encoded data removed]",
      "text/plain": [
       "<Figure size 432x288 with 1 Axes>"
      ]
     },
     "metadata": {
      "needs_background": "light"
     },
     "output_type": "display_data"
    }
   ],
   "source": [
    "ax = sns.countplot(x='Fuel type',data=dataset)\n",
    "ax.bar_label(ax.containers[0])"
   ]
  },
  {
   "cell_type": "markdown",
   "id": "03018066",
   "metadata": {
    "papermill": {
     "duration": 0.044447,
     "end_time": "2022-07-12T19:12:41.642352",
     "exception": false,
     "start_time": "2022-07-12T19:12:41.597905",
     "status": "completed"
    },
    "tags": []
   },
   "source": [
    "### 7685 cars have petrol engine followed by diesel engine with 3378 and 3320 cars which have hybrid engine. Only 1 car runs on Hydrogen as fuel"
   ]
  },
  {
   "cell_type": "code",
   "execution_count": 41,
   "id": "790203b1",
   "metadata": {
    "execution": {
     "iopub.execute_input": "2022-07-12T19:12:41.733950Z",
     "iopub.status.busy": "2022-07-12T19:12:41.733270Z",
     "iopub.status.idle": "2022-07-12T19:12:41.741110Z",
     "shell.execute_reply": "2022-07-12T19:12:41.739818Z"
    },
    "papermill": {
     "duration": 0.056599,
     "end_time": "2022-07-12T19:12:41.743702",
     "exception": false,
     "start_time": "2022-07-12T19:12:41.687103",
     "status": "completed"
    },
    "tags": []
   },
   "outputs": [
    {
     "data": {
      "text/plain": [
       "0              3.5\n",
       "1                3\n",
       "2              1.3\n",
       "3              2.5\n",
       "4              1.3\n",
       "           ...    \n",
       "19232    2.0 Turbo\n",
       "19233          2.4\n",
       "19234            2\n",
       "19235            2\n",
       "19236          2.4\n",
       "Name: Engine volume, Length: 18924, dtype: object"
      ]
     },
     "execution_count": 41,
     "metadata": {},
     "output_type": "execute_result"
    }
   ],
   "source": [
    "dataset['Engine volume']"
   ]
  },
  {
   "cell_type": "code",
   "execution_count": 42,
   "id": "3f1aa604",
   "metadata": {
    "execution": {
     "iopub.execute_input": "2022-07-12T19:12:41.837881Z",
     "iopub.status.busy": "2022-07-12T19:12:41.837457Z",
     "iopub.status.idle": "2022-07-12T19:12:41.846648Z",
     "shell.execute_reply": "2022-07-12T19:12:41.845366Z"
    },
    "papermill": {
     "duration": 0.059347,
     "end_time": "2022-07-12T19:12:41.849224",
     "exception": false,
     "start_time": "2022-07-12T19:12:41.789877",
     "status": "completed"
    },
    "tags": []
   },
   "outputs": [
    {
     "data": {
      "text/plain": [
       "array(['3.5', '3', '1.3', '2.5', '2', '1.8', '2.4', '4', '1.6', '3.3',\n",
       "       '2.0 Turbo', '2.2 Turbo', '4.7', '1.5', '4.4', '3.0 Turbo',\n",
       "       '1.4 Turbo', '3.6', '2.3', '1.5 Turbo', '1.6 Turbo', '2.2',\n",
       "       '2.3 Turbo', '1.4', '5.5', '2.8 Turbo', '3.2', '3.8', '4.6', '1.2',\n",
       "       '5', '1.7', '2.9', '0.5', '1.8 Turbo', '2.4 Turbo', '3.5 Turbo',\n",
       "       '1.9', '2.7', '4.8', '5.3', '0.4', '2.8', '3.2 Turbo', '1.1',\n",
       "       '2.1', '0.7', '5.4', '1.3 Turbo', '3.7', '1', '2.5 Turbo', '2.6',\n",
       "       '1.9 Turbo', '4.4 Turbo', '4.7 Turbo', '0.8', '0.2 Turbo', '5.7',\n",
       "       '4.8 Turbo', '4.6 Turbo', '6.7', '6.2', '1.2 Turbo', '3.4',\n",
       "       '1.7 Turbo', '6.3 Turbo', '2.7 Turbo', '4.3', '4.2', '2.9 Turbo',\n",
       "       '0', '4.0 Turbo', '20', '3.6 Turbo', '0.3', '3.7 Turbo', '5.9',\n",
       "       '5.5 Turbo', '0.2', '2.1 Turbo', '5.6', '6', '0.7 Turbo',\n",
       "       '0.6 Turbo', '6.8', '4.5', '0.6', '7.3', '0.1', '1.0 Turbo', '6.3',\n",
       "       '4.5 Turbo', '0.8 Turbo', '4.2 Turbo', '3.1', '5.0 Turbo', '6.4',\n",
       "       '3.9', '5.7 Turbo', '0.9', '0.4 Turbo', '5.4 Turbo', '0.3 Turbo',\n",
       "       '5.2', '5.8', '1.1 Turbo'], dtype=object)"
      ]
     },
     "execution_count": 42,
     "metadata": {},
     "output_type": "execute_result"
    }
   ],
   "source": [
    "dataset['Engine volume'].unique() \n",
    "#We have turbo and non turbo engine volume types. So we split the types into a new column called Engine volume type"
   ]
  },
  {
   "cell_type": "code",
   "execution_count": 43,
   "id": "ab594830",
   "metadata": {
    "execution": {
     "iopub.execute_input": "2022-07-12T19:12:42.002801Z",
     "iopub.status.busy": "2022-07-12T19:12:42.002403Z",
     "iopub.status.idle": "2022-07-12T19:12:42.055196Z",
     "shell.execute_reply": "2022-07-12T19:12:42.054210Z"
    },
    "papermill": {
     "duration": 0.101514,
     "end_time": "2022-07-12T19:12:42.057826",
     "exception": false,
     "start_time": "2022-07-12T19:12:41.956312",
     "status": "completed"
    },
    "tags": []
   },
   "outputs": [],
   "source": [
    "dataset['Engine volume Type']=dataset['Engine volume'].replace(['2.0 Turbo', '2.2 Turbo','3.0 Turbo','1.4 Turbo','1.5 Turbo', '1.6 Turbo','2.3 Turbo','2.8 Turbo','1.8 Turbo', '2.4 Turbo', '3.5 Turbo', '3.2 Turbo','1.3 Turbo','2.5 Turbo','1.9 Turbo', '4.4 Turbo', '4.7 Turbo', '0.2 Turbo','4.8 Turbo', '4.6 Turbo','1.2 Turbo','1.7 Turbo', '6.3 Turbo', '2.7 Turbo','2.9 Turbo', '4.0 Turbo','3.6 Turbo','3.7 Turbo','5.5 Turbo','2.1 Turbo','0.7 Turbo', '0.6 Turbo','1.0 Turbo', '4.5 Turbo', '0.8 Turbo', '4.2 Turbo', '3.1', '5.0 Turbo','5.7 Turbo','0.4 Turbo', '5.4 Turbo', '0.3 Turbo','1.1 Turbo'],'Turbo')"
   ]
  },
  {
   "cell_type": "code",
   "execution_count": 44,
   "id": "8de3c200",
   "metadata": {
    "execution": {
     "iopub.execute_input": "2022-07-12T19:12:42.152325Z",
     "iopub.status.busy": "2022-07-12T19:12:42.151223Z",
     "iopub.status.idle": "2022-07-12T19:12:42.235926Z",
     "shell.execute_reply": "2022-07-12T19:12:42.234582Z"
    },
    "papermill": {
     "duration": 0.135222,
     "end_time": "2022-07-12T19:12:42.239060",
     "exception": false,
     "start_time": "2022-07-12T19:12:42.103838",
     "status": "completed"
    },
    "tags": []
   },
   "outputs": [],
   "source": [
    "dataset['Engine volume Type']=dataset['Engine volume Type'].replace(['3.5','3','1.3','2.5','2','1.8','2.4','4','1.6','3.3','4.7','1.5','4.4','3.6','2.3','2.2','1.4','5.5','3.2','3.8','4.6','1.2','5', '1.7', '2.9', '0.5','1.9','2.7','4.8','5.3','0.4','2.8','1.1','2.1','0.7','5.4','3.7','1','2.6','5.7','3.4','4.3','4.2','5.9','6.8','4.5','0.6','7.3','0.1','6.3','6.4','5.2','5.8','0.8', '6.7', '6.2', '0', '20', '0.3', '0.2','5.6', '6', '3.9', '0.9'],'Non-Turbo')"
   ]
  },
  {
   "cell_type": "code",
   "execution_count": 45,
   "id": "8fd18627",
   "metadata": {
    "execution": {
     "iopub.execute_input": "2022-07-12T19:12:42.330889Z",
     "iopub.status.busy": "2022-07-12T19:12:42.329171Z",
     "iopub.status.idle": "2022-07-12T19:12:42.340109Z",
     "shell.execute_reply": "2022-07-12T19:12:42.338877Z"
    },
    "papermill": {
     "duration": 0.059279,
     "end_time": "2022-07-12T19:12:42.342732",
     "exception": false,
     "start_time": "2022-07-12T19:12:42.283453",
     "status": "completed"
    },
    "tags": []
   },
   "outputs": [
    {
     "data": {
      "text/plain": [
       "array(['Non-Turbo', 'Turbo'], dtype=object)"
      ]
     },
     "execution_count": 45,
     "metadata": {},
     "output_type": "execute_result"
    }
   ],
   "source": [
    "dataset['Engine volume Type'].unique()"
   ]
  },
  {
   "cell_type": "code",
   "execution_count": 46,
   "id": "0089936a",
   "metadata": {
    "execution": {
     "iopub.execute_input": "2022-07-12T19:12:42.432395Z",
     "iopub.status.busy": "2022-07-12T19:12:42.431996Z",
     "iopub.status.idle": "2022-07-12T19:12:42.633861Z",
     "shell.execute_reply": "2022-07-12T19:12:42.632703Z"
    },
    "papermill": {
     "duration": 0.249358,
     "end_time": "2022-07-12T19:12:42.636322",
     "exception": false,
     "start_time": "2022-07-12T19:12:42.386964",
     "status": "completed"
    },
    "tags": []
   },
   "outputs": [
    {
     "data": {
      "text/plain": [
       "[Text(0, 0, '17031'), Text(0, 0, '1893')]"
      ]
     },
     "execution_count": 46,
     "metadata": {},
     "output_type": "execute_result"
    },
    {
     "data": {
      "image/png": "[encoded data removed]",
      "text/plain": [
       "<Figure size 432x288 with 1 Axes>"
      ]
     },
     "metadata": {
      "needs_background": "light"
     },
     "output_type": "display_data"
    }
   ],
   "source": [
    "ax = sns.countplot(x='Engine volume Type',data=dataset)\n",
    "ax.bar_label(ax.containers[0])"
   ]
  },
  {
   "cell_type": "markdown",
   "id": "d5fcbcda",
   "metadata": {
    "papermill": {
     "duration": 0.044083,
     "end_time": "2022-07-12T19:12:42.726392",
     "exception": false,
     "start_time": "2022-07-12T19:12:42.682309",
     "status": "completed"
    },
    "tags": []
   },
   "source": [
    "## Observation: \n",
    "#### We have 13761 Non Turbo Engine and 1474 Turbo Engines"
   ]
  },
  {
   "cell_type": "code",
   "execution_count": 47,
   "id": "8088e8db",
   "metadata": {
    "execution": {
     "iopub.execute_input": "2022-07-12T19:12:42.819297Z",
     "iopub.status.busy": "2022-07-12T19:12:42.818511Z",
     "iopub.status.idle": "2022-07-12T19:12:42.841689Z",
     "shell.execute_reply": "2022-07-12T19:12:42.840365Z"
    },
    "papermill": {
     "duration": 0.073653,
     "end_time": "2022-07-12T19:12:42.844311",
     "exception": false,
     "start_time": "2022-07-12T19:12:42.770658",
     "status": "completed"
    },
    "tags": []
   },
   "outputs": [],
   "source": [
    "dataset['Engine volume']=dataset['Engine volume'].str.replace('Turbo','')"
   ]
  },
  {
   "cell_type": "code",
   "execution_count": 48,
   "id": "9f269e7f",
   "metadata": {
    "execution": {
     "iopub.execute_input": "2022-07-12T19:12:42.938435Z",
     "iopub.status.busy": "2022-07-12T19:12:42.937995Z",
     "iopub.status.idle": "2022-07-12T19:12:42.950242Z",
     "shell.execute_reply": "2022-07-12T19:12:42.949203Z"
    },
    "papermill": {
     "duration": 0.060855,
     "end_time": "2022-07-12T19:12:42.952697",
     "exception": false,
     "start_time": "2022-07-12T19:12:42.891842",
     "status": "completed"
    },
    "tags": []
   },
   "outputs": [],
   "source": [
    "dataset['Engine volume']=dataset['Engine volume'].astype(float)"
   ]
  },
  {
   "cell_type": "code",
   "execution_count": 49,
   "id": "75a9f239",
   "metadata": {
    "execution": {
     "iopub.execute_input": "2022-07-12T19:12:43.044019Z",
     "iopub.status.busy": "2022-07-12T19:12:43.043214Z",
     "iopub.status.idle": "2022-07-12T19:12:43.055902Z",
     "shell.execute_reply": "2022-07-12T19:12:43.054885Z"
    },
    "papermill": {
     "duration": 0.06135,
     "end_time": "2022-07-12T19:12:43.058349",
     "exception": false,
     "start_time": "2022-07-12T19:12:42.996999",
     "status": "completed"
    },
    "tags": []
   },
   "outputs": [
    {
     "data": {
      "text/plain": [
       "count    18924.000000\n",
       "mean         2.306251\n",
       "std          0.877591\n",
       "min          0.000000\n",
       "25%          1.800000\n",
       "50%          2.000000\n",
       "75%          2.500000\n",
       "max         20.000000\n",
       "Name: Engine volume, dtype: float64"
      ]
     },
     "execution_count": 49,
     "metadata": {},
     "output_type": "execute_result"
    }
   ],
   "source": [
    "dataset['Engine volume'].describe()"
   ]
  },
  {
   "cell_type": "code",
   "execution_count": 50,
   "id": "86b6573d",
   "metadata": {
    "execution": {
     "iopub.execute_input": "2022-07-12T19:12:43.149409Z",
     "iopub.status.busy": "2022-07-12T19:12:43.148690Z",
     "iopub.status.idle": "2022-07-12T19:12:43.413335Z",
     "shell.execute_reply": "2022-07-12T19:12:43.412310Z"
    },
    "papermill": {
     "duration": 0.313069,
     "end_time": "2022-07-12T19:12:43.415634",
     "exception": false,
     "start_time": "2022-07-12T19:12:43.102565",
     "status": "completed"
    },
    "tags": []
   },
   "outputs": [
    {
     "data": {
      "text/plain": [
       "<AxesSubplot:xlabel='Engine volume', ylabel='Price'>"
      ]
     },
     "execution_count": 50,
     "metadata": {},
     "output_type": "execute_result"
    },
    {
     "data": {
      "image/png": "[encoded data removed]",
      "text/plain": [
       "<Figure size 432x288 with 1 Axes>"
      ]
     },
     "metadata": {
      "needs_background": "light"
     },
     "output_type": "display_data"
    }
   ],
   "source": [
    "sns.scatterplot(data = dataset,x='Engine volume',y='Price')"
   ]
  },
  {
   "cell_type": "markdown",
   "id": "8264be69",
   "metadata": {
    "papermill": {
     "duration": 0.044484,
     "end_time": "2022-07-12T19:12:43.505301",
     "exception": false,
     "start_time": "2022-07-12T19:12:43.460817",
     "status": "completed"
    },
    "tags": []
   },
   "source": [
    "## Observations: \n",
    "Maximum number of vehicles have engine volume between 0 and 7.5.\n",
    "Price and engine volume have low correlation because some cars has higher price with same enginge volume"
   ]
  },
  {
   "cell_type": "code",
   "execution_count": 51,
   "id": "7975c92f",
   "metadata": {
    "execution": {
     "iopub.execute_input": "2022-07-12T19:12:43.597689Z",
     "iopub.status.busy": "2022-07-12T19:12:43.596883Z",
     "iopub.status.idle": "2022-07-12T19:12:43.606080Z",
     "shell.execute_reply": "2022-07-12T19:12:43.605156Z"
    },
    "papermill": {
     "duration": 0.058,
     "end_time": "2022-07-12T19:12:43.608316",
     "exception": false,
     "start_time": "2022-07-12T19:12:43.550316",
     "status": "completed"
    },
    "tags": []
   },
   "outputs": [
    {
     "data": {
      "text/plain": [
       "0        186005 km\n",
       "1        192000 km\n",
       "2        200000 km\n",
       "3        168966 km\n",
       "4         91901 km\n",
       "           ...    \n",
       "19232    300000 km\n",
       "19233    161600 km\n",
       "19234    116365 km\n",
       "19235     51258 km\n",
       "19236    186923 km\n",
       "Name: Mileage, Length: 18924, dtype: object"
      ]
     },
     "execution_count": 51,
     "metadata": {},
     "output_type": "execute_result"
    }
   ],
   "source": [
    "dataset['Mileage']"
   ]
  },
  {
   "cell_type": "code",
   "execution_count": 52,
   "id": "009d514f",
   "metadata": {
    "execution": {
     "iopub.execute_input": "2022-07-12T19:12:43.701164Z",
     "iopub.status.busy": "2022-07-12T19:12:43.700302Z",
     "iopub.status.idle": "2022-07-12T19:12:43.727716Z",
     "shell.execute_reply": "2022-07-12T19:12:43.726540Z"
    },
    "papermill": {
     "duration": 0.076978,
     "end_time": "2022-07-12T19:12:43.730294",
     "exception": false,
     "start_time": "2022-07-12T19:12:43.653316",
     "status": "completed"
    },
    "tags": []
   },
   "outputs": [],
   "source": [
    "dataset['Mileage']=dataset['Mileage'].str.replace('km',' ') #Remove the km in the mileage"
   ]
  },
  {
   "cell_type": "code",
   "execution_count": 53,
   "id": "1d9187ec",
   "metadata": {
    "execution": {
     "iopub.execute_input": "2022-07-12T19:12:43.825036Z",
     "iopub.status.busy": "2022-07-12T19:12:43.824279Z",
     "iopub.status.idle": "2022-07-12T19:12:43.837649Z",
     "shell.execute_reply": "2022-07-12T19:12:43.836000Z"
    },
    "papermill": {
     "duration": 0.065161,
     "end_time": "2022-07-12T19:12:43.840489",
     "exception": false,
     "start_time": "2022-07-12T19:12:43.775328",
     "status": "completed"
    },
    "tags": []
   },
   "outputs": [],
   "source": [
    "dataset['Mileage']=dataset['Mileage'].astype(int) #converting into int"
   ]
  },
  {
   "cell_type": "code",
   "execution_count": 54,
   "id": "e2935da2",
   "metadata": {
    "execution": {
     "iopub.execute_input": "2022-07-12T19:12:43.933405Z",
     "iopub.status.busy": "2022-07-12T19:12:43.932625Z",
     "iopub.status.idle": "2022-07-12T19:12:43.944759Z",
     "shell.execute_reply": "2022-07-12T19:12:43.943392Z"
    },
    "papermill": {
     "duration": 0.061553,
     "end_time": "2022-07-12T19:12:43.947396",
     "exception": false,
     "start_time": "2022-07-12T19:12:43.885843",
     "status": "completed"
    },
    "tags": []
   },
   "outputs": [
    {
     "data": {
      "text/plain": [
       "count    1.892400e+04\n",
       "mean     1.555373e+06\n",
       "std      4.880221e+07\n",
       "min      0.000000e+00\n",
       "25%      7.019575e+04\n",
       "50%      1.264000e+05\n",
       "75%      1.891198e+05\n",
       "max      2.147484e+09\n",
       "Name: Mileage, dtype: float64"
      ]
     },
     "execution_count": 54,
     "metadata": {},
     "output_type": "execute_result"
    }
   ],
   "source": [
    "dataset['Mileage'].describe()"
   ]
  },
  {
   "cell_type": "code",
   "execution_count": 55,
   "id": "852fbfcd",
   "metadata": {
    "execution": {
     "iopub.execute_input": "2022-07-12T19:12:44.042143Z",
     "iopub.status.busy": "2022-07-12T19:12:44.041687Z",
     "iopub.status.idle": "2022-07-12T19:12:44.051942Z",
     "shell.execute_reply": "2022-07-12T19:12:44.050582Z"
    },
    "papermill": {
     "duration": 0.060535,
     "end_time": "2022-07-12T19:12:44.054311",
     "exception": false,
     "start_time": "2022-07-12T19:12:43.993776",
     "status": "completed"
    },
    "tags": []
   },
   "outputs": [
    {
     "data": {
      "text/plain": [
       "0        6.0\n",
       "1        6.0\n",
       "2        4.0\n",
       "3        4.0\n",
       "4        4.0\n",
       "        ... \n",
       "19232    4.0\n",
       "19233    4.0\n",
       "19234    4.0\n",
       "19235    4.0\n",
       "19236    4.0\n",
       "Name: Cylinders, Length: 18924, dtype: float64"
      ]
     },
     "execution_count": 55,
     "metadata": {},
     "output_type": "execute_result"
    }
   ],
   "source": [
    "dataset['Cylinders']"
   ]
  },
  {
   "cell_type": "code",
   "execution_count": 56,
   "id": "fc4b5b6c",
   "metadata": {
    "execution": {
     "iopub.execute_input": "2022-07-12T19:12:44.148654Z",
     "iopub.status.busy": "2022-07-12T19:12:44.147755Z",
     "iopub.status.idle": "2022-07-12T19:12:44.155521Z",
     "shell.execute_reply": "2022-07-12T19:12:44.154607Z"
    },
    "papermill": {
     "duration": 0.058046,
     "end_time": "2022-07-12T19:12:44.157671",
     "exception": false,
     "start_time": "2022-07-12T19:12:44.099625",
     "status": "completed"
    },
    "tags": []
   },
   "outputs": [
    {
     "data": {
      "text/plain": [
       "array([ 6.,  4.,  8.,  1., 12.,  3.,  2., 16.,  5.,  7.,  9., 10., 14.])"
      ]
     },
     "execution_count": 56,
     "metadata": {},
     "output_type": "execute_result"
    }
   ],
   "source": [
    "dataset['Cylinders'].unique()"
   ]
  },
  {
   "cell_type": "code",
   "execution_count": 57,
   "id": "07ee7881",
   "metadata": {
    "execution": {
     "iopub.execute_input": "2022-07-12T19:12:44.251409Z",
     "iopub.status.busy": "2022-07-12T19:12:44.250576Z",
     "iopub.status.idle": "2022-07-12T19:12:44.516654Z",
     "shell.execute_reply": "2022-07-12T19:12:44.515325Z"
    },
    "papermill": {
     "duration": 0.316122,
     "end_time": "2022-07-12T19:12:44.519426",
     "exception": false,
     "start_time": "2022-07-12T19:12:44.203304",
     "status": "completed"
    },
    "tags": []
   },
   "outputs": [
    {
     "data": {
      "text/plain": [
       "<AxesSubplot:xlabel='Cylinders', ylabel='Price'>"
      ]
     },
     "execution_count": 57,
     "metadata": {},
     "output_type": "execute_result"
    },
    {
     "data": {
      "image/png": "[encoded data removed]",
      "text/plain": [
       "<Figure size 432x288 with 1 Axes>"
      ]
     },
     "metadata": {
      "needs_background": "light"
     },
     "output_type": "display_data"
    }
   ],
   "source": [
    "sns.scatterplot(data = dataset,x='Cylinders',y='Price')"
   ]
  },
  {
   "cell_type": "code",
   "execution_count": 58,
   "id": "c9cbbe36",
   "metadata": {
    "execution": {
     "iopub.execute_input": "2022-07-12T19:12:44.615619Z",
     "iopub.status.busy": "2022-07-12T19:12:44.615112Z",
     "iopub.status.idle": "2022-07-12T19:12:44.633730Z",
     "shell.execute_reply": "2022-07-12T19:12:44.632529Z"
    },
    "papermill": {
     "duration": 0.069528,
     "end_time": "2022-07-12T19:12:44.636283",
     "exception": false,
     "start_time": "2022-07-12T19:12:44.566755",
     "status": "completed"
    },
    "tags": []
   },
   "outputs": [],
   "source": [
    "dataset=dataset.drop('Cylinders',axis=1)"
   ]
  },
  {
   "cell_type": "code",
   "execution_count": 59,
   "id": "e53b8bb2",
   "metadata": {
    "execution": {
     "iopub.execute_input": "2022-07-12T19:12:44.731012Z",
     "iopub.status.busy": "2022-07-12T19:12:44.730349Z",
     "iopub.status.idle": "2022-07-12T19:12:44.738703Z",
     "shell.execute_reply": "2022-07-12T19:12:44.737733Z"
    },
    "papermill": {
     "duration": 0.058547,
     "end_time": "2022-07-12T19:12:44.740837",
     "exception": false,
     "start_time": "2022-07-12T19:12:44.682290",
     "status": "completed"
    },
    "tags": []
   },
   "outputs": [
    {
     "data": {
      "text/plain": [
       "0        Automatic\n",
       "1        Tiptronic\n",
       "2         Variator\n",
       "3        Automatic\n",
       "4        Automatic\n",
       "           ...    \n",
       "19232       Manual\n",
       "19233    Tiptronic\n",
       "19234    Automatic\n",
       "19235    Automatic\n",
       "19236    Automatic\n",
       "Name: Gear box type, Length: 18924, dtype: object"
      ]
     },
     "execution_count": 59,
     "metadata": {},
     "output_type": "execute_result"
    }
   ],
   "source": [
    "dataset['Gear box type']"
   ]
  },
  {
   "cell_type": "code",
   "execution_count": 60,
   "id": "52f55ddf",
   "metadata": {
    "execution": {
     "iopub.execute_input": "2022-07-12T19:12:44.838877Z",
     "iopub.status.busy": "2022-07-12T19:12:44.838059Z",
     "iopub.status.idle": "2022-07-12T19:12:44.846772Z",
     "shell.execute_reply": "2022-07-12T19:12:44.845346Z"
    },
    "papermill": {
     "duration": 0.06189,
     "end_time": "2022-07-12T19:12:44.849050",
     "exception": false,
     "start_time": "2022-07-12T19:12:44.787160",
     "status": "completed"
    },
    "tags": []
   },
   "outputs": [
    {
     "data": {
      "text/plain": [
       "array(['Automatic', 'Tiptronic', 'Variator', 'Manual'], dtype=object)"
      ]
     },
     "execution_count": 60,
     "metadata": {},
     "output_type": "execute_result"
    }
   ],
   "source": [
    "dataset['Gear box type'].unique()"
   ]
  },
  {
   "cell_type": "code",
   "execution_count": 61,
   "id": "d85ac1f3",
   "metadata": {
    "execution": {
     "iopub.execute_input": "2022-07-12T19:12:44.945849Z",
     "iopub.status.busy": "2022-07-12T19:12:44.945157Z",
     "iopub.status.idle": "2022-07-12T19:12:45.180950Z",
     "shell.execute_reply": "2022-07-12T19:12:45.179353Z"
    },
    "papermill": {
     "duration": 0.286599,
     "end_time": "2022-07-12T19:12:45.183683",
     "exception": false,
     "start_time": "2022-07-12T19:12:44.897084",
     "status": "completed"
    },
    "tags": []
   },
   "outputs": [
    {
     "data": {
      "text/plain": [
       "[Text(0, 0, '13282'),\n",
       " Text(0, 0, '3065'),\n",
       " Text(0, 0, '733'),\n",
       " Text(0, 0, '1844')]"
      ]
     },
     "execution_count": 61,
     "metadata": {},
     "output_type": "execute_result"
    },
    {
     "data": {
      "image/png": "[encoded data removed]",
      "text/plain": [
       "<Figure size 432x288 with 1 Axes>"
      ]
     },
     "metadata": {
      "needs_background": "light"
     },
     "output_type": "display_data"
    }
   ],
   "source": [
    "ax = sns.countplot(x='Gear box type',data=dataset)\n",
    "ax.bar_label(ax.containers[0])"
   ]
  },
  {
   "cell_type": "markdown",
   "id": "99c2795e",
   "metadata": {
    "papermill": {
     "duration": 0.045967,
     "end_time": "2022-07-12T19:12:45.276141",
     "exception": false,
     "start_time": "2022-07-12T19:12:45.230174",
     "status": "completed"
    },
    "tags": []
   },
   "source": [
    "### Majority cars have automatic gear(11060) followed by Tiptronic(2421) and Manual(1047)"
   ]
  },
  {
   "cell_type": "code",
   "execution_count": 62,
   "id": "c5621d66",
   "metadata": {
    "execution": {
     "iopub.execute_input": "2022-07-12T19:12:45.371773Z",
     "iopub.status.busy": "2022-07-12T19:12:45.370664Z",
     "iopub.status.idle": "2022-07-12T19:12:45.380795Z",
     "shell.execute_reply": "2022-07-12T19:12:45.379878Z"
    },
    "papermill": {
     "duration": 0.060113,
     "end_time": "2022-07-12T19:12:45.383213",
     "exception": false,
     "start_time": "2022-07-12T19:12:45.323100",
     "status": "completed"
    },
    "tags": []
   },
   "outputs": [
    {
     "data": {
      "text/plain": [
       "0          4x4\n",
       "1          4x4\n",
       "2        Front\n",
       "3          4x4\n",
       "4        Front\n",
       "         ...  \n",
       "19232     Rear\n",
       "19233    Front\n",
       "19234    Front\n",
       "19235    Front\n",
       "19236    Front\n",
       "Name: Drive wheels, Length: 18924, dtype: object"
      ]
     },
     "execution_count": 62,
     "metadata": {},
     "output_type": "execute_result"
    }
   ],
   "source": [
    "dataset['Drive wheels']"
   ]
  },
  {
   "cell_type": "code",
   "execution_count": 63,
   "id": "743cbf36",
   "metadata": {
    "execution": {
     "iopub.execute_input": "2022-07-12T19:12:45.480480Z",
     "iopub.status.busy": "2022-07-12T19:12:45.480000Z",
     "iopub.status.idle": "2022-07-12T19:12:45.490233Z",
     "shell.execute_reply": "2022-07-12T19:12:45.488879Z"
    },
    "papermill": {
     "duration": 0.062275,
     "end_time": "2022-07-12T19:12:45.492488",
     "exception": false,
     "start_time": "2022-07-12T19:12:45.430213",
     "status": "completed"
    },
    "tags": []
   },
   "outputs": [
    {
     "data": {
      "text/plain": [
       "array(['4x4', 'Front', 'Rear'], dtype=object)"
      ]
     },
     "execution_count": 63,
     "metadata": {},
     "output_type": "execute_result"
    }
   ],
   "source": [
    "dataset['Drive wheels'].unique()"
   ]
  },
  {
   "cell_type": "code",
   "execution_count": 64,
   "id": "55e8be39",
   "metadata": {
    "execution": {
     "iopub.execute_input": "2022-07-12T19:12:45.590132Z",
     "iopub.status.busy": "2022-07-12T19:12:45.589445Z",
     "iopub.status.idle": "2022-07-12T19:12:45.803825Z",
     "shell.execute_reply": "2022-07-12T19:12:45.802589Z"
    },
    "papermill": {
     "duration": 0.266246,
     "end_time": "2022-07-12T19:12:45.806217",
     "exception": false,
     "start_time": "2022-07-12T19:12:45.539971",
     "status": "completed"
    },
    "tags": []
   },
   "outputs": [
    {
     "data": {
      "text/plain": [
       "[Text(0, 0, '3969'), Text(0, 0, '12695'), Text(0, 0, '2260')]"
      ]
     },
     "execution_count": 64,
     "metadata": {},
     "output_type": "execute_result"
    },
    {
     "data": {
      "image/png": "[encoded data removed]",
      "text/plain": [
       "<Figure size 432x288 with 1 Axes>"
      ]
     },
     "metadata": {
      "needs_background": "light"
     },
     "output_type": "display_data"
    }
   ],
   "source": [
    "ax = sns.countplot(x='Drive wheels',data=dataset)\n",
    "ax.bar_label(ax.containers[0])"
   ]
  },
  {
   "cell_type": "markdown",
   "id": "0506588c",
   "metadata": {
    "papermill": {
     "duration": 0.054416,
     "end_time": "2022-07-12T19:12:45.910769",
     "exception": false,
     "start_time": "2022-07-12T19:12:45.856353",
     "status": "completed"
    },
    "tags": []
   },
   "source": [
    "### 11186 cars are front wheel driven cars. 2647 Cars have 4x4 accleration and 1402 cars have rear wheel acclearation"
   ]
  },
  {
   "cell_type": "code",
   "execution_count": 65,
   "id": "f43ac09d",
   "metadata": {
    "execution": {
     "iopub.execute_input": "2022-07-12T19:12:46.019979Z",
     "iopub.status.busy": "2022-07-12T19:12:46.019599Z",
     "iopub.status.idle": "2022-07-12T19:12:46.029558Z",
     "shell.execute_reply": "2022-07-12T19:12:46.028096Z"
    },
    "papermill": {
     "duration": 0.068541,
     "end_time": "2022-07-12T19:12:46.032001",
     "exception": false,
     "start_time": "2022-07-12T19:12:45.963460",
     "status": "completed"
    },
    "tags": []
   },
   "outputs": [
    {
     "data": {
      "text/plain": [
       "0        04-May\n",
       "1        04-May\n",
       "2        04-May\n",
       "3        04-May\n",
       "4        04-May\n",
       "          ...  \n",
       "19232    02-Mar\n",
       "19233    04-May\n",
       "19234    04-May\n",
       "19235    04-May\n",
       "19236    04-May\n",
       "Name: Doors, Length: 18924, dtype: object"
      ]
     },
     "execution_count": 65,
     "metadata": {},
     "output_type": "execute_result"
    }
   ],
   "source": [
    "dataset['Doors']"
   ]
  },
  {
   "cell_type": "code",
   "execution_count": 66,
   "id": "07d5f169",
   "metadata": {
    "execution": {
     "iopub.execute_input": "2022-07-12T19:12:46.144875Z",
     "iopub.status.busy": "2022-07-12T19:12:46.144275Z",
     "iopub.status.idle": "2022-07-12T19:12:46.155462Z",
     "shell.execute_reply": "2022-07-12T19:12:46.154640Z"
    },
    "papermill": {
     "duration": 0.077431,
     "end_time": "2022-07-12T19:12:46.157637",
     "exception": false,
     "start_time": "2022-07-12T19:12:46.080206",
     "status": "completed"
    },
    "tags": []
   },
   "outputs": [
    {
     "data": {
      "text/plain": [
       "array(['04-May', '02-Mar', '>5'], dtype=object)"
      ]
     },
     "execution_count": 66,
     "metadata": {},
     "output_type": "execute_result"
    }
   ],
   "source": [
    "dataset['Doors'].unique()"
   ]
  },
  {
   "cell_type": "code",
   "execution_count": 67,
   "id": "d82e61ff",
   "metadata": {
    "execution": {
     "iopub.execute_input": "2022-07-12T19:12:46.262408Z",
     "iopub.status.busy": "2022-07-12T19:12:46.261641Z",
     "iopub.status.idle": "2022-07-12T19:12:46.274691Z",
     "shell.execute_reply": "2022-07-12T19:12:46.273803Z"
    },
    "papermill": {
     "duration": 0.069433,
     "end_time": "2022-07-12T19:12:46.277228",
     "exception": false,
     "start_time": "2022-07-12T19:12:46.207795",
     "status": "completed"
    },
    "tags": []
   },
   "outputs": [],
   "source": [
    "dataset['Doors']=dataset['Doors'].replace({'04-May':4,'02-Mar':2})"
   ]
  },
  {
   "cell_type": "code",
   "execution_count": 68,
   "id": "a182d686",
   "metadata": {
    "execution": {
     "iopub.execute_input": "2022-07-12T19:12:46.377069Z",
     "iopub.status.busy": "2022-07-12T19:12:46.376631Z",
     "iopub.status.idle": "2022-07-12T19:12:46.390904Z",
     "shell.execute_reply": "2022-07-12T19:12:46.390042Z"
    },
    "papermill": {
     "duration": 0.065608,
     "end_time": "2022-07-12T19:12:46.393169",
     "exception": false,
     "start_time": "2022-07-12T19:12:46.327561",
     "status": "completed"
    },
    "tags": []
   },
   "outputs": [],
   "source": [
    "dataset['Doors']=dataset['Doors'].astype(str)"
   ]
  },
  {
   "cell_type": "code",
   "execution_count": 69,
   "id": "a45dbaac",
   "metadata": {
    "execution": {
     "iopub.execute_input": "2022-07-12T19:12:46.491081Z",
     "iopub.status.busy": "2022-07-12T19:12:46.490656Z",
     "iopub.status.idle": "2022-07-12T19:12:46.500684Z",
     "shell.execute_reply": "2022-07-12T19:12:46.499453Z"
    },
    "papermill": {
     "duration": 0.062133,
     "end_time": "2022-07-12T19:12:46.503588",
     "exception": false,
     "start_time": "2022-07-12T19:12:46.441455",
     "status": "completed"
    },
    "tags": []
   },
   "outputs": [
    {
     "data": {
      "text/plain": [
       "array(['4', '2', '>5'], dtype=object)"
      ]
     },
     "execution_count": 69,
     "metadata": {},
     "output_type": "execute_result"
    }
   ],
   "source": [
    "dataset['Doors'].unique()"
   ]
  },
  {
   "cell_type": "code",
   "execution_count": 70,
   "id": "667ad681",
   "metadata": {
    "execution": {
     "iopub.execute_input": "2022-07-12T19:12:46.611939Z",
     "iopub.status.busy": "2022-07-12T19:12:46.610989Z",
     "iopub.status.idle": "2022-07-12T19:12:46.990138Z",
     "shell.execute_reply": "2022-07-12T19:12:46.989205Z"
    },
    "papermill": {
     "duration": 0.434612,
     "end_time": "2022-07-12T19:12:46.992444",
     "exception": false,
     "start_time": "2022-07-12T19:12:46.557832",
     "status": "completed"
    },
    "tags": []
   },
   "outputs": [
    {
     "data": {
      "text/plain": [
       "[Text(0, 0, '18032'), Text(0, 0, '768'), Text(0, 0, '124')]"
      ]
     },
     "execution_count": 70,
     "metadata": {},
     "output_type": "execute_result"
    },
    {
     "data": {
      "image/png": "[encoded data removed]",
      "text/plain": [
       "<Figure size 432x288 with 1 Axes>"
      ]
     },
     "metadata": {
      "needs_background": "light"
     },
     "output_type": "display_data"
    }
   ],
   "source": [
    "ax = sns.countplot(x='Doors',data=dataset)\n",
    "ax.bar_label(ax.containers[0])"
   ]
  },
  {
   "cell_type": "markdown",
   "id": "b0b1c8d5",
   "metadata": {
    "papermill": {
     "duration": 0.048116,
     "end_time": "2022-07-12T19:12:47.089821",
     "exception": false,
     "start_time": "2022-07-12T19:12:47.041705",
     "status": "completed"
    },
    "tags": []
   },
   "source": [
    "### 14682 cars have 4 doors. \n",
    "### Only 463 cars are 2 doored and only 90 cars have 5+ doors"
   ]
  },
  {
   "cell_type": "code",
   "execution_count": 71,
   "id": "b98f2648",
   "metadata": {
    "execution": {
     "iopub.execute_input": "2022-07-12T19:12:47.189966Z",
     "iopub.status.busy": "2022-07-12T19:12:47.188985Z",
     "iopub.status.idle": "2022-07-12T19:12:47.197821Z",
     "shell.execute_reply": "2022-07-12T19:12:47.196771Z"
    },
    "papermill": {
     "duration": 0.060031,
     "end_time": "2022-07-12T19:12:47.199949",
     "exception": false,
     "start_time": "2022-07-12T19:12:47.139918",
     "status": "completed"
    },
    "tags": []
   },
   "outputs": [
    {
     "data": {
      "text/plain": [
       "0              Left wheel\n",
       "1              Left wheel\n",
       "2        Right-hand drive\n",
       "3              Left wheel\n",
       "4              Left wheel\n",
       "               ...       \n",
       "19232          Left wheel\n",
       "19233          Left wheel\n",
       "19234          Left wheel\n",
       "19235          Left wheel\n",
       "19236          Left wheel\n",
       "Name: Wheel, Length: 18924, dtype: object"
      ]
     },
     "execution_count": 71,
     "metadata": {},
     "output_type": "execute_result"
    }
   ],
   "source": [
    "dataset['Wheel']"
   ]
  },
  {
   "cell_type": "code",
   "execution_count": 72,
   "id": "d09a1c0c",
   "metadata": {
    "execution": {
     "iopub.execute_input": "2022-07-12T19:12:47.297585Z",
     "iopub.status.busy": "2022-07-12T19:12:47.297020Z",
     "iopub.status.idle": "2022-07-12T19:12:47.305375Z",
     "shell.execute_reply": "2022-07-12T19:12:47.304405Z"
    },
    "papermill": {
     "duration": 0.05987,
     "end_time": "2022-07-12T19:12:47.307470",
     "exception": false,
     "start_time": "2022-07-12T19:12:47.247600",
     "status": "completed"
    },
    "tags": []
   },
   "outputs": [
    {
     "data": {
      "text/plain": [
       "array(['Left wheel', 'Right-hand drive'], dtype=object)"
      ]
     },
     "execution_count": 72,
     "metadata": {},
     "output_type": "execute_result"
    }
   ],
   "source": [
    "dataset['Wheel'].unique()"
   ]
  },
  {
   "cell_type": "code",
   "execution_count": 73,
   "id": "4c08974d",
   "metadata": {
    "execution": {
     "iopub.execute_input": "2022-07-12T19:12:47.405943Z",
     "iopub.status.busy": "2022-07-12T19:12:47.405390Z",
     "iopub.status.idle": "2022-07-12T19:12:47.547360Z",
     "shell.execute_reply": "2022-07-12T19:12:47.546488Z"
    },
    "papermill": {
     "duration": 0.19331,
     "end_time": "2022-07-12T19:12:47.549532",
     "exception": false,
     "start_time": "2022-07-12T19:12:47.356222",
     "status": "completed"
    },
    "tags": []
   },
   "outputs": [
    {
     "data": {
      "text/plain": [
       "[Text(0, 0, '17471'), Text(0, 0, '1453')]"
      ]
     },
     "execution_count": 73,
     "metadata": {},
     "output_type": "execute_result"
    },
    {
     "data": {
      "image/png": "[encoded data removed]",
      "text/plain": [
       "<Figure size 432x288 with 1 Axes>"
      ]
     },
     "metadata": {
      "needs_background": "light"
     },
     "output_type": "display_data"
    }
   ],
   "source": [
    "ax = sns.countplot(x='Wheel',data=dataset)\n",
    "ax.bar_label(ax.containers[0])"
   ]
  },
  {
   "cell_type": "markdown",
   "id": "a00593ae",
   "metadata": {
    "papermill": {
     "duration": 0.048061,
     "end_time": "2022-07-12T19:12:47.646684",
     "exception": false,
     "start_time": "2022-07-12T19:12:47.598623",
     "status": "completed"
    },
    "tags": []
   },
   "source": [
    "### Left hand driven cars are more than right hand driven cars"
   ]
  },
  {
   "cell_type": "code",
   "execution_count": 74,
   "id": "47b3401f",
   "metadata": {
    "execution": {
     "iopub.execute_input": "2022-07-12T19:12:47.745634Z",
     "iopub.status.busy": "2022-07-12T19:12:47.744858Z",
     "iopub.status.idle": "2022-07-12T19:12:47.754076Z",
     "shell.execute_reply": "2022-07-12T19:12:47.753199Z"
    },
    "papermill": {
     "duration": 0.061191,
     "end_time": "2022-07-12T19:12:47.756324",
     "exception": false,
     "start_time": "2022-07-12T19:12:47.695133",
     "status": "completed"
    },
    "tags": []
   },
   "outputs": [
    {
     "data": {
      "text/plain": [
       "0        Silver\n",
       "1         Black\n",
       "2         Black\n",
       "3         White\n",
       "4        Silver\n",
       "          ...  \n",
       "19232    Silver\n",
       "19233       Red\n",
       "19234      Grey\n",
       "19235     Black\n",
       "19236     White\n",
       "Name: Color, Length: 18924, dtype: object"
      ]
     },
     "execution_count": 74,
     "metadata": {},
     "output_type": "execute_result"
    }
   ],
   "source": [
    "dataset['Color']"
   ]
  },
  {
   "cell_type": "code",
   "execution_count": 75,
   "id": "e9926bd5",
   "metadata": {
    "execution": {
     "iopub.execute_input": "2022-07-12T19:12:47.859441Z",
     "iopub.status.busy": "2022-07-12T19:12:47.858052Z",
     "iopub.status.idle": "2022-07-12T19:12:47.868088Z",
     "shell.execute_reply": "2022-07-12T19:12:47.867145Z"
    },
    "papermill": {
     "duration": 0.064521,
     "end_time": "2022-07-12T19:12:47.870460",
     "exception": false,
     "start_time": "2022-07-12T19:12:47.805939",
     "status": "completed"
    },
    "tags": []
   },
   "outputs": [
    {
     "data": {
      "text/plain": [
       "array(['Silver', 'Black', 'White', 'Grey', 'Blue', 'Green', 'Red',\n",
       "       'Sky blue', 'Orange', 'Yellow', 'Brown', 'Golden', 'Beige',\n",
       "       'Carnelian red', 'Purple', 'Pink'], dtype=object)"
      ]
     },
     "execution_count": 75,
     "metadata": {},
     "output_type": "execute_result"
    }
   ],
   "source": [
    "dataset['Color'].unique()"
   ]
  },
  {
   "cell_type": "code",
   "execution_count": 76,
   "id": "ae19f01c",
   "metadata": {
    "execution": {
     "iopub.execute_input": "2022-07-12T19:12:47.975378Z",
     "iopub.status.busy": "2022-07-12T19:12:47.974928Z",
     "iopub.status.idle": "2022-07-12T19:12:48.282530Z",
     "shell.execute_reply": "2022-07-12T19:12:48.281177Z"
    },
    "papermill": {
     "duration": 0.364425,
     "end_time": "2022-07-12T19:12:48.285107",
     "exception": false,
     "start_time": "2022-07-12T19:12:47.920682",
     "status": "completed"
    },
    "tags": []
   },
   "outputs": [
    {
     "data": {
      "text/plain": [
       "[Text(0, 0, '3729'),\n",
       " Text(0, 0, '4944'),\n",
       " Text(0, 0, '4407'),\n",
       " Text(0, 0, '2343'),\n",
       " Text(0, 0, '1376'),\n",
       " Text(0, 0, '321'),\n",
       " Text(0, 0, '622'),\n",
       " Text(0, 0, '122'),\n",
       " Text(0, 0, '252'),\n",
       " Text(0, 0, '105'),\n",
       " Text(0, 0, '185'),\n",
       " Text(0, 0, '143'),\n",
       " Text(0, 0, '134'),\n",
       " Text(0, 0, '177'),\n",
       " Text(0, 0, '39'),\n",
       " Text(0, 0, '25')]"
      ]
     },
     "execution_count": 76,
     "metadata": {},
     "output_type": "execute_result"
    },
    {
     "data": {
      "image/png": "[encoded data removed]",
      "text/plain": [
       "<Figure size 1152x576 with 1 Axes>"
      ]
     },
     "metadata": {
      "needs_background": "light"
     },
     "output_type": "display_data"
    }
   ],
   "source": [
    "plt.figure(figsize=(16,8))\n",
    "ax = sns.countplot(x='Color',data=dataset)\n",
    "ax.bar_label(ax.containers[0])"
   ]
  },
  {
   "cell_type": "markdown",
   "id": "f3e4546f",
   "metadata": {
    "papermill": {
     "duration": 0.04963,
     "end_time": "2022-07-12T19:12:48.385258",
     "exception": false,
     "start_time": "2022-07-12T19:12:48.335628",
     "status": "completed"
    },
    "tags": []
   },
   "source": [
    "### Black Colour Cars are the most (3817) followed by White cars(3652). Pink cars are least in number(22)"
   ]
  },
  {
   "cell_type": "code",
   "execution_count": 77,
   "id": "01029c17",
   "metadata": {
    "execution": {
     "iopub.execute_input": "2022-07-12T19:12:48.486404Z",
     "iopub.status.busy": "2022-07-12T19:12:48.485995Z",
     "iopub.status.idle": "2022-07-12T19:12:48.495273Z",
     "shell.execute_reply": "2022-07-12T19:12:48.494187Z"
    },
    "papermill": {
     "duration": 0.062315,
     "end_time": "2022-07-12T19:12:48.497498",
     "exception": false,
     "start_time": "2022-07-12T19:12:48.435183",
     "status": "completed"
    },
    "tags": []
   },
   "outputs": [
    {
     "data": {
      "text/plain": [
       "0        12\n",
       "1         8\n",
       "2         2\n",
       "3         0\n",
       "4         4\n",
       "         ..\n",
       "19232     5\n",
       "19233     8\n",
       "19234     4\n",
       "19235     4\n",
       "19236    12\n",
       "Name: Airbags, Length: 18924, dtype: int64"
      ]
     },
     "execution_count": 77,
     "metadata": {},
     "output_type": "execute_result"
    }
   ],
   "source": [
    "dataset['Airbags']"
   ]
  },
  {
   "cell_type": "code",
   "execution_count": 78,
   "id": "ceec8326",
   "metadata": {
    "execution": {
     "iopub.execute_input": "2022-07-12T19:12:48.599982Z",
     "iopub.status.busy": "2022-07-12T19:12:48.598609Z",
     "iopub.status.idle": "2022-07-12T19:12:48.608899Z",
     "shell.execute_reply": "2022-07-12T19:12:48.607807Z"
    },
    "papermill": {
     "duration": 0.063893,
     "end_time": "2022-07-12T19:12:48.611492",
     "exception": false,
     "start_time": "2022-07-12T19:12:48.547599",
     "status": "completed"
    },
    "tags": []
   },
   "outputs": [
    {
     "data": {
      "text/plain": [
       "array([12,  8,  2,  0,  4,  6, 10,  3,  1, 16,  5,  7,  9, 11, 14, 15, 13])"
      ]
     },
     "execution_count": 78,
     "metadata": {},
     "output_type": "execute_result"
    }
   ],
   "source": [
    "dataset['Airbags'].unique()"
   ]
  },
  {
   "cell_type": "markdown",
   "id": "7699c961",
   "metadata": {
    "papermill": {
     "duration": 0.052241,
     "end_time": "2022-07-12T19:12:48.716010",
     "exception": false,
     "start_time": "2022-07-12T19:12:48.663769",
     "status": "completed"
    },
    "tags": []
   },
   "source": [
    "# Exploratory Data Analysis"
   ]
  },
  {
   "cell_type": "markdown",
   "id": "5f4468f9",
   "metadata": {
    "papermill": {
     "duration": 0.053421,
     "end_time": "2022-07-12T19:12:48.821260",
     "exception": false,
     "start_time": "2022-07-12T19:12:48.767839",
     "status": "completed"
    },
    "tags": []
   },
   "source": [
    "## Outlier Removal using IQR method"
   ]
  },
  {
   "cell_type": "code",
   "execution_count": 79,
   "id": "f64b1a14",
   "metadata": {
    "execution": {
     "iopub.execute_input": "2022-07-12T19:12:49.014803Z",
     "iopub.status.busy": "2022-07-12T19:12:49.014057Z",
     "iopub.status.idle": "2022-07-12T19:12:49.050042Z",
     "shell.execute_reply": "2022-07-12T19:12:49.048205Z"
    },
    "papermill": {
     "duration": 0.177943,
     "end_time": "2022-07-12T19:12:49.053138",
     "exception": false,
     "start_time": "2022-07-12T19:12:48.875195",
     "status": "completed"
    },
    "tags": []
   },
   "outputs": [
    {
     "name": "stdout",
     "output_type": "stream",
     "text": [
      "<class 'pandas.core.frame.DataFrame'>\n",
      "Int64Index: 18924 entries, 0 to 19236\n",
      "Data columns (total 16 columns):\n",
      " #   Column              Non-Null Count  Dtype  \n",
      "---  ------              --------------  -----  \n",
      " 0   Price               18924 non-null  int64  \n",
      " 1   Levy                18924 non-null  int64  \n",
      " 2   Prod. year          18924 non-null  int64  \n",
      " 3   Category            18924 non-null  object \n",
      " 4   Leather interior    18924 non-null  object \n",
      " 5   Fuel type           18924 non-null  object \n",
      " 6   Engine volume       18924 non-null  float64\n",
      " 7   Mileage             18924 non-null  int64  \n",
      " 8   Gear box type       18924 non-null  object \n",
      " 9   Drive wheels        18924 non-null  object \n",
      " 10  Doors               18924 non-null  object \n",
      " 11  Wheel               18924 non-null  object \n",
      " 12  Color               18924 non-null  object \n",
      " 13  Airbags             18924 non-null  int64  \n",
      " 14  Car model           18924 non-null  object \n",
      " 15  Engine volume Type  18924 non-null  object \n",
      "dtypes: float64(1), int64(5), object(10)\n",
      "memory usage: 3.0+ MB\n"
     ]
    }
   ],
   "source": [
    "dataset.info()"
   ]
  },
  {
   "cell_type": "code",
   "execution_count": 80,
   "id": "c0aa2029",
   "metadata": {
    "execution": {
     "iopub.execute_input": "2022-07-12T19:12:49.161250Z",
     "iopub.status.busy": "2022-07-12T19:12:49.160248Z",
     "iopub.status.idle": "2022-07-12T19:12:49.283743Z",
     "shell.execute_reply": "2022-07-12T19:12:49.282386Z"
    },
    "papermill": {
     "duration": 0.181428,
     "end_time": "2022-07-12T19:12:49.288155",
     "exception": false,
     "start_time": "2022-07-12T19:12:49.106727",
     "status": "completed"
    },
    "tags": []
   },
   "outputs": [
    {
     "data": {
      "text/plain": [
       "<AxesSubplot:xlabel='Levy'>"
      ]
     },
     "execution_count": 80,
     "metadata": {},
     "output_type": "execute_result"
    },
    {
     "data": {
      "image/png": "[encoded data removed]",
      "text/plain": [
       "<Figure size 432x288 with 1 Axes>"
      ]
     },
     "metadata": {
      "needs_background": "light"
     },
     "output_type": "display_data"
    }
   ],
   "source": [
    "sns.boxplot(x ='Levy', data=dataset)"
   ]
  },
  {
   "cell_type": "code",
   "execution_count": 81,
   "id": "95550d5c",
   "metadata": {
    "execution": {
     "iopub.execute_input": "2022-07-12T19:12:49.408444Z",
     "iopub.status.busy": "2022-07-12T19:12:49.407478Z",
     "iopub.status.idle": "2022-07-12T19:12:49.591966Z",
     "shell.execute_reply": "2022-07-12T19:12:49.590285Z"
    },
    "papermill": {
     "duration": 0.240827,
     "end_time": "2022-07-12T19:12:49.594762",
     "exception": false,
     "start_time": "2022-07-12T19:12:49.353935",
     "status": "completed"
    },
    "tags": []
   },
   "outputs": [
    {
     "data": {
      "text/plain": [
       "<AxesSubplot:xlabel='Prod. year'>"
      ]
     },
     "execution_count": 81,
     "metadata": {},
     "output_type": "execute_result"
    },
    {
     "data": {
      "image/png": "[encoded data removed]",
      "text/plain": [
       "<Figure size 432x288 with 1 Axes>"
      ]
     },
     "metadata": {
      "needs_background": "light"
     },
     "output_type": "display_data"
    }
   ],
   "source": [
    "sns.boxplot(x ='Prod. year', data=dataset)"
   ]
  },
  {
   "cell_type": "code",
   "execution_count": 82,
   "id": "aa20de5e",
   "metadata": {
    "execution": {
     "iopub.execute_input": "2022-07-12T19:12:49.698852Z",
     "iopub.status.busy": "2022-07-12T19:12:49.698425Z",
     "iopub.status.idle": "2022-07-12T19:12:49.876028Z",
     "shell.execute_reply": "2022-07-12T19:12:49.874831Z"
    },
    "papermill": {
     "duration": 0.232505,
     "end_time": "2022-07-12T19:12:49.878769",
     "exception": false,
     "start_time": "2022-07-12T19:12:49.646264",
     "status": "completed"
    },
    "tags": []
   },
   "outputs": [
    {
     "data": {
      "text/plain": [
       "<AxesSubplot:xlabel='Engine volume'>"
      ]
     },
     "execution_count": 82,
     "metadata": {},
     "output_type": "execute_result"
    },
    {
     "data": {
      "image/png": "[encoded data removed]",
      "text/plain": [
       "<Figure size 432x288 with 1 Axes>"
      ]
     },
     "metadata": {
      "needs_background": "light"
     },
     "output_type": "display_data"
    }
   ],
   "source": [
    "sns.boxplot(x ='Engine volume', data=dataset)"
   ]
  },
  {
   "cell_type": "code",
   "execution_count": 83,
   "id": "7ce7878c",
   "metadata": {
    "execution": {
     "iopub.execute_input": "2022-07-12T19:12:49.982309Z",
     "iopub.status.busy": "2022-07-12T19:12:49.981869Z",
     "iopub.status.idle": "2022-07-12T19:12:49.996004Z",
     "shell.execute_reply": "2022-07-12T19:12:49.994588Z"
    },
    "papermill": {
     "duration": 0.069223,
     "end_time": "2022-07-12T19:12:49.998612",
     "exception": false,
     "start_time": "2022-07-12T19:12:49.929389",
     "status": "completed"
    },
    "tags": []
   },
   "outputs": [],
   "source": [
    "Q1 = dataset.quantile(0.25)\n",
    "Q3 = dataset.quantile(0.75)\n",
    "IQR = Q3 - Q1\n",
    "pos_outlier = Q3 + 1.5 * IQR\n",
    "neg_outlier = Q1 - 1.5 * IQR"
   ]
  },
  {
   "cell_type": "code",
   "execution_count": 84,
   "id": "2b77061a",
   "metadata": {
    "execution": {
     "iopub.execute_input": "2022-07-12T19:12:50.104571Z",
     "iopub.status.busy": "2022-07-12T19:12:50.104131Z",
     "iopub.status.idle": "2022-07-12T19:12:50.199654Z",
     "shell.execute_reply": "2022-07-12T19:12:50.198405Z"
    },
    "papermill": {
     "duration": 0.152707,
     "end_time": "2022-07-12T19:12:50.202672",
     "exception": false,
     "start_time": "2022-07-12T19:12:50.049965",
     "status": "completed"
    },
    "tags": []
   },
   "outputs": [],
   "source": [
    "dataset = dataset[~((dataset < (Q1-1.5*IQR)) | (dataset > (Q3 + 1.5 * IQR))).any(axis=1)]"
   ]
  },
  {
   "cell_type": "code",
   "execution_count": 85,
   "id": "0c24633f",
   "metadata": {
    "execution": {
     "iopub.execute_input": "2022-07-12T19:12:50.305502Z",
     "iopub.status.busy": "2022-07-12T19:12:50.305093Z",
     "iopub.status.idle": "2022-07-12T19:12:50.463044Z",
     "shell.execute_reply": "2022-07-12T19:12:50.461685Z"
    },
    "papermill": {
     "duration": 0.212149,
     "end_time": "2022-07-12T19:12:50.465553",
     "exception": false,
     "start_time": "2022-07-12T19:12:50.253404",
     "status": "completed"
    },
    "tags": []
   },
   "outputs": [
    {
     "data": {
      "text/plain": [
       "<AxesSubplot:xlabel='Levy'>"
      ]
     },
     "execution_count": 85,
     "metadata": {},
     "output_type": "execute_result"
    },
    {
     "data": {
      "image/png": "[encoded data removed]",
      "text/plain": [
       "<Figure size 432x288 with 1 Axes>"
      ]
     },
     "metadata": {
      "needs_background": "light"
     },
     "output_type": "display_data"
    }
   ],
   "source": [
    "sns.boxplot(x ='Levy', data=dataset)"
   ]
  },
  {
   "cell_type": "code",
   "execution_count": 86,
   "id": "59453e20",
   "metadata": {
    "execution": {
     "iopub.execute_input": "2022-07-12T19:12:50.570547Z",
     "iopub.status.busy": "2022-07-12T19:12:50.569875Z",
     "iopub.status.idle": "2022-07-12T19:12:50.747499Z",
     "shell.execute_reply": "2022-07-12T19:12:50.746295Z"
    },
    "papermill": {
     "duration": 0.233557,
     "end_time": "2022-07-12T19:12:50.749872",
     "exception": false,
     "start_time": "2022-07-12T19:12:50.516315",
     "status": "completed"
    },
    "tags": []
   },
   "outputs": [
    {
     "data": {
      "text/plain": [
       "<AxesSubplot:xlabel='Prod. year'>"
      ]
     },
     "execution_count": 86,
     "metadata": {},
     "output_type": "execute_result"
    },
    {
     "data": {
      "image/png": "[encoded data removed]",
      "text/plain": [
       "<Figure size 432x288 with 1 Axes>"
      ]
     },
     "metadata": {
      "needs_background": "light"
     },
     "output_type": "display_data"
    }
   ],
   "source": [
    "sns.boxplot(x ='Prod. year', data=dataset)"
   ]
  },
  {
   "cell_type": "code",
   "execution_count": 87,
   "id": "efcc431a",
   "metadata": {
    "execution": {
     "iopub.execute_input": "2022-07-12T19:12:50.857684Z",
     "iopub.status.busy": "2022-07-12T19:12:50.856578Z",
     "iopub.status.idle": "2022-07-12T19:12:51.019327Z",
     "shell.execute_reply": "2022-07-12T19:12:51.017985Z"
    },
    "papermill": {
     "duration": 0.220263,
     "end_time": "2022-07-12T19:12:51.022531",
     "exception": false,
     "start_time": "2022-07-12T19:12:50.802268",
     "status": "completed"
    },
    "tags": []
   },
   "outputs": [
    {
     "data": {
      "text/plain": [
       "<AxesSubplot:xlabel='Engine volume'>"
      ]
     },
     "execution_count": 87,
     "metadata": {},
     "output_type": "execute_result"
    },
    {
     "data": {
      "image/png": "[encoded data removed]",
      "text/plain": [
       "<Figure size 432x288 with 1 Axes>"
      ]
     },
     "metadata": {
      "needs_background": "light"
     },
     "output_type": "display_data"
    }
   ],
   "source": [
    "sns.boxplot(x ='Engine volume', data=dataset)"
   ]
  },
  {
   "cell_type": "markdown",
   "id": "c2b196fa",
   "metadata": {
    "papermill": {
     "duration": 0.051487,
     "end_time": "2022-07-12T19:12:51.126957",
     "exception": false,
     "start_time": "2022-07-12T19:12:51.075470",
     "status": "completed"
    },
    "tags": []
   },
   "source": [
    "## Observations:\n",
    "#### Outlier removal via IQR method\n",
    "\n",
    "##### The remaining points after the removal cannot be treated as outliers as those values are near to the range"
   ]
  },
  {
   "cell_type": "markdown",
   "id": "e59b5a56",
   "metadata": {
    "papermill": {
     "duration": 0.05136,
     "end_time": "2022-07-12T19:12:51.230086",
     "exception": false,
     "start_time": "2022-07-12T19:12:51.178726",
     "status": "completed"
    },
    "tags": []
   },
   "source": [
    "## Correlation of independent with dependent variable"
   ]
  },
  {
   "cell_type": "code",
   "execution_count": 88,
   "id": "dd3d60b6",
   "metadata": {
    "execution": {
     "iopub.execute_input": "2022-07-12T19:12:51.335296Z",
     "iopub.status.busy": "2022-07-12T19:12:51.334662Z",
     "iopub.status.idle": "2022-07-12T19:12:51.748555Z",
     "shell.execute_reply": "2022-07-12T19:12:51.747175Z"
    },
    "papermill": {
     "duration": 0.469452,
     "end_time": "2022-07-12T19:12:51.751025",
     "exception": false,
     "start_time": "2022-07-12T19:12:51.281573",
     "status": "completed"
    },
    "tags": []
   },
   "outputs": [
    {
     "data": {
      "text/plain": [
       "<AxesSubplot:>"
      ]
     },
     "execution_count": 88,
     "metadata": {},
     "output_type": "execute_result"
    },
    {
     "data": {
      "image/png": "[encoded data removed]",
      "text/plain": [
       "<Figure size 432x288 with 2 Axes>"
      ]
     },
     "metadata": {
      "needs_background": "light"
     },
     "output_type": "display_data"
    }
   ],
   "source": [
    "sns.heatmap(dataset.corr(),annot=True)"
   ]
  },
  {
   "cell_type": "markdown",
   "id": "2ce976c5",
   "metadata": {
    "papermill": {
     "duration": 0.052878,
     "end_time": "2022-07-12T19:12:51.856585",
     "exception": false,
     "start_time": "2022-07-12T19:12:51.803707",
     "status": "completed"
    },
    "tags": []
   },
   "source": [
    "## Observations: \n",
    "\n",
    "#### Price has slightly high correaltion with Production year and negative correlation with Levy\n",
    "#### No two independent variables have same value hence ruling out multicolinearity"
   ]
  },
  {
   "cell_type": "markdown",
   "id": "b1fe3478",
   "metadata": {
    "papermill": {
     "duration": 0.055046,
     "end_time": "2022-07-12T19:12:51.966322",
     "exception": false,
     "start_time": "2022-07-12T19:12:51.911276",
     "status": "completed"
    },
    "tags": []
   },
   "source": [
    "### Encoding categorical variable using LabelEncoder"
   ]
  },
  {
   "cell_type": "code",
   "execution_count": 89,
   "id": "f166e551",
   "metadata": {
    "execution": {
     "iopub.execute_input": "2022-07-12T19:12:52.081615Z",
     "iopub.status.busy": "2022-07-12T19:12:52.080958Z",
     "iopub.status.idle": "2022-07-12T19:12:52.091217Z",
     "shell.execute_reply": "2022-07-12T19:12:52.090243Z"
    },
    "papermill": {
     "duration": 0.073215,
     "end_time": "2022-07-12T19:12:52.093386",
     "exception": false,
     "start_time": "2022-07-12T19:12:52.020171",
     "status": "completed"
    },
    "tags": []
   },
   "outputs": [],
   "source": [
    "def preprocessor(dataset):\n",
    "    res_df = dataset.copy()\n",
    "    le = preprocessing.LabelEncoder()\n",
    "    \n",
    "    \n",
    "    res_df['Car model'] = le.fit_transform(res_df['Car model'])\n",
    "    res_df['Category'] = le.fit_transform(res_df['Category'])\n",
    "    res_df['Leather interior'] = le.fit_transform(res_df['Leather interior'])\n",
    "    res_df['Fuel type'] = le.fit_transform(res_df['Fuel type'])\n",
    "    res_df['Gear box type'] = le.fit_transform(res_df['Gear box type'])\n",
    "    res_df['Drive wheels'] = le.fit_transform(res_df['Drive wheels'])\n",
    "    res_df['Doors'] = le.fit_transform(res_df['Doors'])\n",
    "    res_df['Wheel'] = le.fit_transform(res_df['Wheel'])\n",
    "    res_df['Color'] = le.fit_transform(res_df['Color'])\n",
    "    res_df['Engine volume Type'] = le.fit_transform(res_df['Engine volume Type'])\n",
    "    return res_df"
   ]
  },
  {
   "cell_type": "code",
   "execution_count": 90,
   "id": "587b199a",
   "metadata": {
    "execution": {
     "iopub.execute_input": "2022-07-12T19:12:52.217359Z",
     "iopub.status.busy": "2022-07-12T19:12:52.216491Z",
     "iopub.status.idle": "2022-07-12T19:12:52.305898Z",
     "shell.execute_reply": "2022-07-12T19:12:52.304446Z"
    },
    "papermill": {
     "duration": 0.151528,
     "end_time": "2022-07-12T19:12:52.308985",
     "exception": false,
     "start_time": "2022-07-12T19:12:52.157457",
     "status": "completed"
    },
    "tags": []
   },
   "outputs": [
    {
     "data": {
      "text/html": [
       "<div>\n",
       "<style scoped>\n",
       "    .dataframe tbody tr th:only-of-type {\n",
       "        vertical-align: middle;\n",
       "    }\n",
       "\n",
       "    .dataframe tbody tr th {\n",
       "        vertical-align: top;\n",
       "    }\n",
       "\n",
       "    .dataframe thead th {\n",
       "        text-align: right;\n",
       "    }\n",
       "</style>\n",
       "<table border=\"1\" class=\"dataframe\">\n",
       "  <thead>\n",
       "    <tr style=\"text-align: right;\">\n",
       "      <th></th>\n",
       "      <th>Price</th>\n",
       "      <th>Levy</th>\n",
       "      <th>Prod. year</th>\n",
       "      <th>Category</th>\n",
       "      <th>Leather interior</th>\n",
       "      <th>Fuel type</th>\n",
       "      <th>Engine volume</th>\n",
       "      <th>Mileage</th>\n",
       "      <th>Gear box type</th>\n",
       "      <th>Drive wheels</th>\n",
       "      <th>Doors</th>\n",
       "      <th>Wheel</th>\n",
       "      <th>Color</th>\n",
       "      <th>Airbags</th>\n",
       "      <th>Car model</th>\n",
       "      <th>Engine volume Type</th>\n",
       "    </tr>\n",
       "  </thead>\n",
       "  <tbody>\n",
       "    <tr>\n",
       "      <th>0</th>\n",
       "      <td>13328</td>\n",
       "      <td>1399</td>\n",
       "      <td>2010</td>\n",
       "      <td>4</td>\n",
       "      <td>1</td>\n",
       "      <td>2</td>\n",
       "      <td>3.5</td>\n",
       "      <td>186005</td>\n",
       "      <td>0</td>\n",
       "      <td>0</td>\n",
       "      <td>1</td>\n",
       "      <td>0</td>\n",
       "      <td>12</td>\n",
       "      <td>12</td>\n",
       "      <td>542</td>\n",
       "      <td>0</td>\n",
       "    </tr>\n",
       "    <tr>\n",
       "      <th>1</th>\n",
       "      <td>16621</td>\n",
       "      <td>1018</td>\n",
       "      <td>2011</td>\n",
       "      <td>4</td>\n",
       "      <td>0</td>\n",
       "      <td>5</td>\n",
       "      <td>3.0</td>\n",
       "      <td>192000</td>\n",
       "      <td>2</td>\n",
       "      <td>0</td>\n",
       "      <td>1</td>\n",
       "      <td>0</td>\n",
       "      <td>1</td>\n",
       "      <td>8</td>\n",
       "      <td>169</td>\n",
       "      <td>0</td>\n",
       "    </tr>\n",
       "    <tr>\n",
       "      <th>2</th>\n",
       "      <td>8467</td>\n",
       "      <td>0</td>\n",
       "      <td>2006</td>\n",
       "      <td>3</td>\n",
       "      <td>0</td>\n",
       "      <td>5</td>\n",
       "      <td>1.3</td>\n",
       "      <td>200000</td>\n",
       "      <td>3</td>\n",
       "      <td>1</td>\n",
       "      <td>1</td>\n",
       "      <td>1</td>\n",
       "      <td>1</td>\n",
       "      <td>2</td>\n",
       "      <td>337</td>\n",
       "      <td>0</td>\n",
       "    </tr>\n",
       "    <tr>\n",
       "      <th>3</th>\n",
       "      <td>3607</td>\n",
       "      <td>862</td>\n",
       "      <td>2011</td>\n",
       "      <td>4</td>\n",
       "      <td>1</td>\n",
       "      <td>2</td>\n",
       "      <td>2.5</td>\n",
       "      <td>168966</td>\n",
       "      <td>0</td>\n",
       "      <td>0</td>\n",
       "      <td>1</td>\n",
       "      <td>0</td>\n",
       "      <td>14</td>\n",
       "      <td>0</td>\n",
       "      <td>252</td>\n",
       "      <td>0</td>\n",
       "    </tr>\n",
       "    <tr>\n",
       "      <th>4</th>\n",
       "      <td>11726</td>\n",
       "      <td>446</td>\n",
       "      <td>2014</td>\n",
       "      <td>3</td>\n",
       "      <td>1</td>\n",
       "      <td>5</td>\n",
       "      <td>1.3</td>\n",
       "      <td>91901</td>\n",
       "      <td>0</td>\n",
       "      <td>1</td>\n",
       "      <td>1</td>\n",
       "      <td>0</td>\n",
       "      <td>12</td>\n",
       "      <td>4</td>\n",
       "      <td>337</td>\n",
       "      <td>0</td>\n",
       "    </tr>\n",
       "    <tr>\n",
       "      <th>...</th>\n",
       "      <td>...</td>\n",
       "      <td>...</td>\n",
       "      <td>...</td>\n",
       "      <td>...</td>\n",
       "      <td>...</td>\n",
       "      <td>...</td>\n",
       "      <td>...</td>\n",
       "      <td>...</td>\n",
       "      <td>...</td>\n",
       "      <td>...</td>\n",
       "      <td>...</td>\n",
       "      <td>...</td>\n",
       "      <td>...</td>\n",
       "      <td>...</td>\n",
       "      <td>...</td>\n",
       "      <td>...</td>\n",
       "    </tr>\n",
       "    <tr>\n",
       "      <th>19231</th>\n",
       "      <td>5802</td>\n",
       "      <td>1055</td>\n",
       "      <td>2013</td>\n",
       "      <td>9</td>\n",
       "      <td>1</td>\n",
       "      <td>1</td>\n",
       "      <td>3.5</td>\n",
       "      <td>107800</td>\n",
       "      <td>0</td>\n",
       "      <td>2</td>\n",
       "      <td>1</td>\n",
       "      <td>0</td>\n",
       "      <td>7</td>\n",
       "      <td>12</td>\n",
       "      <td>678</td>\n",
       "      <td>0</td>\n",
       "    </tr>\n",
       "    <tr>\n",
       "      <th>19233</th>\n",
       "      <td>15681</td>\n",
       "      <td>831</td>\n",
       "      <td>2011</td>\n",
       "      <td>9</td>\n",
       "      <td>1</td>\n",
       "      <td>5</td>\n",
       "      <td>2.4</td>\n",
       "      <td>161600</td>\n",
       "      <td>2</td>\n",
       "      <td>1</td>\n",
       "      <td>1</td>\n",
       "      <td>0</td>\n",
       "      <td>11</td>\n",
       "      <td>8</td>\n",
       "      <td>417</td>\n",
       "      <td>0</td>\n",
       "    </tr>\n",
       "    <tr>\n",
       "      <th>19234</th>\n",
       "      <td>26108</td>\n",
       "      <td>836</td>\n",
       "      <td>2010</td>\n",
       "      <td>4</td>\n",
       "      <td>1</td>\n",
       "      <td>1</td>\n",
       "      <td>2.0</td>\n",
       "      <td>116365</td>\n",
       "      <td>0</td>\n",
       "      <td>1</td>\n",
       "      <td>1</td>\n",
       "      <td>0</td>\n",
       "      <td>7</td>\n",
       "      <td>4</td>\n",
       "      <td>435</td>\n",
       "      <td>0</td>\n",
       "    </tr>\n",
       "    <tr>\n",
       "      <th>19235</th>\n",
       "      <td>5331</td>\n",
       "      <td>1288</td>\n",
       "      <td>2007</td>\n",
       "      <td>4</td>\n",
       "      <td>1</td>\n",
       "      <td>1</td>\n",
       "      <td>2.0</td>\n",
       "      <td>51258</td>\n",
       "      <td>0</td>\n",
       "      <td>1</td>\n",
       "      <td>1</td>\n",
       "      <td>0</td>\n",
       "      <td>1</td>\n",
       "      <td>4</td>\n",
       "      <td>153</td>\n",
       "      <td>0</td>\n",
       "    </tr>\n",
       "    <tr>\n",
       "      <th>19236</th>\n",
       "      <td>470</td>\n",
       "      <td>753</td>\n",
       "      <td>2012</td>\n",
       "      <td>9</td>\n",
       "      <td>1</td>\n",
       "      <td>2</td>\n",
       "      <td>2.4</td>\n",
       "      <td>186923</td>\n",
       "      <td>0</td>\n",
       "      <td>1</td>\n",
       "      <td>1</td>\n",
       "      <td>0</td>\n",
       "      <td>14</td>\n",
       "      <td>12</td>\n",
       "      <td>417</td>\n",
       "      <td>0</td>\n",
       "    </tr>\n",
       "  </tbody>\n",
       "</table>\n",
       "<p>15235 rows × 16 columns</p>\n",
       "</div>"
      ],
      "text/plain": [
       "       Price  Levy  Prod. year  Category  Leather interior  Fuel type  \\\n",
       "0      13328  1399        2010         4                 1          2   \n",
       "1      16621  1018        2011         4                 0          5   \n",
       "2       8467     0        2006         3                 0          5   \n",
       "3       3607   862        2011         4                 1          2   \n",
       "4      11726   446        2014         3                 1          5   \n",
       "...      ...   ...         ...       ...               ...        ...   \n",
       "19231   5802  1055        2013         9                 1          1   \n",
       "19233  15681   831        2011         9                 1          5   \n",
       "19234  26108   836        2010         4                 1          1   \n",
       "19235   5331  1288        2007         4                 1          1   \n",
       "19236    470   753        2012         9                 1          2   \n",
       "\n",
       "       Engine volume  Mileage  Gear box type  Drive wheels  Doors  Wheel  \\\n",
       "0                3.5   186005              0             0      1      0   \n",
       "1                3.0   192000              2             0      1      0   \n",
       "2                1.3   200000              3             1      1      1   \n",
       "3                2.5   168966              0             0      1      0   \n",
       "4                1.3    91901              0             1      1      0   \n",
       "...              ...      ...            ...           ...    ...    ...   \n",
       "19231            3.5   107800              0             2      1      0   \n",
       "19233            2.4   161600              2             1      1      0   \n",
       "19234            2.0   116365              0             1      1      0   \n",
       "19235            2.0    51258              0             1      1      0   \n",
       "19236            2.4   186923              0             1      1      0   \n",
       "\n",
       "       Color  Airbags  Car model  Engine volume Type  \n",
       "0         12       12        542                   0  \n",
       "1          1        8        169                   0  \n",
       "2          1        2        337                   0  \n",
       "3         14        0        252                   0  \n",
       "4         12        4        337                   0  \n",
       "...      ...      ...        ...                 ...  \n",
       "19231      7       12        678                   0  \n",
       "19233     11        8        417                   0  \n",
       "19234      7        4        435                   0  \n",
       "19235      1        4        153                   0  \n",
       "19236     14       12        417                   0  \n",
       "\n",
       "[15235 rows x 16 columns]"
      ]
     },
     "execution_count": 90,
     "metadata": {},
     "output_type": "execute_result"
    }
   ],
   "source": [
    "encoded_df = preprocessor(dataset)\n",
    "encoded_df"
   ]
  },
  {
   "cell_type": "code",
   "execution_count": 91,
   "id": "42d2ee1b",
   "metadata": {
    "execution": {
     "iopub.execute_input": "2022-07-12T19:12:52.417741Z",
     "iopub.status.busy": "2022-07-12T19:12:52.417351Z",
     "iopub.status.idle": "2022-07-12T19:12:52.425615Z",
     "shell.execute_reply": "2022-07-12T19:12:52.424193Z"
    },
    "papermill": {
     "duration": 0.064936,
     "end_time": "2022-07-12T19:12:52.427908",
     "exception": false,
     "start_time": "2022-07-12T19:12:52.362972",
     "status": "completed"
    },
    "tags": []
   },
   "outputs": [],
   "source": [
    "x = encoded_df.iloc[:,1:18]\n",
    "y = encoded_df['Price']  #Splitting dependent and independent variable"
   ]
  },
  {
   "cell_type": "markdown",
   "id": "3a061e61",
   "metadata": {
    "papermill": {
     "duration": 0.052422,
     "end_time": "2022-07-12T19:12:52.533821",
     "exception": false,
     "start_time": "2022-07-12T19:12:52.481399",
     "status": "completed"
    },
    "tags": []
   },
   "source": [
    "### Standardization of independent variables"
   ]
  },
  {
   "cell_type": "code",
   "execution_count": 92,
   "id": "e247beca",
   "metadata": {
    "execution": {
     "iopub.execute_input": "2022-07-12T19:12:52.642237Z",
     "iopub.status.busy": "2022-07-12T19:12:52.641623Z",
     "iopub.status.idle": "2022-07-12T19:12:52.657406Z",
     "shell.execute_reply": "2022-07-12T19:12:52.656590Z"
    },
    "papermill": {
     "duration": 0.072814,
     "end_time": "2022-07-12T19:12:52.659779",
     "exception": false,
     "start_time": "2022-07-12T19:12:52.586965",
     "status": "completed"
    },
    "tags": []
   },
   "outputs": [],
   "source": [
    "from sklearn.preprocessing import StandardScaler\n",
    "scaler = StandardScaler()\n",
    "x_scaled = scaler.fit_transform(x)"
   ]
  },
  {
   "cell_type": "code",
   "execution_count": 93,
   "id": "90224705",
   "metadata": {
    "execution": {
     "iopub.execute_input": "2022-07-12T19:12:52.767627Z",
     "iopub.status.busy": "2022-07-12T19:12:52.767040Z",
     "iopub.status.idle": "2022-07-12T19:12:52.791765Z",
     "shell.execute_reply": "2022-07-12T19:12:52.790836Z"
    },
    "papermill": {
     "duration": 0.081747,
     "end_time": "2022-07-12T19:12:52.794274",
     "exception": false,
     "start_time": "2022-07-12T19:12:52.712527",
     "status": "completed"
    },
    "tags": []
   },
   "outputs": [
    {
     "data": {
      "text/html": [
       "<div>\n",
       "<style scoped>\n",
       "    .dataframe tbody tr th:only-of-type {\n",
       "        vertical-align: middle;\n",
       "    }\n",
       "\n",
       "    .dataframe tbody tr th {\n",
       "        vertical-align: top;\n",
       "    }\n",
       "\n",
       "    .dataframe thead th {\n",
       "        text-align: right;\n",
       "    }\n",
       "</style>\n",
       "<table border=\"1\" class=\"dataframe\">\n",
       "  <thead>\n",
       "    <tr style=\"text-align: right;\">\n",
       "      <th></th>\n",
       "      <th>0</th>\n",
       "      <th>1</th>\n",
       "      <th>2</th>\n",
       "      <th>3</th>\n",
       "      <th>4</th>\n",
       "      <th>5</th>\n",
       "      <th>6</th>\n",
       "      <th>7</th>\n",
       "      <th>8</th>\n",
       "      <th>9</th>\n",
       "      <th>10</th>\n",
       "      <th>11</th>\n",
       "      <th>12</th>\n",
       "      <th>13</th>\n",
       "      <th>14</th>\n",
       "    </tr>\n",
       "  </thead>\n",
       "  <tbody>\n",
       "    <tr>\n",
       "      <th>0</th>\n",
       "      <td>1.752001</td>\n",
       "      <td>-0.382085</td>\n",
       "      <td>-0.836853</td>\n",
       "      <td>0.615818</td>\n",
       "      <td>-0.758448</td>\n",
       "      <td>2.256620</td>\n",
       "      <td>0.708736</td>\n",
       "      <td>-0.571754</td>\n",
       "      <td>-1.804050</td>\n",
       "      <td>0.129581</td>\n",
       "      <td>-0.306076</td>\n",
       "      <td>0.753566</td>\n",
       "      <td>1.232779</td>\n",
       "      <td>-0.195072</td>\n",
       "      <td>-0.327283</td>\n",
       "    </tr>\n",
       "    <tr>\n",
       "      <th>1</th>\n",
       "      <td>0.909224</td>\n",
       "      <td>-0.142801</td>\n",
       "      <td>-0.836853</td>\n",
       "      <td>-1.623855</td>\n",
       "      <td>0.916992</td>\n",
       "      <td>1.427389</td>\n",
       "      <td>0.784958</td>\n",
       "      <td>1.603194</td>\n",
       "      <td>-1.804050</td>\n",
       "      <td>0.129581</td>\n",
       "      <td>-0.306076</td>\n",
       "      <td>-1.300639</td>\n",
       "      <td>0.288243</td>\n",
       "      <td>-1.304646</td>\n",
       "      <td>-0.327283</td>\n",
       "    </tr>\n",
       "    <tr>\n",
       "      <th>2</th>\n",
       "      <td>-1.342608</td>\n",
       "      <td>-1.339220</td>\n",
       "      <td>-1.195034</td>\n",
       "      <td>-1.623855</td>\n",
       "      <td>0.916992</td>\n",
       "      <td>-1.391999</td>\n",
       "      <td>0.886673</td>\n",
       "      <td>2.690668</td>\n",
       "      <td>0.160546</td>\n",
       "      <td>0.129581</td>\n",
       "      <td>3.267159</td>\n",
       "      <td>-1.300639</td>\n",
       "      <td>-1.128561</td>\n",
       "      <td>-0.804892</td>\n",
       "      <td>-0.327283</td>\n",
       "    </tr>\n",
       "    <tr>\n",
       "      <th>3</th>\n",
       "      <td>0.564149</td>\n",
       "      <td>-0.142801</td>\n",
       "      <td>-0.836853</td>\n",
       "      <td>0.615818</td>\n",
       "      <td>-0.758448</td>\n",
       "      <td>0.598157</td>\n",
       "      <td>0.492096</td>\n",
       "      <td>-0.571754</td>\n",
       "      <td>-1.804050</td>\n",
       "      <td>0.129581</td>\n",
       "      <td>-0.306076</td>\n",
       "      <td>1.127058</td>\n",
       "      <td>-1.600829</td>\n",
       "      <td>-1.057744</td>\n",
       "      <td>-0.327283</td>\n",
       "    </tr>\n",
       "    <tr>\n",
       "      <th>4</th>\n",
       "      <td>-0.356049</td>\n",
       "      <td>0.575051</td>\n",
       "      <td>-1.195034</td>\n",
       "      <td>0.615818</td>\n",
       "      <td>0.916992</td>\n",
       "      <td>-1.391999</td>\n",
       "      <td>-0.487734</td>\n",
       "      <td>-0.571754</td>\n",
       "      <td>0.160546</td>\n",
       "      <td>0.129581</td>\n",
       "      <td>-0.306076</td>\n",
       "      <td>0.753566</td>\n",
       "      <td>-0.656293</td>\n",
       "      <td>-0.804892</td>\n",
       "      <td>-0.327283</td>\n",
       "    </tr>\n",
       "    <tr>\n",
       "      <th>...</th>\n",
       "      <td>...</td>\n",
       "      <td>...</td>\n",
       "      <td>...</td>\n",
       "      <td>...</td>\n",
       "      <td>...</td>\n",
       "      <td>...</td>\n",
       "      <td>...</td>\n",
       "      <td>...</td>\n",
       "      <td>...</td>\n",
       "      <td>...</td>\n",
       "      <td>...</td>\n",
       "      <td>...</td>\n",
       "      <td>...</td>\n",
       "      <td>...</td>\n",
       "      <td>...</td>\n",
       "    </tr>\n",
       "    <tr>\n",
       "      <th>15230</th>\n",
       "      <td>0.991068</td>\n",
       "      <td>0.335767</td>\n",
       "      <td>0.954052</td>\n",
       "      <td>0.615818</td>\n",
       "      <td>-1.316928</td>\n",
       "      <td>2.256620</td>\n",
       "      <td>-0.285589</td>\n",
       "      <td>-0.571754</td>\n",
       "      <td>2.125143</td>\n",
       "      <td>0.129581</td>\n",
       "      <td>-0.306076</td>\n",
       "      <td>-0.180164</td>\n",
       "      <td>1.232779</td>\n",
       "      <td>0.209491</td>\n",
       "      <td>-0.327283</td>\n",
       "    </tr>\n",
       "    <tr>\n",
       "      <th>15231</th>\n",
       "      <td>0.495577</td>\n",
       "      <td>-0.142801</td>\n",
       "      <td>0.954052</td>\n",
       "      <td>0.615818</td>\n",
       "      <td>0.916992</td>\n",
       "      <td>0.432311</td>\n",
       "      <td>0.398442</td>\n",
       "      <td>1.603194</td>\n",
       "      <td>0.160546</td>\n",
       "      <td>0.129581</td>\n",
       "      <td>-0.306076</td>\n",
       "      <td>0.566820</td>\n",
       "      <td>0.288243</td>\n",
       "      <td>-0.566913</td>\n",
       "      <td>-0.327283</td>\n",
       "    </tr>\n",
       "    <tr>\n",
       "      <th>15232</th>\n",
       "      <td>0.506637</td>\n",
       "      <td>-0.382085</td>\n",
       "      <td>-0.836853</td>\n",
       "      <td>0.615818</td>\n",
       "      <td>-1.316928</td>\n",
       "      <td>-0.231074</td>\n",
       "      <td>-0.176690</td>\n",
       "      <td>-0.571754</td>\n",
       "      <td>0.160546</td>\n",
       "      <td>0.129581</td>\n",
       "      <td>-0.306076</td>\n",
       "      <td>-0.180164</td>\n",
       "      <td>-0.656293</td>\n",
       "      <td>-0.513368</td>\n",
       "      <td>-0.327283</td>\n",
       "    </tr>\n",
       "    <tr>\n",
       "      <th>15233</th>\n",
       "      <td>1.506468</td>\n",
       "      <td>-1.099936</td>\n",
       "      <td>-0.836853</td>\n",
       "      <td>0.615818</td>\n",
       "      <td>-1.316928</td>\n",
       "      <td>-0.231074</td>\n",
       "      <td>-1.004482</td>\n",
       "      <td>-0.571754</td>\n",
       "      <td>0.160546</td>\n",
       "      <td>0.129581</td>\n",
       "      <td>-0.306076</td>\n",
       "      <td>-1.300639</td>\n",
       "      <td>-0.656293</td>\n",
       "      <td>-1.352242</td>\n",
       "      <td>-0.327283</td>\n",
       "    </tr>\n",
       "    <tr>\n",
       "      <th>15234</th>\n",
       "      <td>0.323040</td>\n",
       "      <td>0.096483</td>\n",
       "      <td>0.954052</td>\n",
       "      <td>0.615818</td>\n",
       "      <td>-0.758448</td>\n",
       "      <td>0.432311</td>\n",
       "      <td>0.720407</td>\n",
       "      <td>-0.571754</td>\n",
       "      <td>0.160546</td>\n",
       "      <td>0.129581</td>\n",
       "      <td>-0.306076</td>\n",
       "      <td>1.127058</td>\n",
       "      <td>1.232779</td>\n",
       "      <td>-0.566913</td>\n",
       "      <td>-0.327283</td>\n",
       "    </tr>\n",
       "  </tbody>\n",
       "</table>\n",
       "<p>15235 rows × 15 columns</p>\n",
       "</div>"
      ],
      "text/plain": [
       "             0         1         2         3         4         5         6   \\\n",
       "0      1.752001 -0.382085 -0.836853  0.615818 -0.758448  2.256620  0.708736   \n",
       "1      0.909224 -0.142801 -0.836853 -1.623855  0.916992  1.427389  0.784958   \n",
       "2     -1.342608 -1.339220 -1.195034 -1.623855  0.916992 -1.391999  0.886673   \n",
       "3      0.564149 -0.142801 -0.836853  0.615818 -0.758448  0.598157  0.492096   \n",
       "4     -0.356049  0.575051 -1.195034  0.615818  0.916992 -1.391999 -0.487734   \n",
       "...         ...       ...       ...       ...       ...       ...       ...   \n",
       "15230  0.991068  0.335767  0.954052  0.615818 -1.316928  2.256620 -0.285589   \n",
       "15231  0.495577 -0.142801  0.954052  0.615818  0.916992  0.432311  0.398442   \n",
       "15232  0.506637 -0.382085 -0.836853  0.615818 -1.316928 -0.231074 -0.176690   \n",
       "15233  1.506468 -1.099936 -0.836853  0.615818 -1.316928 -0.231074 -1.004482   \n",
       "15234  0.323040  0.096483  0.954052  0.615818 -0.758448  0.432311  0.720407   \n",
       "\n",
       "             7         8         9         10        11        12        13  \\\n",
       "0     -0.571754 -1.804050  0.129581 -0.306076  0.753566  1.232779 -0.195072   \n",
       "1      1.603194 -1.804050  0.129581 -0.306076 -1.300639  0.288243 -1.304646   \n",
       "2      2.690668  0.160546  0.129581  3.267159 -1.300639 -1.128561 -0.804892   \n",
       "3     -0.571754 -1.804050  0.129581 -0.306076  1.127058 -1.600829 -1.057744   \n",
       "4     -0.571754  0.160546  0.129581 -0.306076  0.753566 -0.656293 -0.804892   \n",
       "...         ...       ...       ...       ...       ...       ...       ...   \n",
       "15230 -0.571754  2.125143  0.129581 -0.306076 -0.180164  1.232779  0.209491   \n",
       "15231  1.603194  0.160546  0.129581 -0.306076  0.566820  0.288243 -0.566913   \n",
       "15232 -0.571754  0.160546  0.129581 -0.306076 -0.180164 -0.656293 -0.513368   \n",
       "15233 -0.571754  0.160546  0.129581 -0.306076 -1.300639 -0.656293 -1.352242   \n",
       "15234 -0.571754  0.160546  0.129581 -0.306076  1.127058  1.232779 -0.566913   \n",
       "\n",
       "             14  \n",
       "0     -0.327283  \n",
       "1     -0.327283  \n",
       "2     -0.327283  \n",
       "3     -0.327283  \n",
       "4     -0.327283  \n",
       "...         ...  \n",
       "15230 -0.327283  \n",
       "15231 -0.327283  \n",
       "15232 -0.327283  \n",
       "15233 -0.327283  \n",
       "15234 -0.327283  \n",
       "\n",
       "[15235 rows x 15 columns]"
      ]
     },
     "execution_count": 93,
     "metadata": {},
     "output_type": "execute_result"
    }
   ],
   "source": [
    "pd.DataFrame(x_scaled)"
   ]
  },
  {
   "cell_type": "markdown",
   "id": "05de6920",
   "metadata": {
    "papermill": {
     "duration": 0.054075,
     "end_time": "2022-07-12T19:12:52.901664",
     "exception": false,
     "start_time": "2022-07-12T19:12:52.847589",
     "status": "completed"
    },
    "tags": []
   },
   "source": [
    "### Multicollinearity check through Variance Inflation Factor"
   ]
  },
  {
   "cell_type": "code",
   "execution_count": 94,
   "id": "eb26d201",
   "metadata": {
    "execution": {
     "iopub.execute_input": "2022-07-12T19:12:53.011811Z",
     "iopub.status.busy": "2022-07-12T19:12:53.010533Z",
     "iopub.status.idle": "2022-07-12T19:12:53.454766Z",
     "shell.execute_reply": "2022-07-12T19:12:53.453477Z"
    },
    "papermill": {
     "duration": 0.503432,
     "end_time": "2022-07-12T19:12:53.458708",
     "exception": false,
     "start_time": "2022-07-12T19:12:52.955276",
     "status": "completed"
    },
    "tags": []
   },
   "outputs": [
    {
     "data": {
      "text/html": [
       "<div>\n",
       "<style scoped>\n",
       "    .dataframe tbody tr th:only-of-type {\n",
       "        vertical-align: middle;\n",
       "    }\n",
       "\n",
       "    .dataframe tbody tr th {\n",
       "        vertical-align: top;\n",
       "    }\n",
       "\n",
       "    .dataframe thead th {\n",
       "        text-align: right;\n",
       "    }\n",
       "</style>\n",
       "<table border=\"1\" class=\"dataframe\">\n",
       "  <thead>\n",
       "    <tr style=\"text-align: right;\">\n",
       "      <th></th>\n",
       "      <th>Variance Inflation Factor</th>\n",
       "      <th>Features</th>\n",
       "    </tr>\n",
       "  </thead>\n",
       "  <tbody>\n",
       "    <tr>\n",
       "      <th>0</th>\n",
       "      <td>1.529791</td>\n",
       "      <td>Levy</td>\n",
       "    </tr>\n",
       "    <tr>\n",
       "      <th>1</th>\n",
       "      <td>1.737441</td>\n",
       "      <td>Prod. year</td>\n",
       "    </tr>\n",
       "    <tr>\n",
       "      <th>2</th>\n",
       "      <td>1.208829</td>\n",
       "      <td>Category</td>\n",
       "    </tr>\n",
       "    <tr>\n",
       "      <th>3</th>\n",
       "      <td>1.453632</td>\n",
       "      <td>Leather interior</td>\n",
       "    </tr>\n",
       "    <tr>\n",
       "      <th>4</th>\n",
       "      <td>1.181265</td>\n",
       "      <td>Fuel type</td>\n",
       "    </tr>\n",
       "    <tr>\n",
       "      <th>5</th>\n",
       "      <td>1.608468</td>\n",
       "      <td>Engine volume</td>\n",
       "    </tr>\n",
       "    <tr>\n",
       "      <th>6</th>\n",
       "      <td>1.196599</td>\n",
       "      <td>Mileage</td>\n",
       "    </tr>\n",
       "    <tr>\n",
       "      <th>7</th>\n",
       "      <td>1.289001</td>\n",
       "      <td>Gear box type</td>\n",
       "    </tr>\n",
       "    <tr>\n",
       "      <th>8</th>\n",
       "      <td>1.164489</td>\n",
       "      <td>Drive wheels</td>\n",
       "    </tr>\n",
       "    <tr>\n",
       "      <th>9</th>\n",
       "      <td>1.116420</td>\n",
       "      <td>Doors</td>\n",
       "    </tr>\n",
       "    <tr>\n",
       "      <th>10</th>\n",
       "      <td>1.333652</td>\n",
       "      <td>Wheel</td>\n",
       "    </tr>\n",
       "    <tr>\n",
       "      <th>11</th>\n",
       "      <td>1.031423</td>\n",
       "      <td>Color</td>\n",
       "    </tr>\n",
       "    <tr>\n",
       "      <th>12</th>\n",
       "      <td>1.328432</td>\n",
       "      <td>Airbags</td>\n",
       "    </tr>\n",
       "    <tr>\n",
       "      <th>13</th>\n",
       "      <td>1.137698</td>\n",
       "      <td>Car model</td>\n",
       "    </tr>\n",
       "    <tr>\n",
       "      <th>14</th>\n",
       "      <td>1.125614</td>\n",
       "      <td>Engine volume Type</td>\n",
       "    </tr>\n",
       "  </tbody>\n",
       "</table>\n",
       "</div>"
      ],
      "text/plain": [
       "    Variance Inflation Factor            Features\n",
       "0                    1.529791                Levy\n",
       "1                    1.737441          Prod. year\n",
       "2                    1.208829            Category\n",
       "3                    1.453632    Leather interior\n",
       "4                    1.181265           Fuel type\n",
       "5                    1.608468       Engine volume\n",
       "6                    1.196599             Mileage\n",
       "7                    1.289001       Gear box type\n",
       "8                    1.164489        Drive wheels\n",
       "9                    1.116420               Doors\n",
       "10                   1.333652               Wheel\n",
       "11                   1.031423               Color\n",
       "12                   1.328432             Airbags\n",
       "13                   1.137698           Car model\n",
       "14                   1.125614  Engine volume Type"
      ]
     },
     "execution_count": 94,
     "metadata": {},
     "output_type": "execute_result"
    }
   ],
   "source": [
    "from statsmodels.stats.outliers_influence import variance_inflation_factor\n",
    "variable = x_scaled\n",
    "\n",
    "vif = pd.DataFrame()\n",
    "vif['Variance Inflation Factor'] = [ variance_inflation_factor(variable,i) for i in range(variable.shape[1])]\n",
    "vif['Features'] = x.columns\n",
    "vif"
   ]
  },
  {
   "cell_type": "markdown",
   "id": "f838a012",
   "metadata": {
    "papermill": {
     "duration": 0.05458,
     "end_time": "2022-07-12T19:12:53.613679",
     "exception": false,
     "start_time": "2022-07-12T19:12:53.559099",
     "status": "completed"
    },
    "tags": []
   },
   "source": [
    "#### Observations: There is no multicollinearity among independent variables as VIF values are not greater than 5."
   ]
  },
  {
   "cell_type": "markdown",
   "id": "343306d2",
   "metadata": {
    "papermill": {
     "duration": 0.05766,
     "end_time": "2022-07-12T19:12:53.728791",
     "exception": false,
     "start_time": "2022-07-12T19:12:53.671131",
     "status": "completed"
    },
    "tags": []
   },
   "source": [
    "### Splitting the data into training and testing "
   ]
  },
  {
   "cell_type": "code",
   "execution_count": 95,
   "id": "1b91ea0f",
   "metadata": {
    "execution": {
     "iopub.execute_input": "2022-07-12T19:12:53.846284Z",
     "iopub.status.busy": "2022-07-12T19:12:53.845902Z",
     "iopub.status.idle": "2022-07-12T19:12:53.922645Z",
     "shell.execute_reply": "2022-07-12T19:12:53.921795Z"
    },
    "papermill": {
     "duration": 0.139763,
     "end_time": "2022-07-12T19:12:53.925905",
     "exception": false,
     "start_time": "2022-07-12T19:12:53.786142",
     "status": "completed"
    },
    "tags": []
   },
   "outputs": [
    {
     "name": "stdout",
     "output_type": "stream",
     "text": [
      "(12188, 15)\n",
      "(3047, 15)\n",
      "(12188,)\n",
      "(3047,)\n"
     ]
    }
   ],
   "source": [
    "from sklearn.model_selection import train_test_split\n",
    "x_train,x_test,y_train,y_test = train_test_split(x,y,train_size=0.8,random_state=101)\n",
    "print(x_train.shape)\n",
    "print(x_test.shape)\n",
    "print(y_train.shape)\n",
    "print(y_test.shape)"
   ]
  },
  {
   "cell_type": "code",
   "execution_count": 96,
   "id": "9d42f0d9",
   "metadata": {
    "execution": {
     "iopub.execute_input": "2022-07-12T19:12:54.042830Z",
     "iopub.status.busy": "2022-07-12T19:12:54.042252Z",
     "iopub.status.idle": "2022-07-12T19:12:54.057710Z",
     "shell.execute_reply": "2022-07-12T19:12:54.056378Z"
    },
    "papermill": {
     "duration": 0.078002,
     "end_time": "2022-07-12T19:12:54.060369",
     "exception": false,
     "start_time": "2022-07-12T19:12:53.982367",
     "status": "completed"
    },
    "tags": []
   },
   "outputs": [
    {
     "data": {
      "text/html": [
       "<div>\n",
       "<style scoped>\n",
       "    .dataframe tbody tr th:only-of-type {\n",
       "        vertical-align: middle;\n",
       "    }\n",
       "\n",
       "    .dataframe tbody tr th {\n",
       "        vertical-align: top;\n",
       "    }\n",
       "\n",
       "    .dataframe thead th {\n",
       "        text-align: right;\n",
       "    }\n",
       "</style>\n",
       "<table border=\"1\" class=\"dataframe\">\n",
       "  <thead>\n",
       "    <tr style=\"text-align: right;\">\n",
       "      <th></th>\n",
       "      <th>Levy</th>\n",
       "      <th>Prod. year</th>\n",
       "      <th>Category</th>\n",
       "      <th>Leather interior</th>\n",
       "      <th>Fuel type</th>\n",
       "      <th>Engine volume</th>\n",
       "      <th>Mileage</th>\n",
       "      <th>Gear box type</th>\n",
       "      <th>Drive wheels</th>\n",
       "      <th>Doors</th>\n",
       "      <th>Wheel</th>\n",
       "      <th>Color</th>\n",
       "      <th>Airbags</th>\n",
       "      <th>Car model</th>\n",
       "      <th>Engine volume Type</th>\n",
       "    </tr>\n",
       "  </thead>\n",
       "  <tbody>\n",
       "    <tr>\n",
       "      <th>15569</th>\n",
       "      <td>0</td>\n",
       "      <td>2003</td>\n",
       "      <td>3</td>\n",
       "      <td>1</td>\n",
       "      <td>5</td>\n",
       "      <td>1.6</td>\n",
       "      <td>0</td>\n",
       "      <td>1</td>\n",
       "      <td>1</td>\n",
       "      <td>0</td>\n",
       "      <td>1</td>\n",
       "      <td>12</td>\n",
       "      <td>2</td>\n",
       "      <td>900</td>\n",
       "      <td>0</td>\n",
       "    </tr>\n",
       "    <tr>\n",
       "      <th>12172</th>\n",
       "      <td>638</td>\n",
       "      <td>2014</td>\n",
       "      <td>9</td>\n",
       "      <td>1</td>\n",
       "      <td>5</td>\n",
       "      <td>2.0</td>\n",
       "      <td>45504</td>\n",
       "      <td>0</td>\n",
       "      <td>1</td>\n",
       "      <td>1</td>\n",
       "      <td>0</td>\n",
       "      <td>1</td>\n",
       "      <td>4</td>\n",
       "      <td>482</td>\n",
       "      <td>0</td>\n",
       "    </tr>\n",
       "    <tr>\n",
       "      <th>6102</th>\n",
       "      <td>1185</td>\n",
       "      <td>2009</td>\n",
       "      <td>4</td>\n",
       "      <td>1</td>\n",
       "      <td>2</td>\n",
       "      <td>2.5</td>\n",
       "      <td>196682</td>\n",
       "      <td>0</td>\n",
       "      <td>1</td>\n",
       "      <td>1</td>\n",
       "      <td>0</td>\n",
       "      <td>1</td>\n",
       "      <td>0</td>\n",
       "      <td>252</td>\n",
       "      <td>0</td>\n",
       "    </tr>\n",
       "    <tr>\n",
       "      <th>12688</th>\n",
       "      <td>0</td>\n",
       "      <td>2006</td>\n",
       "      <td>9</td>\n",
       "      <td>0</td>\n",
       "      <td>5</td>\n",
       "      <td>2.0</td>\n",
       "      <td>225000</td>\n",
       "      <td>0</td>\n",
       "      <td>0</td>\n",
       "      <td>1</td>\n",
       "      <td>0</td>\n",
       "      <td>7</td>\n",
       "      <td>6</td>\n",
       "      <td>13</td>\n",
       "      <td>0</td>\n",
       "    </tr>\n",
       "    <tr>\n",
       "      <th>7552</th>\n",
       "      <td>1091</td>\n",
       "      <td>2016</td>\n",
       "      <td>9</td>\n",
       "      <td>1</td>\n",
       "      <td>5</td>\n",
       "      <td>2.5</td>\n",
       "      <td>70344</td>\n",
       "      <td>0</td>\n",
       "      <td>1</td>\n",
       "      <td>1</td>\n",
       "      <td>0</td>\n",
       "      <td>14</td>\n",
       "      <td>12</td>\n",
       "      <td>277</td>\n",
       "      <td>0</td>\n",
       "    </tr>\n",
       "  </tbody>\n",
       "</table>\n",
       "</div>"
      ],
      "text/plain": [
       "       Levy  Prod. year  Category  Leather interior  Fuel type  Engine volume  \\\n",
       "15569     0        2003         3                 1          5            1.6   \n",
       "12172   638        2014         9                 1          5            2.0   \n",
       "6102   1185        2009         4                 1          2            2.5   \n",
       "12688     0        2006         9                 0          5            2.0   \n",
       "7552   1091        2016         9                 1          5            2.5   \n",
       "\n",
       "       Mileage  Gear box type  Drive wheels  Doors  Wheel  Color  Airbags  \\\n",
       "15569        0              1             1      0      1     12        2   \n",
       "12172    45504              0             1      1      0      1        4   \n",
       "6102    196682              0             1      1      0      1        0   \n",
       "12688   225000              0             0      1      0      7        6   \n",
       "7552     70344              0             1      1      0     14       12   \n",
       "\n",
       "       Car model  Engine volume Type  \n",
       "15569        900                   0  \n",
       "12172        482                   0  \n",
       "6102         252                   0  \n",
       "12688         13                   0  \n",
       "7552         277                   0  "
      ]
     },
     "execution_count": 96,
     "metadata": {},
     "output_type": "execute_result"
    }
   ],
   "source": [
    "x_train.head()"
   ]
  },
  {
   "cell_type": "code",
   "execution_count": 97,
   "id": "1d4d7a25",
   "metadata": {
    "execution": {
     "iopub.execute_input": "2022-07-12T19:12:54.176071Z",
     "iopub.status.busy": "2022-07-12T19:12:54.175624Z",
     "iopub.status.idle": "2022-07-12T19:12:54.193231Z",
     "shell.execute_reply": "2022-07-12T19:12:54.192072Z"
    },
    "papermill": {
     "duration": 0.077444,
     "end_time": "2022-07-12T19:12:54.195616",
     "exception": false,
     "start_time": "2022-07-12T19:12:54.118172",
     "status": "completed"
    },
    "tags": []
   },
   "outputs": [
    {
     "data": {
      "text/html": [
       "<div>\n",
       "<style scoped>\n",
       "    .dataframe tbody tr th:only-of-type {\n",
       "        vertical-align: middle;\n",
       "    }\n",
       "\n",
       "    .dataframe tbody tr th {\n",
       "        vertical-align: top;\n",
       "    }\n",
       "\n",
       "    .dataframe thead th {\n",
       "        text-align: right;\n",
       "    }\n",
       "</style>\n",
       "<table border=\"1\" class=\"dataframe\">\n",
       "  <thead>\n",
       "    <tr style=\"text-align: right;\">\n",
       "      <th></th>\n",
       "      <th>Levy</th>\n",
       "      <th>Prod. year</th>\n",
       "      <th>Category</th>\n",
       "      <th>Leather interior</th>\n",
       "      <th>Fuel type</th>\n",
       "      <th>Engine volume</th>\n",
       "      <th>Mileage</th>\n",
       "      <th>Gear box type</th>\n",
       "      <th>Drive wheels</th>\n",
       "      <th>Doors</th>\n",
       "      <th>Wheel</th>\n",
       "      <th>Color</th>\n",
       "      <th>Airbags</th>\n",
       "      <th>Car model</th>\n",
       "      <th>Engine volume Type</th>\n",
       "    </tr>\n",
       "  </thead>\n",
       "  <tbody>\n",
       "    <tr>\n",
       "      <th>11855</th>\n",
       "      <td>473</td>\n",
       "      <td>2014</td>\n",
       "      <td>9</td>\n",
       "      <td>1</td>\n",
       "      <td>5</td>\n",
       "      <td>1.4</td>\n",
       "      <td>83000</td>\n",
       "      <td>0</td>\n",
       "      <td>1</td>\n",
       "      <td>1</td>\n",
       "      <td>0</td>\n",
       "      <td>14</td>\n",
       "      <td>6</td>\n",
       "      <td>155</td>\n",
       "      <td>0</td>\n",
       "    </tr>\n",
       "    <tr>\n",
       "      <th>5293</th>\n",
       "      <td>0</td>\n",
       "      <td>2010</td>\n",
       "      <td>9</td>\n",
       "      <td>0</td>\n",
       "      <td>2</td>\n",
       "      <td>1.8</td>\n",
       "      <td>208000</td>\n",
       "      <td>3</td>\n",
       "      <td>1</td>\n",
       "      <td>1</td>\n",
       "      <td>0</td>\n",
       "      <td>5</td>\n",
       "      <td>6</td>\n",
       "      <td>1069</td>\n",
       "      <td>0</td>\n",
       "    </tr>\n",
       "    <tr>\n",
       "      <th>9511</th>\n",
       "      <td>0</td>\n",
       "      <td>2014</td>\n",
       "      <td>7</td>\n",
       "      <td>0</td>\n",
       "      <td>1</td>\n",
       "      <td>2.2</td>\n",
       "      <td>140000</td>\n",
       "      <td>2</td>\n",
       "      <td>2</td>\n",
       "      <td>1</td>\n",
       "      <td>0</td>\n",
       "      <td>14</td>\n",
       "      <td>6</td>\n",
       "      <td>744</td>\n",
       "      <td>1</td>\n",
       "    </tr>\n",
       "    <tr>\n",
       "      <th>15427</th>\n",
       "      <td>382</td>\n",
       "      <td>2017</td>\n",
       "      <td>3</td>\n",
       "      <td>1</td>\n",
       "      <td>2</td>\n",
       "      <td>1.5</td>\n",
       "      <td>26724</td>\n",
       "      <td>2</td>\n",
       "      <td>1</td>\n",
       "      <td>1</td>\n",
       "      <td>0</td>\n",
       "      <td>2</td>\n",
       "      <td>12</td>\n",
       "      <td>1077</td>\n",
       "      <td>0</td>\n",
       "    </tr>\n",
       "    <tr>\n",
       "      <th>18304</th>\n",
       "      <td>475</td>\n",
       "      <td>2012</td>\n",
       "      <td>3</td>\n",
       "      <td>1</td>\n",
       "      <td>5</td>\n",
       "      <td>1.4</td>\n",
       "      <td>92800</td>\n",
       "      <td>2</td>\n",
       "      <td>1</td>\n",
       "      <td>0</td>\n",
       "      <td>0</td>\n",
       "      <td>11</td>\n",
       "      <td>7</td>\n",
       "      <td>225</td>\n",
       "      <td>0</td>\n",
       "    </tr>\n",
       "  </tbody>\n",
       "</table>\n",
       "</div>"
      ],
      "text/plain": [
       "       Levy  Prod. year  Category  Leather interior  Fuel type  Engine volume  \\\n",
       "11855   473        2014         9                 1          5            1.4   \n",
       "5293      0        2010         9                 0          2            1.8   \n",
       "9511      0        2014         7                 0          1            2.2   \n",
       "15427   382        2017         3                 1          2            1.5   \n",
       "18304   475        2012         3                 1          5            1.4   \n",
       "\n",
       "       Mileage  Gear box type  Drive wheels  Doors  Wheel  Color  Airbags  \\\n",
       "11855    83000              0             1      1      0     14        6   \n",
       "5293    208000              3             1      1      0      5        6   \n",
       "9511    140000              2             2      1      0     14        6   \n",
       "15427    26724              2             1      1      0      2       12   \n",
       "18304    92800              2             1      0      0     11        7   \n",
       "\n",
       "       Car model  Engine volume Type  \n",
       "11855        155                   0  \n",
       "5293        1069                   0  \n",
       "9511         744                   1  \n",
       "15427       1077                   0  \n",
       "18304        225                   0  "
      ]
     },
     "execution_count": 97,
     "metadata": {},
     "output_type": "execute_result"
    }
   ],
   "source": [
    "x_test.head()"
   ]
  },
  {
   "cell_type": "code",
   "execution_count": 98,
   "id": "0579cde2",
   "metadata": {
    "execution": {
     "iopub.execute_input": "2022-07-12T19:12:54.309267Z",
     "iopub.status.busy": "2022-07-12T19:12:54.308571Z",
     "iopub.status.idle": "2022-07-12T19:12:54.317666Z",
     "shell.execute_reply": "2022-07-12T19:12:54.316393Z"
    },
    "papermill": {
     "duration": 0.06931,
     "end_time": "2022-07-12T19:12:54.320016",
     "exception": false,
     "start_time": "2022-07-12T19:12:54.250706",
     "status": "completed"
    },
    "tags": []
   },
   "outputs": [
    {
     "data": {
      "text/plain": [
       "15569     2998\n",
       "12172    14113\n",
       "6102       188\n",
       "12688    11000\n",
       "7552      1725\n",
       "Name: Price, dtype: int64"
      ]
     },
     "execution_count": 98,
     "metadata": {},
     "output_type": "execute_result"
    }
   ],
   "source": [
    "y_train.head()"
   ]
  },
  {
   "cell_type": "code",
   "execution_count": 99,
   "id": "49dbe4b0",
   "metadata": {
    "execution": {
     "iopub.execute_input": "2022-07-12T19:12:54.432612Z",
     "iopub.status.busy": "2022-07-12T19:12:54.432162Z",
     "iopub.status.idle": "2022-07-12T19:12:54.440351Z",
     "shell.execute_reply": "2022-07-12T19:12:54.438684Z"
    },
    "papermill": {
     "duration": 0.067788,
     "end_time": "2022-07-12T19:12:54.442898",
     "exception": false,
     "start_time": "2022-07-12T19:12:54.375110",
     "status": "completed"
    },
    "tags": []
   },
   "outputs": [
    {
     "data": {
      "text/plain": [
       "11855    10976\n",
       "5293     14583\n",
       "9511     43278\n",
       "15427    14426\n",
       "18304    11917\n",
       "Name: Price, dtype: int64"
      ]
     },
     "execution_count": 99,
     "metadata": {},
     "output_type": "execute_result"
    }
   ],
   "source": [
    "y_test.head()"
   ]
  },
  {
   "cell_type": "markdown",
   "id": "e4a66c6b",
   "metadata": {
    "papermill": {
     "duration": 0.054619,
     "end_time": "2022-07-12T19:12:54.552868",
     "exception": false,
     "start_time": "2022-07-12T19:12:54.498249",
     "status": "completed"
    },
    "tags": []
   },
   "source": [
    "### Creating Linear Regression Model with training dataset"
   ]
  },
  {
   "cell_type": "code",
   "execution_count": 100,
   "id": "16f12a55",
   "metadata": {
    "execution": {
     "iopub.execute_input": "2022-07-12T19:12:54.666024Z",
     "iopub.status.busy": "2022-07-12T19:12:54.665582Z",
     "iopub.status.idle": "2022-07-12T19:12:54.790629Z",
     "shell.execute_reply": "2022-07-12T19:12:54.789104Z"
    },
    "papermill": {
     "duration": 0.186154,
     "end_time": "2022-07-12T19:12:54.794438",
     "exception": false,
     "start_time": "2022-07-12T19:12:54.608284",
     "status": "completed"
    },
    "tags": []
   },
   "outputs": [
    {
     "data": {
      "text/plain": [
       "LinearRegression()"
      ]
     },
     "execution_count": 100,
     "metadata": {},
     "output_type": "execute_result"
    }
   ],
   "source": [
    "from sklearn.linear_model import LinearRegression\n",
    "lm = LinearRegression()\n",
    "lm.fit(x_train,y_train)"
   ]
  },
  {
   "cell_type": "markdown",
   "id": "830916f3",
   "metadata": {
    "papermill": {
     "duration": 0.055581,
     "end_time": "2022-07-12T19:12:54.952298",
     "exception": false,
     "start_time": "2022-07-12T19:12:54.896717",
     "status": "completed"
    },
    "tags": []
   },
   "source": [
    "## Printing the intercept and slope value. \n",
    "\n",
    "#### Linear Regression Equation Y = mx+c. Here m is the intercept and c is the slope. X values are the values of independent variables. So the equation becomes Y =mx1+mx2+mx3+...+mxn + c "
   ]
  },
  {
   "cell_type": "code",
   "execution_count": 101,
   "id": "298548c1",
   "metadata": {
    "execution": {
     "iopub.execute_input": "2022-07-12T19:12:55.067562Z",
     "iopub.status.busy": "2022-07-12T19:12:55.067138Z",
     "iopub.status.idle": "2022-07-12T19:12:55.072600Z",
     "shell.execute_reply": "2022-07-12T19:12:55.071714Z"
    },
    "papermill": {
     "duration": 0.066526,
     "end_time": "2022-07-12T19:12:55.075298",
     "exception": false,
     "start_time": "2022-07-12T19:12:55.008772",
     "status": "completed"
    },
    "tags": []
   },
   "outputs": [
    {
     "name": "stdout",
     "output_type": "stream",
     "text": [
      "-2102866.786537205\n"
     ]
    }
   ],
   "source": [
    "print(lm.intercept_) "
   ]
  },
  {
   "cell_type": "code",
   "execution_count": 102,
   "id": "55fd6dbb",
   "metadata": {
    "execution": {
     "iopub.execute_input": "2022-07-12T19:12:55.188953Z",
     "iopub.status.busy": "2022-07-12T19:12:55.188169Z",
     "iopub.status.idle": "2022-07-12T19:12:55.193749Z",
     "shell.execute_reply": "2022-07-12T19:12:55.192936Z"
    },
    "papermill": {
     "duration": 0.066138,
     "end_time": "2022-07-12T19:12:55.197692",
     "exception": false,
     "start_time": "2022-07-12T19:12:55.131554",
     "status": "completed"
    },
    "tags": []
   },
   "outputs": [
    {
     "name": "stdout",
     "output_type": "stream",
     "text": [
      "[-3.55503418e+00  1.05422439e+03 -3.70590796e+02 -2.35259534e+02\n",
      " -7.53077756e+02  2.95892460e+03 -1.85448243e-02  2.36021668e+03\n",
      "  1.19198841e+03  1.91171513e+03 -3.82180849e+03  3.75290524e+01\n",
      " -6.06231240e+02 -5.97827765e-01  5.56629925e+03]\n"
     ]
    }
   ],
   "source": [
    "print(lm.coef_) "
   ]
  },
  {
   "cell_type": "code",
   "execution_count": 103,
   "id": "30593bb9",
   "metadata": {
    "execution": {
     "iopub.execute_input": "2022-07-12T19:12:55.312466Z",
     "iopub.status.busy": "2022-07-12T19:12:55.312006Z",
     "iopub.status.idle": "2022-07-12T19:12:55.324851Z",
     "shell.execute_reply": "2022-07-12T19:12:55.323635Z"
    },
    "papermill": {
     "duration": 0.072584,
     "end_time": "2022-07-12T19:12:55.327041",
     "exception": false,
     "start_time": "2022-07-12T19:12:55.254457",
     "status": "completed"
    },
    "tags": []
   },
   "outputs": [
    {
     "data": {
      "text/html": [
       "<div>\n",
       "<style scoped>\n",
       "    .dataframe tbody tr th:only-of-type {\n",
       "        vertical-align: middle;\n",
       "    }\n",
       "\n",
       "    .dataframe tbody tr th {\n",
       "        vertical-align: top;\n",
       "    }\n",
       "\n",
       "    .dataframe thead th {\n",
       "        text-align: right;\n",
       "    }\n",
       "</style>\n",
       "<table border=\"1\" class=\"dataframe\">\n",
       "  <thead>\n",
       "    <tr style=\"text-align: right;\">\n",
       "      <th></th>\n",
       "      <th>Coefficient</th>\n",
       "    </tr>\n",
       "  </thead>\n",
       "  <tbody>\n",
       "    <tr>\n",
       "      <th>Levy</th>\n",
       "      <td>-3.555034</td>\n",
       "    </tr>\n",
       "    <tr>\n",
       "      <th>Prod. year</th>\n",
       "      <td>1054.224395</td>\n",
       "    </tr>\n",
       "    <tr>\n",
       "      <th>Category</th>\n",
       "      <td>-370.590796</td>\n",
       "    </tr>\n",
       "    <tr>\n",
       "      <th>Leather interior</th>\n",
       "      <td>-235.259534</td>\n",
       "    </tr>\n",
       "    <tr>\n",
       "      <th>Fuel type</th>\n",
       "      <td>-753.077756</td>\n",
       "    </tr>\n",
       "    <tr>\n",
       "      <th>Engine volume</th>\n",
       "      <td>2958.924600</td>\n",
       "    </tr>\n",
       "    <tr>\n",
       "      <th>Mileage</th>\n",
       "      <td>-0.018545</td>\n",
       "    </tr>\n",
       "    <tr>\n",
       "      <th>Gear box type</th>\n",
       "      <td>2360.216684</td>\n",
       "    </tr>\n",
       "    <tr>\n",
       "      <th>Drive wheels</th>\n",
       "      <td>1191.988412</td>\n",
       "    </tr>\n",
       "    <tr>\n",
       "      <th>Doors</th>\n",
       "      <td>1911.715131</td>\n",
       "    </tr>\n",
       "    <tr>\n",
       "      <th>Wheel</th>\n",
       "      <td>-3821.808492</td>\n",
       "    </tr>\n",
       "    <tr>\n",
       "      <th>Color</th>\n",
       "      <td>37.529052</td>\n",
       "    </tr>\n",
       "    <tr>\n",
       "      <th>Airbags</th>\n",
       "      <td>-606.231240</td>\n",
       "    </tr>\n",
       "    <tr>\n",
       "      <th>Car model</th>\n",
       "      <td>-0.597828</td>\n",
       "    </tr>\n",
       "    <tr>\n",
       "      <th>Engine volume Type</th>\n",
       "      <td>5566.299252</td>\n",
       "    </tr>\n",
       "  </tbody>\n",
       "</table>\n",
       "</div>"
      ],
      "text/plain": [
       "                    Coefficient\n",
       "Levy                  -3.555034\n",
       "Prod. year          1054.224395\n",
       "Category            -370.590796\n",
       "Leather interior    -235.259534\n",
       "Fuel type           -753.077756\n",
       "Engine volume       2958.924600\n",
       "Mileage               -0.018545\n",
       "Gear box type       2360.216684\n",
       "Drive wheels        1191.988412\n",
       "Doors               1911.715131\n",
       "Wheel              -3821.808492\n",
       "Color                 37.529052\n",
       "Airbags             -606.231240\n",
       "Car model             -0.597828\n",
       "Engine volume Type  5566.299252"
      ]
     },
     "execution_count": 103,
     "metadata": {},
     "output_type": "execute_result"
    }
   ],
   "source": [
    "coef_df = pd.DataFrame(lm.coef_,x.columns,columns =['Coefficient'])\n",
    "coef_df"
   ]
  },
  {
   "cell_type": "markdown",
   "id": "77184604",
   "metadata": {
    "papermill": {
     "duration": 0.055042,
     "end_time": "2022-07-12T19:12:55.438515",
     "exception": false,
     "start_time": "2022-07-12T19:12:55.383473",
     "status": "completed"
    },
    "tags": []
   },
   "source": [
    "### Predict the model with test dataset"
   ]
  },
  {
   "cell_type": "code",
   "execution_count": 104,
   "id": "b17a3d1d",
   "metadata": {
    "execution": {
     "iopub.execute_input": "2022-07-12T19:12:55.552128Z",
     "iopub.status.busy": "2022-07-12T19:12:55.551303Z",
     "iopub.status.idle": "2022-07-12T19:12:55.567701Z",
     "shell.execute_reply": "2022-07-12T19:12:55.566148Z"
    },
    "papermill": {
     "duration": 0.079246,
     "end_time": "2022-07-12T19:12:55.572930",
     "exception": false,
     "start_time": "2022-07-12T19:12:55.493684",
     "status": "completed"
    },
    "tags": []
   },
   "outputs": [
    {
     "data": {
      "text/plain": [
       "array([13825.98115614, 18847.04834545, 31932.94964223, ...,\n",
       "       19181.86237163,  4935.71104396, 14516.30222427])"
      ]
     },
     "execution_count": 104,
     "metadata": {},
     "output_type": "execute_result"
    }
   ],
   "source": [
    "y_pred = lm.predict(x_test)\n",
    "y_pred"
   ]
  },
  {
   "cell_type": "markdown",
   "id": "70d4a2f4",
   "metadata": {
    "papermill": {
     "duration": 0.058517,
     "end_time": "2022-07-12T19:12:55.739783",
     "exception": false,
     "start_time": "2022-07-12T19:12:55.681266",
     "status": "completed"
    },
    "tags": []
   },
   "source": [
    "### Evalution by OLS Method"
   ]
  },
  {
   "cell_type": "code",
   "execution_count": 105,
   "id": "ebfbdd01",
   "metadata": {
    "execution": {
     "iopub.execute_input": "2022-07-12T19:12:55.859186Z",
     "iopub.status.busy": "2022-07-12T19:12:55.858601Z",
     "iopub.status.idle": "2022-07-12T19:12:55.865098Z",
     "shell.execute_reply": "2022-07-12T19:12:55.863752Z"
    },
    "papermill": {
     "duration": 0.070404,
     "end_time": "2022-07-12T19:12:55.867433",
     "exception": false,
     "start_time": "2022-07-12T19:12:55.797029",
     "status": "completed"
    },
    "tags": []
   },
   "outputs": [],
   "source": [
    "from statsmodels.regression.linear_model import OLS\n",
    "import statsmodels.regression.linear_model as smf"
   ]
  },
  {
   "cell_type": "code",
   "execution_count": 106,
   "id": "156492a7",
   "metadata": {
    "execution": {
     "iopub.execute_input": "2022-07-12T19:12:55.989642Z",
     "iopub.status.busy": "2022-07-12T19:12:55.988276Z",
     "iopub.status.idle": "2022-07-12T19:12:56.014978Z",
     "shell.execute_reply": "2022-07-12T19:12:56.013638Z"
    },
    "papermill": {
     "duration": 0.092853,
     "end_time": "2022-07-12T19:12:56.019248",
     "exception": false,
     "start_time": "2022-07-12T19:12:55.926395",
     "status": "completed"
    },
    "tags": []
   },
   "outputs": [],
   "source": [
    "reg_model = smf.OLS(endog = y_train,exog=x_train).fit()"
   ]
  },
  {
   "cell_type": "code",
   "execution_count": 107,
   "id": "e87119ba",
   "metadata": {
    "execution": {
     "iopub.execute_input": "2022-07-12T19:12:56.190024Z",
     "iopub.status.busy": "2022-07-12T19:12:56.189594Z",
     "iopub.status.idle": "2022-07-12T19:12:56.238676Z",
     "shell.execute_reply": "2022-07-12T19:12:56.237578Z"
    },
    "papermill": {
     "duration": 0.110959,
     "end_time": "2022-07-12T19:12:56.241955",
     "exception": false,
     "start_time": "2022-07-12T19:12:56.130996",
     "status": "completed"
    },
    "tags": []
   },
   "outputs": [
    {
     "data": {
      "text/html": [
       "<table class=\"simpletable\">\n",
       "<caption>OLS Regression Results</caption>\n",
       "<tr>\n",
       "  <th>Dep. Variable:</th>          <td>Price</td>      <th>  R-squared (uncentered):</th>       <td>   0.683</td>  \n",
       "</tr>\n",
       "<tr>\n",
       "  <th>Model:</th>                   <td>OLS</td>       <th>  Adj. R-squared (uncentered):</th>  <td>   0.683</td>  \n",
       "</tr>\n",
       "<tr>\n",
       "  <th>Method:</th>             <td>Least Squares</td>  <th>  F-statistic:       </th>           <td>   1752.</td>  \n",
       "</tr>\n",
       "<tr>\n",
       "  <th>Date:</th>             <td>Tue, 12 Jul 2022</td> <th>  Prob (F-statistic):</th>            <td>  0.00</td>   \n",
       "</tr>\n",
       "<tr>\n",
       "  <th>Time:</th>                 <td>19:12:56</td>     <th>  Log-Likelihood:    </th>          <td>-1.3010e+05</td>\n",
       "</tr>\n",
       "<tr>\n",
       "  <th>No. Observations:</th>      <td> 12188</td>      <th>  AIC:               </th>           <td>2.602e+05</td> \n",
       "</tr>\n",
       "<tr>\n",
       "  <th>Df Residuals:</th>          <td> 12173</td>      <th>  BIC:               </th>           <td>2.603e+05</td> \n",
       "</tr>\n",
       "<tr>\n",
       "  <th>Df Model:</th>              <td>    15</td>      <th>                     </th>               <td> </td>     \n",
       "</tr>\n",
       "<tr>\n",
       "  <th>Covariance Type:</th>      <td>nonrobust</td>    <th>                     </th>               <td> </td>     \n",
       "</tr>\n",
       "</table>\n",
       "<table class=\"simpletable\">\n",
       "<tr>\n",
       "           <td></td>             <th>coef</th>     <th>std err</th>      <th>t</th>      <th>P>|t|</th>  <th>[0.025</th>    <th>0.975]</th>  \n",
       "</tr>\n",
       "<tr>\n",
       "  <th>Levy</th>               <td>   -0.5182</td> <td>    0.244</td> <td>   -2.125</td> <td> 0.034</td> <td>   -0.996</td> <td>   -0.040</td>\n",
       "</tr>\n",
       "<tr>\n",
       "  <th>Prod. year</th>         <td>    9.5323</td> <td>    0.405</td> <td>   23.553</td> <td> 0.000</td> <td>    8.739</td> <td>   10.326</td>\n",
       "</tr>\n",
       "<tr>\n",
       "  <th>Category</th>           <td> -287.2180</td> <td>   37.317</td> <td>   -7.697</td> <td> 0.000</td> <td> -360.366</td> <td> -214.070</td>\n",
       "</tr>\n",
       "<tr>\n",
       "  <th>Leather interior</th>   <td> 1302.7437</td> <td>  251.477</td> <td>    5.180</td> <td> 0.000</td> <td>  809.808</td> <td> 1795.679</td>\n",
       "</tr>\n",
       "<tr>\n",
       "  <th>Fuel type</th>          <td> -701.3074</td> <td>   57.448</td> <td>  -12.208</td> <td> 0.000</td> <td> -813.914</td> <td> -588.701</td>\n",
       "</tr>\n",
       "<tr>\n",
       "  <th>Engine volume</th>      <td>  877.1936</td> <td>  189.305</td> <td>    4.634</td> <td> 0.000</td> <td>  506.125</td> <td> 1248.262</td>\n",
       "</tr>\n",
       "<tr>\n",
       "  <th>Mileage</th>            <td>   -0.0321</td> <td>    0.001</td> <td>  -25.509</td> <td> 0.000</td> <td>   -0.035</td> <td>   -0.030</td>\n",
       "</tr>\n",
       "<tr>\n",
       "  <th>Gear box type</th>      <td> 2121.1020</td> <td>  117.374</td> <td>   18.071</td> <td> 0.000</td> <td> 1891.030</td> <td> 2351.174</td>\n",
       "</tr>\n",
       "<tr>\n",
       "  <th>Drive wheels</th>       <td>  687.1555</td> <td>  200.945</td> <td>    3.420</td> <td> 0.001</td> <td>  293.271</td> <td> 1081.040</td>\n",
       "</tr>\n",
       "<tr>\n",
       "  <th>Doors</th>              <td> 3073.4754</td> <td>  525.122</td> <td>    5.853</td> <td> 0.000</td> <td> 2044.154</td> <td> 4102.797</td>\n",
       "</tr>\n",
       "<tr>\n",
       "  <th>Wheel</th>              <td>-7500.0896</td> <td>  375.358</td> <td>  -19.981</td> <td> 0.000</td> <td>-8235.852</td> <td>-6764.328</td>\n",
       "</tr>\n",
       "<tr>\n",
       "  <th>Color</th>              <td>   38.2998</td> <td>   17.966</td> <td>    2.132</td> <td> 0.033</td> <td>    3.084</td> <td>   73.516</td>\n",
       "</tr>\n",
       "<tr>\n",
       "  <th>Airbags</th>            <td> -439.2754</td> <td>   25.393</td> <td>  -17.299</td> <td> 0.000</td> <td> -489.050</td> <td> -389.501</td>\n",
       "</tr>\n",
       "<tr>\n",
       "  <th>Car model</th>          <td>   -0.7494</td> <td>    0.302</td> <td>   -2.486</td> <td> 0.013</td> <td>   -1.340</td> <td>   -0.158</td>\n",
       "</tr>\n",
       "<tr>\n",
       "  <th>Engine volume Type</th> <td> 4651.7362</td> <td>  341.387</td> <td>   13.626</td> <td> 0.000</td> <td> 3982.563</td> <td> 5320.910</td>\n",
       "</tr>\n",
       "</table>\n",
       "<table class=\"simpletable\">\n",
       "<tr>\n",
       "  <th>Omnibus:</th>       <td>539.444</td> <th>  Durbin-Watson:     </th> <td>   2.004</td> \n",
       "</tr>\n",
       "<tr>\n",
       "  <th>Prob(Omnibus):</th> <td> 0.000</td>  <th>  Jarque-Bera (JB):  </th> <td> 613.560</td> \n",
       "</tr>\n",
       "<tr>\n",
       "  <th>Skew:</th>          <td> 0.549</td>  <th>  Prob(JB):          </th> <td>5.85e-134</td>\n",
       "</tr>\n",
       "<tr>\n",
       "  <th>Kurtosis:</th>      <td> 3.054</td>  <th>  Cond. No.          </th> <td>8.49e+05</td> \n",
       "</tr>\n",
       "</table><br/><br/>Notes:<br/>[1] R² is computed without centering (uncentered) since the model does not contain a constant.<br/>[2] Standard Errors assume that the covariance matrix of the errors is correctly specified.<br/>[3] The condition number is large, 8.49e+05. This might indicate that there are<br/>strong multicollinearity or other numerical problems."
      ],
      "text/plain": [
       "<class 'statsmodels.iolib.summary.Summary'>\n",
       "\"\"\"\n",
       "                                 OLS Regression Results                                \n",
       "=======================================================================================\n",
       "Dep. Variable:                  Price   R-squared (uncentered):                   0.683\n",
       "Model:                            OLS   Adj. R-squared (uncentered):              0.683\n",
       "Method:                 Least Squares   F-statistic:                              1752.\n",
       "Date:                Tue, 12 Jul 2022   Prob (F-statistic):                        0.00\n",
       "Time:                        19:12:56   Log-Likelihood:                     -1.3010e+05\n",
       "No. Observations:               12188   AIC:                                  2.602e+05\n",
       "Df Residuals:                   12173   BIC:                                  2.603e+05\n",
       "Df Model:                          15                                                  \n",
       "Covariance Type:            nonrobust                                                  \n",
       "======================================================================================\n",
       "                         coef    std err          t      P>|t|      [0.025      0.975]\n",
       "--------------------------------------------------------------------------------------\n",
       "Levy                  -0.5182      0.244     -2.125      0.034      -0.996      -0.040\n",
       "Prod. year             9.5323      0.405     23.553      0.000       8.739      10.326\n",
       "Category            -287.2180     37.317     -7.697      0.000    -360.366    -214.070\n",
       "Leather interior    1302.7437    251.477      5.180      0.000     809.808    1795.679\n",
       "Fuel type           -701.3074     57.448    -12.208      0.000    -813.914    -588.701\n",
       "Engine volume        877.1936    189.305      4.634      0.000     506.125    1248.262\n",
       "Mileage               -0.0321      0.001    -25.509      0.000      -0.035      -0.030\n",
       "Gear box type       2121.1020    117.374     18.071      0.000    1891.030    2351.174\n",
       "Drive wheels         687.1555    200.945      3.420      0.001     293.271    1081.040\n",
       "Doors               3073.4754    525.122      5.853      0.000    2044.154    4102.797\n",
       "Wheel              -7500.0896    375.358    -19.981      0.000   -8235.852   -6764.328\n",
       "Color                 38.2998     17.966      2.132      0.033       3.084      73.516\n",
       "Airbags             -439.2754     25.393    -17.299      0.000    -489.050    -389.501\n",
       "Car model             -0.7494      0.302     -2.486      0.013      -1.340      -0.158\n",
       "Engine volume Type  4651.7362    341.387     13.626      0.000    3982.563    5320.910\n",
       "==============================================================================\n",
       "Omnibus:                      539.444   Durbin-Watson:                   2.004\n",
       "Prob(Omnibus):                  0.000   Jarque-Bera (JB):              613.560\n",
       "Skew:                           0.549   Prob(JB):                    5.85e-134\n",
       "Kurtosis:                       3.054   Cond. No.                     8.49e+05\n",
       "==============================================================================\n",
       "\n",
       "Notes:\n",
       "[1] R² is computed without centering (uncentered) since the model does not contain a constant.\n",
       "[2] Standard Errors assume that the covariance matrix of the errors is correctly specified.\n",
       "[3] The condition number is large, 8.49e+05. This might indicate that there are\n",
       "strong multicollinearity or other numerical problems.\n",
       "\"\"\""
      ]
     },
     "execution_count": 107,
     "metadata": {},
     "output_type": "execute_result"
    }
   ],
   "source": [
    "reg_model.summary()"
   ]
  },
  {
   "cell_type": "markdown",
   "id": "c03611a0",
   "metadata": {
    "papermill": {
     "duration": 0.055437,
     "end_time": "2022-07-12T19:12:56.391516",
     "exception": false,
     "start_time": "2022-07-12T19:12:56.336079",
     "status": "completed"
    },
    "tags": []
   },
   "source": [
    "### Observations: \n",
    "##### The R2 and Adj R2 values are almost same. which is 68% accuracy. \n",
    "#### If we observe the p-value in the table all variables have values less than 0.05. So there is no need to drop "
   ]
  },
  {
   "cell_type": "code",
   "execution_count": 108,
   "id": "50ea443f",
   "metadata": {
    "execution": {
     "iopub.execute_input": "2022-07-12T19:12:56.504559Z",
     "iopub.status.busy": "2022-07-12T19:12:56.504210Z",
     "iopub.status.idle": "2022-07-12T19:12:56.732181Z",
     "shell.execute_reply": "2022-07-12T19:12:56.730890Z"
    },
    "papermill": {
     "duration": 0.287868,
     "end_time": "2022-07-12T19:12:56.735432",
     "exception": false,
     "start_time": "2022-07-12T19:12:56.447564",
     "status": "completed"
    },
    "tags": []
   },
   "outputs": [
    {
     "data": {
      "text/plain": [
       "<AxesSubplot:xlabel='Price', ylabel='Density'>"
      ]
     },
     "execution_count": 108,
     "metadata": {},
     "output_type": "execute_result"
    },
    {
     "data": {
      "image/png": "[encoded data removed]",
      "text/plain": [
       "<Figure size 432x288 with 1 Axes>"
      ]
     },
     "metadata": {
      "needs_background": "light"
     },
     "output_type": "display_data"
    }
   ],
   "source": [
    "sns.distplot((y_test - y_pred),bins=50)"
   ]
  },
  {
   "cell_type": "markdown",
   "id": "eab5307b",
   "metadata": {
    "papermill": {
     "duration": 0.056015,
     "end_time": "2022-07-12T19:12:56.847712",
     "exception": false,
     "start_time": "2022-07-12T19:12:56.791697",
     "status": "completed"
    },
    "tags": []
   },
   "source": [
    "### We can observe a normal distribution in the prediction"
   ]
  },
  {
   "cell_type": "markdown",
   "id": "22259727",
   "metadata": {
    "papermill": {
     "duration": 0.056307,
     "end_time": "2022-07-12T19:12:56.961976",
     "exception": false,
     "start_time": "2022-07-12T19:12:56.905669",
     "status": "completed"
    },
    "tags": []
   },
   "source": [
    "##### Model evaluation using Mean Absolute Error, Mean Squared Error and Root Mean Squared Error"
   ]
  },
  {
   "cell_type": "code",
   "execution_count": 109,
   "id": "5f413fe8",
   "metadata": {
    "execution": {
     "iopub.execute_input": "2022-07-12T19:12:57.078190Z",
     "iopub.status.busy": "2022-07-12T19:12:57.077426Z",
     "iopub.status.idle": "2022-07-12T19:12:57.082303Z",
     "shell.execute_reply": "2022-07-12T19:12:57.081530Z"
    },
    "papermill": {
     "duration": 0.065888,
     "end_time": "2022-07-12T19:12:57.084490",
     "exception": false,
     "start_time": "2022-07-12T19:12:57.018602",
     "status": "completed"
    },
    "tags": []
   },
   "outputs": [],
   "source": [
    "from sklearn import metrics"
   ]
  },
  {
   "cell_type": "code",
   "execution_count": 110,
   "id": "483f42dc",
   "metadata": {
    "execution": {
     "iopub.execute_input": "2022-07-12T19:12:57.200071Z",
     "iopub.status.busy": "2022-07-12T19:12:57.199353Z",
     "iopub.status.idle": "2022-07-12T19:12:57.207697Z",
     "shell.execute_reply": "2022-07-12T19:12:57.206716Z"
    },
    "papermill": {
     "duration": 0.068672,
     "end_time": "2022-07-12T19:12:57.210234",
     "exception": false,
     "start_time": "2022-07-12T19:12:57.141562",
     "status": "completed"
    },
    "tags": []
   },
   "outputs": [
    {
     "name": "stdout",
     "output_type": "stream",
     "text": [
      "RMSE: 10201.711649763361\n",
      "MSE: 104074920.58491747\n",
      "MAE: 8036.825081320541\n"
     ]
    }
   ],
   "source": [
    "print('RMSE:', np.sqrt(metrics.mean_squared_error(y_test, y_pred)))\n",
    "print('MSE:', metrics.mean_squared_error(y_test, y_pred))\n",
    "print('MAE:', metrics.mean_absolute_error(y_test, y_pred))"
   ]
  },
  {
   "cell_type": "markdown",
   "id": "da32ca6a",
   "metadata": {
    "papermill": {
     "duration": 0.062829,
     "end_time": "2022-07-12T19:12:57.335265",
     "exception": false,
     "start_time": "2022-07-12T19:12:57.272436",
     "status": "completed"
    },
    "tags": []
   },
   "source": [
    "### Building Model using DecisionTreeRegressor"
   ]
  },
  {
   "cell_type": "code",
   "execution_count": 111,
   "id": "724f687c",
   "metadata": {
    "execution": {
     "iopub.execute_input": "2022-07-12T19:12:57.456602Z",
     "iopub.status.busy": "2022-07-12T19:12:57.455818Z",
     "iopub.status.idle": "2022-07-12T19:12:57.620044Z",
     "shell.execute_reply": "2022-07-12T19:12:57.618891Z"
    },
    "papermill": {
     "duration": 0.226966,
     "end_time": "2022-07-12T19:12:57.622952",
     "exception": false,
     "start_time": "2022-07-12T19:12:57.395986",
     "status": "completed"
    },
    "tags": []
   },
   "outputs": [
    {
     "data": {
      "text/plain": [
       "DecisionTreeRegressor()"
      ]
     },
     "execution_count": 111,
     "metadata": {},
     "output_type": "execute_result"
    }
   ],
   "source": [
    "from sklearn.tree import DecisionTreeRegressor\n",
    "dt_model = DecisionTreeRegressor()\n",
    "dt_model.fit(x_train,y_train)"
   ]
  },
  {
   "cell_type": "code",
   "execution_count": 112,
   "id": "a7e52556",
   "metadata": {
    "execution": {
     "iopub.execute_input": "2022-07-12T19:12:57.737964Z",
     "iopub.status.busy": "2022-07-12T19:12:57.737398Z",
     "iopub.status.idle": "2022-07-12T19:12:57.751951Z",
     "shell.execute_reply": "2022-07-12T19:12:57.751151Z"
    },
    "papermill": {
     "duration": 0.074961,
     "end_time": "2022-07-12T19:12:57.754419",
     "exception": false,
     "start_time": "2022-07-12T19:12:57.679458",
     "status": "completed"
    },
    "tags": []
   },
   "outputs": [],
   "source": [
    "y_pred_train = dt_model.predict(x_train)\n",
    "y_pred_test = dt_model.predict(x_test)"
   ]
  },
  {
   "cell_type": "code",
   "execution_count": 113,
   "id": "d5f752ef",
   "metadata": {
    "execution": {
     "iopub.execute_input": "2022-07-12T19:12:57.869264Z",
     "iopub.status.busy": "2022-07-12T19:12:57.868629Z",
     "iopub.status.idle": "2022-07-12T19:12:57.876521Z",
     "shell.execute_reply": "2022-07-12T19:12:57.875458Z"
    },
    "papermill": {
     "duration": 0.068281,
     "end_time": "2022-07-12T19:12:57.878622",
     "exception": false,
     "start_time": "2022-07-12T19:12:57.810341",
     "status": "completed"
    },
    "tags": []
   },
   "outputs": [
    {
     "data": {
      "text/plain": [
       "99.59272379528156"
      ]
     },
     "execution_count": 113,
     "metadata": {},
     "output_type": "execute_result"
    }
   ],
   "source": [
    "from sklearn.metrics import r2_score\n",
    "r2_score(y_train,y_pred_train)*100"
   ]
  },
  {
   "cell_type": "code",
   "execution_count": 114,
   "id": "d271bfc9",
   "metadata": {
    "execution": {
     "iopub.execute_input": "2022-07-12T19:12:57.994900Z",
     "iopub.status.busy": "2022-07-12T19:12:57.994334Z",
     "iopub.status.idle": "2022-07-12T19:12:58.003435Z",
     "shell.execute_reply": "2022-07-12T19:12:58.002448Z"
    },
    "papermill": {
     "duration": 0.069427,
     "end_time": "2022-07-12T19:12:58.005770",
     "exception": false,
     "start_time": "2022-07-12T19:12:57.936343",
     "status": "completed"
    },
    "tags": []
   },
   "outputs": [
    {
     "data": {
      "text/plain": [
       "55.349561619117104"
      ]
     },
     "execution_count": 114,
     "metadata": {},
     "output_type": "execute_result"
    }
   ],
   "source": [
    "r2_score(y_test,y_pred_test)*100"
   ]
  },
  {
   "cell_type": "markdown",
   "id": "e75cdecf",
   "metadata": {
    "papermill": {
     "duration": 0.060072,
     "end_time": "2022-07-12T19:12:58.128483",
     "exception": false,
     "start_time": "2022-07-12T19:12:58.068411",
     "status": "completed"
    },
    "tags": []
   },
   "source": [
    "### Observations:\n",
    "##### We can observe that we get 99% Training accuracy  and 54% Testing accuracy while using the DTRegressor"
   ]
  },
  {
   "cell_type": "markdown",
   "id": "301a44cf",
   "metadata": {
    "papermill": {
     "duration": 0.057486,
     "end_time": "2022-07-12T19:12:58.245748",
     "exception": false,
     "start_time": "2022-07-12T19:12:58.188262",
     "status": "completed"
    },
    "tags": []
   },
   "source": [
    "### Building Model using RandomForestRegressor"
   ]
  },
  {
   "cell_type": "code",
   "execution_count": 115,
   "id": "e7b89dbe",
   "metadata": {
    "execution": {
     "iopub.execute_input": "2022-07-12T19:12:58.361821Z",
     "iopub.status.busy": "2022-07-12T19:12:58.361084Z",
     "iopub.status.idle": "2022-07-12T19:13:03.046573Z",
     "shell.execute_reply": "2022-07-12T19:13:03.045099Z"
    },
    "papermill": {
     "duration": 4.747188,
     "end_time": "2022-07-12T19:13:03.049674",
     "exception": false,
     "start_time": "2022-07-12T19:12:58.302486",
     "status": "completed"
    },
    "tags": []
   },
   "outputs": [
    {
     "data": {
      "text/plain": [
       "RandomForestRegressor()"
      ]
     },
     "execution_count": 115,
     "metadata": {},
     "output_type": "execute_result"
    }
   ],
   "source": [
    "from sklearn.ensemble import RandomForestRegressor\n",
    "rf_model = RandomForestRegressor()\n",
    "rf_model.fit(x_train,y_train)"
   ]
  },
  {
   "cell_type": "code",
   "execution_count": 116,
   "id": "6c18a548",
   "metadata": {
    "execution": {
     "iopub.execute_input": "2022-07-12T19:13:03.204944Z",
     "iopub.status.busy": "2022-07-12T19:13:03.204569Z",
     "iopub.status.idle": "2022-07-12T19:13:03.679356Z",
     "shell.execute_reply": "2022-07-12T19:13:03.678046Z"
    },
    "papermill": {
     "duration": 0.558442,
     "end_time": "2022-07-12T19:13:03.682276",
     "exception": false,
     "start_time": "2022-07-12T19:13:03.123834",
     "status": "completed"
    },
    "tags": []
   },
   "outputs": [],
   "source": [
    "y_pred_rf_train = rf_model.predict(x_train)\n",
    "y_pred_rf_test = rf_model.predict(x_test)"
   ]
  },
  {
   "cell_type": "code",
   "execution_count": 117,
   "id": "d20750cb",
   "metadata": {
    "execution": {
     "iopub.execute_input": "2022-07-12T19:13:03.800063Z",
     "iopub.status.busy": "2022-07-12T19:13:03.799341Z",
     "iopub.status.idle": "2022-07-12T19:13:03.807255Z",
     "shell.execute_reply": "2022-07-12T19:13:03.806193Z"
    },
    "papermill": {
     "duration": 0.068934,
     "end_time": "2022-07-12T19:13:03.809434",
     "exception": false,
     "start_time": "2022-07-12T19:13:03.740500",
     "status": "completed"
    },
    "tags": []
   },
   "outputs": [
    {
     "data": {
      "text/plain": [
       "96.65485459728593"
      ]
     },
     "execution_count": 117,
     "metadata": {},
     "output_type": "execute_result"
    }
   ],
   "source": [
    "from sklearn.metrics import r2_score\n",
    "r2_score(y_train,y_pred_rf_train)*100"
   ]
  },
  {
   "cell_type": "code",
   "execution_count": 118,
   "id": "ec9cb1ac",
   "metadata": {
    "execution": {
     "iopub.execute_input": "2022-07-12T19:13:03.926402Z",
     "iopub.status.busy": "2022-07-12T19:13:03.925795Z",
     "iopub.status.idle": "2022-07-12T19:13:03.933335Z",
     "shell.execute_reply": "2022-07-12T19:13:03.932273Z"
    },
    "papermill": {
     "duration": 0.069046,
     "end_time": "2022-07-12T19:13:03.935564",
     "exception": false,
     "start_time": "2022-07-12T19:13:03.866518",
     "status": "completed"
    },
    "tags": []
   },
   "outputs": [
    {
     "data": {
      "text/plain": [
       "75.1312939022138"
      ]
     },
     "execution_count": 118,
     "metadata": {},
     "output_type": "execute_result"
    }
   ],
   "source": [
    "r2_score(y_test,y_pred_rf_test)*100"
   ]
  },
  {
   "cell_type": "markdown",
   "id": "c6d4101c",
   "metadata": {
    "papermill": {
     "duration": 0.059783,
     "end_time": "2022-07-12T19:13:04.053487",
     "exception": false,
     "start_time": "2022-07-12T19:13:03.993704",
     "status": "completed"
    },
    "tags": []
   },
   "source": [
    "### Observations:\n",
    "##### We can observe that we get 96% Training accuracy  and 75% Testing accuracy while using the RFRegressor"
   ]
  },
  {
   "cell_type": "markdown",
   "id": "6d091610",
   "metadata": {
    "papermill": {
     "duration": 0.062746,
     "end_time": "2022-07-12T19:13:04.174197",
     "exception": false,
     "start_time": "2022-07-12T19:13:04.111451",
     "status": "completed"
    },
    "tags": []
   },
   "source": [
    "### We can conclude that we get the best accuracy when we use RandomForest Regressor as compared to other models such as Linear Regression and DecisionTree Regressor "
   ]
  },
  {
   "cell_type": "code",
   "execution_count": null,
   "id": "6ec978c5",
   "metadata": {
    "papermill": {
     "duration": 0.060893,
     "end_time": "2022-07-12T19:13:04.296496",
     "exception": false,
     "start_time": "2022-07-12T19:13:04.235603",
     "status": "completed"
    },
    "tags": []
   },
   "outputs": [],
   "source": []
  }
 ],
 "metadata": {
  "kernelspec": {
   "display_name": "Python 3 (ipykernel)",
   "language": "python",
   "name": "python3"
  },
  "language_info": {
   "codemirror_mode": {
    "name": "ipython",
    "version": 3
   },
   "file_extension": ".py",
   "mimetype": "text/x-python",
   "name": "python",
   "nbconvert_exporter": "python",
   "pygments_lexer": "ipython3",
   "version": "3.8.8"
  },
  "papermill": {
   "default_parameters": {},
   "duration": 43.790004,
   "end_time": "2022-07-12T19:13:05.683596",
   "environment_variables": {},
   "exception": null,
   "input_path": "__notebook__.ipynb",
   "output_path": "__notebook__.ipynb",
   "parameters": {},
   "start_time": "2022-07-12T19:12:21.893592",
   "version": "2.3.4"
  }
 },
 "nbformat": 4,
 "nbformat_minor": 5
}
